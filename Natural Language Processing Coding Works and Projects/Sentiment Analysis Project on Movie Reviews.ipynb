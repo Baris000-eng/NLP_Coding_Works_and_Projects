{
 "cells": [
  {
   "cell_type": "code",
   "execution_count": 1,
   "id": "4657ecea",
   "metadata": {},
   "outputs": [
    {
     "name": "stdout",
     "output_type": "stream",
     "text": [
      "     label                                             review\n",
      "0      neg  how do films like mouse hunt get into theatres...\n",
      "1      neg  some talented actresses are blessed with a dem...\n",
      "2      pos  this has been an extraordinary year for austra...\n",
      "3      pos  according to hollywood movies made in last few...\n",
      "4      neg  my first press screening of 1998 and already i...\n",
      "...    ...                                                ...\n",
      "1995   pos  i like movies with albert brooks , and i reall...\n",
      "1996   pos  it might surprise some to know that joel and e...\n",
      "1997   pos  the verdict : spine-chilling drama from horror...\n",
      "1998   pos  i want to correct what i wrote in a former ret...\n",
      "1999   pos  a couple of months ago , when i first download...\n",
      "\n",
      "[2000 rows x 2 columns]\n"
     ]
    }
   ],
   "source": [
    "import pandas as pd\n",
    "import numpy as np\n",
    "\n",
    "df = pd.read_csv('moviereviews.tsv', sep='\\t')\n",
    "print(df)"
   ]
  },
  {
   "cell_type": "code",
   "execution_count": 5,
   "id": "4e95792f",
   "metadata": {},
   "outputs": [
    {
     "name": "stdout",
     "output_type": "stream",
     "text": [
      "\n",
      "The total number of rows in this movie reviews data frame: 2000\n",
      "The total number of columns in this movie reviews data frame: 2\n",
      "\n"
     ]
    }
   ],
   "source": [
    "row_num, col_num = df.shape\n",
    "print()\n",
    "print(\"The total number of rows in this movie reviews data frame: \"+str(row_num)+\"\")\n",
    "print(\"The total number of columns in this movie reviews data frame: \"+str(col_num)+\"\")\n",
    "print()"
   ]
  },
  {
   "cell_type": "code",
   "execution_count": 6,
   "id": "e5ee431f",
   "metadata": {},
   "outputs": [
    {
     "data": {
      "text/html": [
       "<div>\n",
       "<style scoped>\n",
       "    .dataframe tbody tr th:only-of-type {\n",
       "        vertical-align: middle;\n",
       "    }\n",
       "\n",
       "    .dataframe tbody tr th {\n",
       "        vertical-align: top;\n",
       "    }\n",
       "\n",
       "    .dataframe thead th {\n",
       "        text-align: right;\n",
       "    }\n",
       "</style>\n",
       "<table border=\"1\" class=\"dataframe\">\n",
       "  <thead>\n",
       "    <tr style=\"text-align: right;\">\n",
       "      <th></th>\n",
       "      <th>label</th>\n",
       "      <th>review</th>\n",
       "    </tr>\n",
       "  </thead>\n",
       "  <tbody>\n",
       "    <tr>\n",
       "      <th>0</th>\n",
       "      <td>False</td>\n",
       "      <td>False</td>\n",
       "    </tr>\n",
       "    <tr>\n",
       "      <th>1</th>\n",
       "      <td>False</td>\n",
       "      <td>False</td>\n",
       "    </tr>\n",
       "    <tr>\n",
       "      <th>2</th>\n",
       "      <td>False</td>\n",
       "      <td>False</td>\n",
       "    </tr>\n",
       "    <tr>\n",
       "      <th>3</th>\n",
       "      <td>False</td>\n",
       "      <td>False</td>\n",
       "    </tr>\n",
       "    <tr>\n",
       "      <th>4</th>\n",
       "      <td>False</td>\n",
       "      <td>False</td>\n",
       "    </tr>\n",
       "    <tr>\n",
       "      <th>...</th>\n",
       "      <td>...</td>\n",
       "      <td>...</td>\n",
       "    </tr>\n",
       "    <tr>\n",
       "      <th>1995</th>\n",
       "      <td>False</td>\n",
       "      <td>False</td>\n",
       "    </tr>\n",
       "    <tr>\n",
       "      <th>1996</th>\n",
       "      <td>False</td>\n",
       "      <td>False</td>\n",
       "    </tr>\n",
       "    <tr>\n",
       "      <th>1997</th>\n",
       "      <td>False</td>\n",
       "      <td>False</td>\n",
       "    </tr>\n",
       "    <tr>\n",
       "      <th>1998</th>\n",
       "      <td>False</td>\n",
       "      <td>False</td>\n",
       "    </tr>\n",
       "    <tr>\n",
       "      <th>1999</th>\n",
       "      <td>False</td>\n",
       "      <td>False</td>\n",
       "    </tr>\n",
       "  </tbody>\n",
       "</table>\n",
       "<p>2000 rows × 2 columns</p>\n",
       "</div>"
      ],
      "text/plain": [
       "      label  review\n",
       "0     False   False\n",
       "1     False   False\n",
       "2     False   False\n",
       "3     False   False\n",
       "4     False   False\n",
       "...     ...     ...\n",
       "1995  False   False\n",
       "1996  False   False\n",
       "1997  False   False\n",
       "1998  False   False\n",
       "1999  False   False\n",
       "\n",
       "[2000 rows x 2 columns]"
      ]
     },
     "execution_count": 6,
     "metadata": {},
     "output_type": "execute_result"
    }
   ],
   "source": [
    "df.isnull()"
   ]
  },
  {
   "cell_type": "code",
   "execution_count": 7,
   "id": "bd6c1f99",
   "metadata": {},
   "outputs": [
    {
     "data": {
      "text/plain": [
       "label      0\n",
       "review    35\n",
       "dtype: int64"
      ]
     },
     "execution_count": 7,
     "metadata": {},
     "output_type": "execute_result"
    }
   ],
   "source": [
    "df.isnull().sum()"
   ]
  },
  {
   "cell_type": "code",
   "execution_count": 23,
   "id": "a100e2fb",
   "metadata": {},
   "outputs": [
    {
     "name": "stdout",
     "output_type": "stream",
     "text": [
      "label     0\n",
      "review    0\n",
      "dtype: int64\n"
     ]
    }
   ],
   "source": [
    "# As we can see in the output, there are 35 reviews missing in the 'review' column.\n",
    "print(df.isnull().sum())"
   ]
  },
  {
   "cell_type": "code",
   "execution_count": 24,
   "id": "77c7e222",
   "metadata": {},
   "outputs": [],
   "source": [
    "df.dropna(inplace=True)\n",
    "print(df.isnull().sum())"
   ]
  },
  {
   "cell_type": "code",
   "execution_count": 25,
   "id": "ad15caaf",
   "metadata": {},
   "outputs": [
    {
     "name": "stdout",
     "output_type": "stream",
     "text": [
      "[]\n"
     ]
    }
   ],
   "source": [
    "blanks = list()\n",
    "for index, label, review in df.itertuples():\n",
    "    if type(review) == str and review.isspace():\n",
    "        blanks.append(index)\n",
    "        \n",
    "print(blanks)"
   ]
  },
  {
   "cell_type": "code",
   "execution_count": 26,
   "id": "93448bd0",
   "metadata": {},
   "outputs": [],
   "source": [
    "df.drop(blanks, inplace = True)"
   ]
  },
  {
   "cell_type": "code",
   "execution_count": 27,
   "id": "7f008ece",
   "metadata": {},
   "outputs": [
    {
     "name": "stdout",
     "output_type": "stream",
     "text": [
      "label     0\n",
      "review    0\n",
      "dtype: int64\n"
     ]
    }
   ],
   "source": [
    "print(df.isnull().sum())"
   ]
  },
  {
   "cell_type": "code",
   "execution_count": 22,
   "id": "205fad28",
   "metadata": {},
   "outputs": [],
   "source": [
    "# We can either use df.drop(blank_positions, inplace=True) or df.dropna(inplace=True) method to drop the null \n",
    "# values from the data frame called 'df'."
   ]
  },
  {
   "cell_type": "code",
   "execution_count": 28,
   "id": "15227960",
   "metadata": {},
   "outputs": [
    {
     "data": {
      "text/plain": [
       "neg    969\n",
       "pos    969\n",
       "Name: label, dtype: int64"
      ]
     },
     "execution_count": 28,
     "metadata": {},
     "output_type": "execute_result"
    }
   ],
   "source": [
    "df['label'].value_counts()"
   ]
  },
  {
   "cell_type": "code",
   "execution_count": 29,
   "id": "f7c61e64",
   "metadata": {},
   "outputs": [
    {
     "name": "stdout",
     "output_type": "stream",
     "text": [
      "neg    969\n",
      "pos    969\n",
      "Name: label, dtype: int64\n"
     ]
    }
   ],
   "source": [
    "# gets the total number of each label type in the 'label' column of the dataframe called 'df'\n",
    "labels = df['label']\n",
    "print(labels.value_counts())"
   ]
  },
  {
   "cell_type": "code",
   "execution_count": 31,
   "id": "806e7556",
   "metadata": {},
   "outputs": [
    {
     "name": "stdout",
     "output_type": "stream",
     "text": [
      "The total number of negative reviews in the movie reviews data frame: 969\n",
      "The total number of positive reviews in the movie reviews data frame: 969\n"
     ]
    }
   ],
   "source": [
    "neg_count = labels.value_counts()['neg']\n",
    "pos_count = labels.value_counts()['pos']\n",
    "print(\"The total number of negative reviews in the movie reviews data frame: \"+str(neg_count)+\"\")\n",
    "print(\"The total number of positive reviews in the movie reviews data frame: \"+str(pos_count)+\"\")"
   ]
  },
  {
   "cell_type": "code",
   "execution_count": 34,
   "id": "5775406a",
   "metadata": {},
   "outputs": [
    {
     "name": "stdout",
     "output_type": "stream",
     "text": [
      "     label                                             review  \\\n",
      "0      neg  how do films like mouse hunt get into theatres...   \n",
      "1      neg  some talented actresses are blessed with a dem...   \n",
      "2      pos  this has been an extraordinary year for austra...   \n",
      "3      pos  according to hollywood movies made in last few...   \n",
      "4      neg  my first press screening of 1998 and already i...   \n",
      "...    ...                                                ...   \n",
      "1995   pos  i like movies with albert brooks , and i reall...   \n",
      "1996   pos  it might surprise some to know that joel and e...   \n",
      "1997   pos  the verdict : spine-chilling drama from horror...   \n",
      "1998   pos  i want to correct what i wrote in a former ret...   \n",
      "1999   pos  a couple of months ago , when i first download...   \n",
      "\n",
      "                                                 scores  compound  \n",
      "0     {'neg': 0.121, 'neu': 0.778, 'pos': 0.101, 'co...   -0.9125  \n",
      "1     {'neg': 0.12, 'neu': 0.775, 'pos': 0.105, 'com...   -0.8618  \n",
      "2     {'neg': 0.068, 'neu': 0.781, 'pos': 0.15, 'com...    0.9951  \n",
      "3     {'neg': 0.071, 'neu': 0.782, 'pos': 0.147, 'co...    0.9972  \n",
      "4     {'neg': 0.091, 'neu': 0.817, 'pos': 0.093, 'co...   -0.2484  \n",
      "...                                                 ...       ...  \n",
      "1995  {'neg': 0.073, 'neu': 0.763, 'pos': 0.164, 'co...    0.9991  \n",
      "1996  {'neg': 0.238, 'neu': 0.688, 'pos': 0.074, 'co...   -0.9993  \n",
      "1997  {'neg': 0.15, 'neu': 0.702, 'pos': 0.147, 'com...   -0.5966  \n",
      "1998  {'neg': 0.131, 'neu': 0.71, 'pos': 0.16, 'comp...    0.9387  \n",
      "1999  {'neg': 0.071, 'neu': 0.741, 'pos': 0.189, 'co...    0.9982  \n",
      "\n",
      "[1938 rows x 4 columns]\n"
     ]
    }
   ],
   "source": [
    "# Perform sentiment analysis \n",
    "\n",
    "# Necessary imports\n",
    "from nltk.sentiment.vader import SentimentIntensityAnalyzer\n",
    "\n",
    "# Creating a 'SentimentIntensityAnalyzer' object\n",
    "sia = SentimentIntensityAnalyzer()\n",
    "\n",
    "df['scores'] = df['review'].apply(lambda review: sia.polarity_scores(review))\n",
    "df['compound'] = df['scores'].apply(lambda score: score['compound'])\n",
    "\n",
    "print(df)"
   ]
  },
  {
   "cell_type": "code",
   "execution_count": 37,
   "id": "290c0e71",
   "metadata": {},
   "outputs": [],
   "source": [
    "df['predicted_sentiment_label'] = df['compound'].apply(lambda score: \"neg\" if score < 0 else \"pos\")"
   ]
  },
  {
   "cell_type": "code",
   "execution_count": 38,
   "id": "e1ea9ef5",
   "metadata": {},
   "outputs": [
    {
     "name": "stdout",
     "output_type": "stream",
     "text": [
      "  label                                             review  \\\n",
      "0   neg  how do films like mouse hunt get into theatres...   \n",
      "1   neg  some talented actresses are blessed with a dem...   \n",
      "2   pos  this has been an extraordinary year for austra...   \n",
      "3   pos  according to hollywood movies made in last few...   \n",
      "4   neg  my first press screening of 1998 and already i...   \n",
      "\n",
      "                                              scores  compound  \\\n",
      "0  {'neg': 0.121, 'neu': 0.778, 'pos': 0.101, 'co...   -0.9125   \n",
      "1  {'neg': 0.12, 'neu': 0.775, 'pos': 0.105, 'com...   -0.8618   \n",
      "2  {'neg': 0.068, 'neu': 0.781, 'pos': 0.15, 'com...    0.9951   \n",
      "3  {'neg': 0.071, 'neu': 0.782, 'pos': 0.147, 'co...    0.9972   \n",
      "4  {'neg': 0.091, 'neu': 0.817, 'pos': 0.093, 'co...   -0.2484   \n",
      "\n",
      "  predicted_sentiment_label  \n",
      "0                       neg  \n",
      "1                       neg  \n",
      "2                       pos  \n",
      "3                       pos  \n",
      "4                       neg  \n"
     ]
    }
   ],
   "source": [
    "print(df.head())"
   ]
  },
  {
   "cell_type": "code",
   "execution_count": 45,
   "id": "69a02f35",
   "metadata": {},
   "outputs": [],
   "source": [
    "# Neccessary imports for the evaluation metrics\n",
    "from sklearn.metrics import confusion_matrix\n",
    "from sklearn.metrics import accuracy_score\n",
    "from sklearn.metrics import classification_report"
   ]
  },
  {
   "cell_type": "code",
   "execution_count": 46,
   "id": "45afe307",
   "metadata": {},
   "outputs": [
    {
     "name": "stdout",
     "output_type": "stream",
     "text": [
      "The overall accuracy is as below: \n",
      "\n",
      "0.6357069143446853\n",
      "\n",
      "---------------------------------------------------------\n",
      "The confusion matrix is as below: \n",
      "\n",
      "[[427 542]\n",
      " [164 805]]\n",
      "\n",
      "---------------------------------------------------------\n",
      "The classification report is as below: \n",
      "\n",
      "              precision    recall  f1-score   support\n",
      "\n",
      "         neg       0.72      0.44      0.55       969\n",
      "         pos       0.60      0.83      0.70       969\n",
      "\n",
      "    accuracy                           0.64      1938\n",
      "   macro avg       0.66      0.64      0.62      1938\n",
      "weighted avg       0.66      0.64      0.62      1938\n",
      "\n",
      "\n",
      "---------------------------------------------------------\n"
     ]
    }
   ],
   "source": [
    "# Performance evaluation on sentiment prediction\n",
    "\n",
    "true_values = df['label']\n",
    "predicted_values = df['predicted_sentiment_label']\n",
    "\n",
    "accuracy = accuracy_score(true_values, predicted_values)\n",
    "confusion_matrix = confusion_matrix(true_values, predicted_values)\n",
    "classification_report = classification_report(true_values, predicted_values)\n",
    "\n",
    "print(\"The overall accuracy is as below: \")\n",
    "print()\n",
    "print(accuracy)\n",
    "\n",
    "print()\n",
    "print(\"---------------------------------------------------------\")\n",
    "\n",
    "print(\"The confusion matrix is as below: \")\n",
    "print()\n",
    "print(confusion_matrix)\n",
    "\n",
    "print()\n",
    "print(\"---------------------------------------------------------\")\n",
    "\n",
    "print(\"The classification report is as below: \")\n",
    "print()\n",
    "print(classification_report)\n",
    "\n",
    "print()\n",
    "print(\"---------------------------------------------------------\")"
   ]
  },
  {
   "cell_type": "code",
   "execution_count": null,
   "id": "e2c5a43f",
   "metadata": {},
   "outputs": [],
   "source": []
  }
 ],
 "metadata": {
  "kernelspec": {
   "display_name": "Python 3 (ipykernel)",
   "language": "python",
   "name": "python3"
  },
  "language_info": {
   "codemirror_mode": {
    "name": "ipython",
    "version": 3
   },
   "file_extension": ".py",
   "mimetype": "text/x-python",
   "name": "python",
   "nbconvert_exporter": "python",
   "pygments_lexer": "ipython3",
   "version": "3.9.12"
  }
 },
 "nbformat": 4,
 "nbformat_minor": 5
}
