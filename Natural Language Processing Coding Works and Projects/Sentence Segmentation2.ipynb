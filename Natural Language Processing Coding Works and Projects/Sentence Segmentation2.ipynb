{
 "cells": [
  {
   "cell_type": "code",
   "execution_count": 5,
   "id": "a0efaefa",
   "metadata": {},
   "outputs": [
    {
     "name": "stdout",
     "output_type": "stream",
     "text": [
      "Our company created a brand new washing machine. This new washing-machine is the best in show.\n",
      "<class 'spacy.tokens.doc.Doc'>\n",
      "<spacy.matcher.phrasematcher.PhraseMatcher object at 0x7fd4222690b0>\n",
      "<class 'spacy.matcher.phrasematcher.PhraseMatcher'>\n"
     ]
    }
   ],
   "source": [
    "import spacy\n",
    "from spacy.matcher import PhraseMatcher\n",
    "nlp = spacy.load('en_core_web_sm')\n",
    "\n",
    "# Adding multiple phrases as NER parts\n",
    "new_doc = nlp(u\"Our company created a brand new washing machine.\"\n",
    "              u\" This new washing-machine is the best in show.\")\n",
    "print(new_doc)\n",
    "print(type(new_doc))\n",
    "\n",
    "phraseMatcher = PhraseMatcher(nlp.vocab)\n",
    "print(phraseMatcher)\n",
    "print(type(phraseMatcher))"
   ]
  },
  {
   "cell_type": "code",
   "execution_count": 6,
   "id": "daf15fb9",
   "metadata": {},
   "outputs": [
    {
     "name": "stdout",
     "output_type": "stream",
     "text": [
      "[washing-machine, washing machine] ===> <class 'list'>\n",
      "[(13872513214869071032, 6, 8), (13872513214869071032, 11, 14)]\n",
      ". This new washing\n"
     ]
    }
   ],
   "source": [
    "list_of_phrases = [\"washing-machine\", \"washing machine\"]\n",
    "phrase_patterns = []\n",
    "for phrase in list_of_phrases:\n",
    "    doc = nlp(phrase)\n",
    "    phrase_patterns.append(doc)\n",
    "    \n",
    "print(str(phrase_patterns) + \" ===> \" + str(type(phrase_patterns)))\n",
    "phraseMatcher.add('WashingMachine', phrase_patterns)\n",
    "found_matches = phraseMatcher(new_doc) # passing the new_doc document to the phrase matcher to find a sequence of matches with the document\n",
    "print(found_matches)\n",
    "print(new_doc[8], new_doc[9], new_doc[10], new_doc[11])"
   ]
  },
  {
   "cell_type": "code",
   "execution_count": 13,
   "id": "9d55d375",
   "metadata": {},
   "outputs": [
    {
     "name": "stdout",
     "output_type": "stream",
     "text": [
      "13144633192271487087\n"
     ]
    },
    {
     "ename": "ValueError",
     "evalue": "[E084] Error assigning label ID 13144633192271487087 to span: not in StringStore.",
     "output_type": "error",
     "traceback": [
      "\u001b[0;31m---------------------------------------------------------------------------\u001b[0m",
      "\u001b[0;31mValueError\u001b[0m                                Traceback (most recent call last)",
      "Input \u001b[0;32mIn [13]\u001b[0m, in \u001b[0;36m<cell line: 5>\u001b[0;34m()\u001b[0m\n\u001b[1;32m      4\u001b[0m new_entities \u001b[38;5;241m=\u001b[39m []\n\u001b[1;32m      5\u001b[0m \u001b[38;5;28;01mfor\u001b[39;00m match \u001b[38;5;129;01min\u001b[39;00m found_matches:\n\u001b[0;32m----> 6\u001b[0m     span \u001b[38;5;241m=\u001b[39m \u001b[43mSpan\u001b[49m\u001b[43m(\u001b[49m\u001b[43mnew_doc\u001b[49m\u001b[43m,\u001b[49m\u001b[43m \u001b[49m\u001b[43mmatch\u001b[49m\u001b[43m[\u001b[49m\u001b[38;5;241;43m1\u001b[39;49m\u001b[43m]\u001b[49m\u001b[43m,\u001b[49m\u001b[43m \u001b[49m\u001b[43mmatch\u001b[49m\u001b[43m[\u001b[49m\u001b[38;5;241;43m2\u001b[39;49m\u001b[43m]\u001b[49m\u001b[43m,\u001b[49m\u001b[43m \u001b[49m\u001b[43mlabel\u001b[49m\u001b[38;5;241;43m=\u001b[39;49m\u001b[43mprod\u001b[49m\u001b[43m)\u001b[49m \u001b[38;5;66;03m# gets the span of the match\u001b[39;00m\n\u001b[1;32m      7\u001b[0m     new_entities\u001b[38;5;241m.\u001b[39mappend(span)\n\u001b[1;32m      9\u001b[0m \u001b[38;5;28mprint\u001b[39m(new_entities)\n",
      "File \u001b[0;32m~/opt/anaconda3/lib/python3.9/site-packages/spacy/tokens/span.pyx:105\u001b[0m, in \u001b[0;36mspacy.tokens.span.Span.__cinit__\u001b[0;34m()\u001b[0m\n",
      "\u001b[0;31mValueError\u001b[0m: [E084] Error assigning label ID 13144633192271487087 to span: not in StringStore."
     ]
    }
   ],
   "source": [
    "from spacy.tokens import Span\n",
    "prod = doc.vocab.strings[u\"PROD\"]\n",
    "print(prod) # hashcode of PRODUCT named entity\n",
    "new_entities = []\n",
    "for match in found_matches:\n",
    "    span = Span(new_doc, match[1], match[2], label=prod) # gets the span of the match\n",
    "    new_entities.append(span)\n",
    "    \n",
    "print(new_entities)\n",
    "print(type(new_entities))\n",
    "\n",
    "print()\n",
    "print()\n",
    "\n",
    "new_doc.ents = list(new_doc.ents) + [new_entities]"
   ]
  },
  {
   "cell_type": "code",
   "execution_count": 14,
   "id": "f3516fd2",
   "metadata": {},
   "outputs": [
    {
     "ename": "Exception",
     "evalue": "No entities are found!",
     "output_type": "error",
     "traceback": [
      "\u001b[0;31m---------------------------------------------------------------------------\u001b[0m",
      "\u001b[0;31mException\u001b[0m                                 Traceback (most recent call last)",
      "Input \u001b[0;32mIn [14]\u001b[0m, in \u001b[0;36m<cell line: 7>\u001b[0;34m()\u001b[0m\n\u001b[1;32m      5\u001b[0m         \u001b[38;5;28;01mfor\u001b[39;00m entity \u001b[38;5;129;01min\u001b[39;00m document\u001b[38;5;241m.\u001b[39ments:\n\u001b[1;32m      6\u001b[0m             \u001b[38;5;28mprint\u001b[39m(\u001b[38;5;28mstr\u001b[39m(entity) \u001b[38;5;241m+\u001b[39m \u001b[38;5;124m\"\u001b[39m\u001b[38;5;124m ==> \u001b[39m\u001b[38;5;124m\"\u001b[39m \u001b[38;5;241m+\u001b[39m entity\u001b[38;5;241m.\u001b[39mtext \u001b[38;5;241m+\u001b[39m \u001b[38;5;124m\"\u001b[39m\u001b[38;5;124m ==> \u001b[39m\u001b[38;5;124m\"\u001b[39m \u001b[38;5;241m+\u001b[39m \u001b[38;5;28mstr\u001b[39m(entity\u001b[38;5;241m.\u001b[39mlabel_) \u001b[38;5;241m+\u001b[39m \u001b[38;5;124m\"\u001b[39m\u001b[38;5;124m ==> \u001b[39m\u001b[38;5;124m\"\u001b[39m \u001b[38;5;241m+\u001b[39m \u001b[38;5;28mstr\u001b[39m(spacy\u001b[38;5;241m.\u001b[39mexplain(entity\u001b[38;5;241m.\u001b[39mlabel_)))\n\u001b[0;32m----> 7\u001b[0m \u001b[43mdisplay_entities\u001b[49m\u001b[43m(\u001b[49m\u001b[43mnew_doc\u001b[49m\u001b[43m)\u001b[49m\n",
      "Input \u001b[0;32mIn [14]\u001b[0m, in \u001b[0;36mdisplay_entities\u001b[0;34m(document)\u001b[0m\n\u001b[1;32m      1\u001b[0m \u001b[38;5;28;01mdef\u001b[39;00m \u001b[38;5;21mdisplay_entities\u001b[39m(document):\n\u001b[1;32m      2\u001b[0m     \u001b[38;5;28;01mif\u001b[39;00m \u001b[38;5;28mlen\u001b[39m(document\u001b[38;5;241m.\u001b[39ments) \u001b[38;5;241m==\u001b[39m \u001b[38;5;241m0\u001b[39m:\n\u001b[0;32m----> 3\u001b[0m         \u001b[38;5;28;01mraise\u001b[39;00m \u001b[38;5;167;01mException\u001b[39;00m(\u001b[38;5;124m\"\u001b[39m\u001b[38;5;124mNo entities are found!\u001b[39m\u001b[38;5;124m\"\u001b[39m)\n\u001b[1;32m      4\u001b[0m     \u001b[38;5;28;01melse\u001b[39;00m:\n\u001b[1;32m      5\u001b[0m         \u001b[38;5;28;01mfor\u001b[39;00m entity \u001b[38;5;129;01min\u001b[39;00m document\u001b[38;5;241m.\u001b[39ments:\n",
      "\u001b[0;31mException\u001b[0m: No entities are found!"
     ]
    }
   ],
   "source": [
    "def display_entities(document):\n",
    "    if len(document.ents) == 0:\n",
    "        raise Exception(\"No entities are found!\")\n",
    "    else:\n",
    "        for entity in document.ents:\n",
    "            print(str(entity) + \" ==> \" + entity.text + \" ==> \" + str(entity.label_) + \" ==> \" + str(spacy.explain(entity.label_)))\n",
    "display_entities(new_doc)"
   ]
  },
  {
   "cell_type": "code",
   "execution_count": null,
   "id": "d47a4157",
   "metadata": {},
   "outputs": [],
   "source": []
  }
 ],
 "metadata": {
  "kernelspec": {
   "display_name": "Python 3 (ipykernel)",
   "language": "python",
   "name": "python3"
  },
  "language_info": {
   "codemirror_mode": {
    "name": "ipython",
    "version": 3
   },
   "file_extension": ".py",
   "mimetype": "text/x-python",
   "name": "python",
   "nbconvert_exporter": "python",
   "pygments_lexer": "ipython3",
   "version": "3.9.12"
  }
 },
 "nbformat": 4,
 "nbformat_minor": 5
}
