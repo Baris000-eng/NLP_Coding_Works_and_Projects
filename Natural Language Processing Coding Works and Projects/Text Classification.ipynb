{
 "cells": [
  {
   "cell_type": "code",
   "execution_count": 127,
   "id": "8eafc661",
   "metadata": {},
   "outputs": [
    {
     "data": {
      "text/plain": [
       "'xtrain (X_train):\\n\\n\"xtrain\" typically refers to the feature or input data that is used for training a machine learning model. \\nIt is a subset of your entire dataset.This dataset contains the input variables or features that the model \\nwill use to make predictions. Each row in the \"xtrain\" corresponds to one data point, and each column \\nrepresents a different feature or attribute of the data.\\n\\nytrain (y_train):\\n\\n\"ytrain\" corresponds to the target or output values that are associated with the training data. These target \\nvalues are known as labels or ground truth. In supervised learning, the goal is for the model to learn a mapping \\nfrom the input data (xtrain) to the target values (ytrain) during the training phase. It learns to make predictions \\nbased on this labeled data.\\n\\nxtest (X_test):\\n\\n\"xtest\" is another subset of your dataset, distinct from the training data. It contains the feature or input data \\nthat you use for testing the trained model\\'s performance.The model will make predictions on this test data to \\nassess how well it generalizes to unseen examples.\\n\\nytest (y_test):\\n\\n\"ytest\" corresponds to the target or output values associated with the test data. These are the correct labels \\nfor the test examples. During evaluation, you compare the model\\'s predictions on \"xtest\" to the actual values \\nin \"ytest\" to measure its performance. This helps you understand how well the model can make predictions on \\nnew, unseen data.'"
      ]
     },
     "execution_count": 127,
     "metadata": {},
     "output_type": "execute_result"
    }
   ],
   "source": [
    "# Machine Learning\n",
    "# What is Machine Learning ?\n",
    "# Machine Learning (ML) is a method of data analysis that automates analytical model building.\n",
    "# Using alogirthms that iteratively learn from data, machine learning allows computers to find\n",
    "# the hidden insights without being explicitly programmed where to look.\n",
    "# What is machine learning used for ? (In which areas does it take place ?)\n",
    "# 1-) Recommendation Engines\n",
    "# 2-) Customer Segmentation\n",
    "# 3-) Text Sentiment Analysis\n",
    "# 4-) Prediction of the Customer Churn\n",
    "# 5-) Email Spam Filtering\n",
    "# 6-) Image and Pattern Recognition\n",
    "# 7-) Network Intrusion Detection\n",
    "# 8-) Price Models \n",
    "\n",
    "# * Supervised Learning:\n",
    "# * Supervised Learning algorithms are trained using labeled examples, like an input where the \n",
    "# desired output is known.\n",
    "# For instance, a segment of the text could have a categorical label , such as: \n",
    "# * Positive vs Negative Movie Review\n",
    "# * Spam vs Legitimate Email\n",
    "\n",
    "# The supervised machine learning algorithm receives a set of inputs along with the corresponding correct \n",
    "# outputs, and this algorithm learns by comparing its actual output with correct outputs to \n",
    "# find errors.\n",
    "\n",
    "# Supervised learning is commonly used in applications where historical data predicts likely future \n",
    "# events. As an example to the historical data, we can give the historical information of emails \n",
    "# received that someone has labeled spam or legitimate.\n",
    "\n",
    "# Supervised Machine Learning Process:\n",
    "# 1-) Data Acquisition (Data Gathering)\n",
    "# 2-) Data Cleaning and Formatting (In this step, Scikit-Learn and Vectorization are widely used for the text data.)\n",
    "# 3-) Splitting the data into the training set and test set\n",
    "# 4-) Model Training & Building (fitting the model to the training data)\n",
    "# 5-) Model Testing (by using the test dataset)\n",
    "# 6-) Model Deployment\n",
    "\n",
    "# Text classification and recognition is a very common and widely applicable use of machine learning.\n",
    "\n",
    "# * Before the data split, we have labels and features.\n",
    "#   - Features: x\n",
    "#   - Labels: y\n",
    "\n",
    "# * Before we fit the model, we split the data into training dataset and test dataset.\n",
    "\n",
    "# After the train-test split, we always have the 4 components below:\n",
    "# 1-) X_train\n",
    "# 2-) X_test\n",
    "# 3-) Y_train\n",
    "# 4-) Y_test\n",
    "\n",
    "\n",
    "# Classification Evaluation Metrics\n",
    "\n",
    "# The key classification metrics are as below:\n",
    "# 1-) Accuracy\n",
    "# 2-) Precision\n",
    "# 3-) Recall\n",
    "# 4-) F1-Score\n",
    "\n",
    "# In a supervised learning algorithm, we will first train/fit a model on the training data, and then test the model\n",
    "# on the testing data. Once we have the model's predictions from the X_test data, we compare them to the true y \n",
    "# values (the correct labels).\n",
    "\n",
    "\n",
    "\"\"\"xtrain (X_train):\n",
    "\n",
    "\"xtrain\" typically refers to the feature or input data that is used for training a machine learning model. \n",
    "It is a subset of your entire dataset.This dataset contains the input variables or features that the model \n",
    "will use to make predictions. Each row in the \"xtrain\" corresponds to one data point, and each column \n",
    "represents a different feature or attribute of the data.\n",
    "\n",
    "ytrain (y_train):\n",
    "\n",
    "\"ytrain\" corresponds to the target or output values that are associated with the training data. These target \n",
    "values are known as labels or ground truth. In supervised learning, the goal is for the model to learn a mapping \n",
    "from the input data (xtrain) to the target values (ytrain) during the training phase. It learns to make predictions \n",
    "based on this labeled data.\n",
    "\n",
    "xtest (X_test):\n",
    "\n",
    "\"xtest\" is another subset of your dataset, distinct from the training data. It contains the feature or input data \n",
    "that you use for testing the trained model's performance.The model will make predictions on this test data to \n",
    "assess how well it generalizes to unseen examples.\n",
    "\n",
    "ytest (y_test):\n",
    "\n",
    "\"ytest\" corresponds to the target or output values associated with the test data. These are the correct labels \n",
    "for the test examples. During evaluation, you compare the model's predictions on \"xtest\" to the actual values \n",
    "in \"ytest\" to measure its performance. This helps you understand how well the model can make predictions on \n",
    "new, unseen data.\"\"\"\n",
    "\n",
    "# We could place the real values and our predicted values in a confusion matrix.\n",
    "\n",
    "# Accuracy: \n",
    "# Accuracy in classification problems is the number of correct predictions made by the model divided by the \n",
    "# total number of predictions (i.e. Accuracy = number of correct predictions / total number of predictions)\n",
    "\n",
    "# Accuracy Formula = ((TP + TN) / (TP + TN + FP + FN))\n",
    "\n",
    "# Accuracy is useful when target classes are well balanced. However, accuracy is not a good choice for the \n",
    "# unbalanced classes.\n",
    "\n",
    "\n",
    "# Precision:\n",
    "# It is the ability of a classification model to identify only the relevant data points. Precision is defined\n",
    "# as the number of true positives divided by the number of true positives plus the number of false \n",
    "# positives (Precision = TP / (TP + FP)).\n",
    "\n",
    "# Recall: \n",
    "# It is the ability of a model to find all the relevant cases within a dataset.\n",
    "# The definition of recall is the number of true positives divided by the number of true positives plus \n",
    "# the number of false negatives (Recall = TP / (TP + FN)).\n",
    "\n",
    "# F1-Score:\n",
    "# The F1-Score is the harmonic mean of precision and recall. It takes both metrics into account in the \n",
    "# following equation.\n",
    "\n",
    "# F1-Score = (2 * Precision * Recall) / Precision + Recall\n",
    "# OR\n",
    "# F1-Score = 2 / ((1 / Precision) + (1 / Recall))\n",
    "\n",
    "# In F1-Score, harmonic mean instead of a simple average is used to punish extreme values (e.g precision or \n",
    "# recall being 0).\n",
    "\n",
    "\n",
    "#-------------------------------------------------------------------------------------------------------------#\n",
    "\n",
    "# Confusion Matrix\n",
    "\n",
    "# Confusion matrix is a way to view various classification metrics.\n",
    "\n",
    "# Note: In a classification problem, during the testing phase, we will have two following categories:\n",
    "\n",
    "# 1-) True Condition: For example, a text message is spam.\n",
    "# 2-) Predicted Condition: For example, ML model predicted that the text message is spam.\n",
    "\n",
    "# This means when we have two possible classes, it should bring up 4 seperate groups at the end of testing. \n",
    "\n",
    "# Note: Here, class 1 is HAM and class 2 is SPAM.\n",
    "\n",
    "# Correctly classified to the class 1: TRUE HAM\n",
    "# Correctly classified to the class 2 : TRUE SPAM\n",
    "# Incorrectly classified to the class 1 : FALSE HAM\n",
    "# Incorrectly classified to the class 2 : FALSE SPAM\n",
    "\n",
    "\n",
    "# Real condition is HAM and the prediction is HAM : True Positive\n",
    "# Real condition is SPAM and the prediction is HAM: False Positive\n",
    "# Real condition is SPAM and the prediction is SPAM: True Negative\n",
    "# Real condition is HAM and the prediction is SPAM: False Negative\n",
    "\n",
    "# We can use confusion matrices to evaluate the machine learning (ML) models.\n",
    "\n",
    "# Misclassification Rate (Error Rate) = (FP + FN) / (TP + FP + TN + FN)\n",
    "\n",
    "# Misclassification rate is the metric which shows how often the classifier predicts wrong.\n",
    "\n",
    "# False positives: Type 1 Error (A doctor tells a men that he is pregnant.)\n",
    "# False negatives: Type 2 Error (A doctor tells a pregnant women that she is not pregnant.)"
   ]
  },
  {
   "cell_type": "code",
   "execution_count": 128,
   "id": "7bfc2942",
   "metadata": {},
   "outputs": [],
   "source": [
    "# Scikit-Learn Library\n",
    "\n",
    "# We can install the scikit-learn library using one of the following commands:\n",
    "# 1-) pip install scikit-learn\n",
    "# 2-) conda install scikit-learn\n",
    "\n",
    "# In this library, model.fit(x_train, y_train) method is used to train the model on the training data.\n",
    "\n",
    "# We can get the predicted values on the x_test dataset using model.predict(x_test) function."
   ]
  },
  {
   "cell_type": "code",
   "execution_count": 129,
   "id": "20adc53d",
   "metadata": {},
   "outputs": [],
   "source": [
    "import pandas as pd\n",
    "import numpy as np"
   ]
  },
  {
   "cell_type": "code",
   "execution_count": 130,
   "id": "d0ec24bd",
   "metadata": {},
   "outputs": [
    {
     "name": "stdout",
     "output_type": "stream",
     "text": [
      "     label                                            message  length  punct\n",
      "0      ham  Go until jurong point, crazy.. Available only ...     111      9\n",
      "1      ham                      Ok lar... Joking wif u oni...      29      6\n",
      "2     spam  Free entry in 2 a wkly comp to win FA Cup fina...     155      6\n",
      "3      ham  U dun say so early hor... U c already then say...      49      6\n",
      "4      ham  Nah I don't think he goes to usf, he lives aro...      61      2\n",
      "...    ...                                                ...     ...    ...\n",
      "5567  spam  This is the 2nd time we have tried 2 contact u...     160      8\n",
      "5568   ham               Will ü b going to esplanade fr home?      36      1\n",
      "5569   ham  Pity, * was in mood for that. So...any other s...      57      7\n",
      "5570   ham  The guy did some bitching but I acted like i'd...     125      1\n",
      "5571   ham                         Rofl. Its true to its name      26      1\n",
      "\n",
      "[5572 rows x 4 columns]\n",
      "<class 'pandas.core.frame.DataFrame'>\n"
     ]
    }
   ],
   "source": [
    "sms_tsv_df = pd.read_csv('smsspamcollection.tsv', sep=\"\\t\")\n",
    "print(sms_tsv_df)\n",
    "print(type(sms_tsv_df))"
   ]
  },
  {
   "cell_type": "code",
   "execution_count": 131,
   "id": "d2202633",
   "metadata": {},
   "outputs": [
    {
     "data": {
      "text/html": [
       "<div>\n",
       "<style scoped>\n",
       "    .dataframe tbody tr th:only-of-type {\n",
       "        vertical-align: middle;\n",
       "    }\n",
       "\n",
       "    .dataframe tbody tr th {\n",
       "        vertical-align: top;\n",
       "    }\n",
       "\n",
       "    .dataframe thead th {\n",
       "        text-align: right;\n",
       "    }\n",
       "</style>\n",
       "<table border=\"1\" class=\"dataframe\">\n",
       "  <thead>\n",
       "    <tr style=\"text-align: right;\">\n",
       "      <th></th>\n",
       "      <th>label</th>\n",
       "      <th>message</th>\n",
       "      <th>length</th>\n",
       "      <th>punct</th>\n",
       "    </tr>\n",
       "  </thead>\n",
       "  <tbody>\n",
       "    <tr>\n",
       "      <th>0</th>\n",
       "      <td>ham</td>\n",
       "      <td>Go until jurong point, crazy.. Available only ...</td>\n",
       "      <td>111</td>\n",
       "      <td>9</td>\n",
       "    </tr>\n",
       "    <tr>\n",
       "      <th>1</th>\n",
       "      <td>ham</td>\n",
       "      <td>Ok lar... Joking wif u oni...</td>\n",
       "      <td>29</td>\n",
       "      <td>6</td>\n",
       "    </tr>\n",
       "    <tr>\n",
       "      <th>2</th>\n",
       "      <td>spam</td>\n",
       "      <td>Free entry in 2 a wkly comp to win FA Cup fina...</td>\n",
       "      <td>155</td>\n",
       "      <td>6</td>\n",
       "    </tr>\n",
       "    <tr>\n",
       "      <th>3</th>\n",
       "      <td>ham</td>\n",
       "      <td>U dun say so early hor... U c already then say...</td>\n",
       "      <td>49</td>\n",
       "      <td>6</td>\n",
       "    </tr>\n",
       "    <tr>\n",
       "      <th>4</th>\n",
       "      <td>ham</td>\n",
       "      <td>Nah I don't think he goes to usf, he lives aro...</td>\n",
       "      <td>61</td>\n",
       "      <td>2</td>\n",
       "    </tr>\n",
       "  </tbody>\n",
       "</table>\n",
       "</div>"
      ],
      "text/plain": [
       "  label                                            message  length  punct\n",
       "0   ham  Go until jurong point, crazy.. Available only ...     111      9\n",
       "1   ham                      Ok lar... Joking wif u oni...      29      6\n",
       "2  spam  Free entry in 2 a wkly comp to win FA Cup fina...     155      6\n",
       "3   ham  U dun say so early hor... U c already then say...      49      6\n",
       "4   ham  Nah I don't think he goes to usf, he lives aro...      61      2"
      ]
     },
     "execution_count": 131,
     "metadata": {},
     "output_type": "execute_result"
    }
   ],
   "source": [
    "sms_tsv_df.head() # By default, this will bring the first 5 records in the data frame."
   ]
  },
  {
   "cell_type": "code",
   "execution_count": 132,
   "id": "718fb582",
   "metadata": {},
   "outputs": [
    {
     "data": {
      "text/html": [
       "<div>\n",
       "<style scoped>\n",
       "    .dataframe tbody tr th:only-of-type {\n",
       "        vertical-align: middle;\n",
       "    }\n",
       "\n",
       "    .dataframe tbody tr th {\n",
       "        vertical-align: top;\n",
       "    }\n",
       "\n",
       "    .dataframe thead th {\n",
       "        text-align: right;\n",
       "    }\n",
       "</style>\n",
       "<table border=\"1\" class=\"dataframe\">\n",
       "  <thead>\n",
       "    <tr style=\"text-align: right;\">\n",
       "      <th></th>\n",
       "      <th>label</th>\n",
       "      <th>message</th>\n",
       "      <th>length</th>\n",
       "      <th>punct</th>\n",
       "    </tr>\n",
       "  </thead>\n",
       "  <tbody>\n",
       "    <tr>\n",
       "      <th>5567</th>\n",
       "      <td>spam</td>\n",
       "      <td>This is the 2nd time we have tried 2 contact u...</td>\n",
       "      <td>160</td>\n",
       "      <td>8</td>\n",
       "    </tr>\n",
       "    <tr>\n",
       "      <th>5568</th>\n",
       "      <td>ham</td>\n",
       "      <td>Will ü b going to esplanade fr home?</td>\n",
       "      <td>36</td>\n",
       "      <td>1</td>\n",
       "    </tr>\n",
       "    <tr>\n",
       "      <th>5569</th>\n",
       "      <td>ham</td>\n",
       "      <td>Pity, * was in mood for that. So...any other s...</td>\n",
       "      <td>57</td>\n",
       "      <td>7</td>\n",
       "    </tr>\n",
       "    <tr>\n",
       "      <th>5570</th>\n",
       "      <td>ham</td>\n",
       "      <td>The guy did some bitching but I acted like i'd...</td>\n",
       "      <td>125</td>\n",
       "      <td>1</td>\n",
       "    </tr>\n",
       "    <tr>\n",
       "      <th>5571</th>\n",
       "      <td>ham</td>\n",
       "      <td>Rofl. Its true to its name</td>\n",
       "      <td>26</td>\n",
       "      <td>1</td>\n",
       "    </tr>\n",
       "  </tbody>\n",
       "</table>\n",
       "</div>"
      ],
      "text/plain": [
       "     label                                            message  length  punct\n",
       "5567  spam  This is the 2nd time we have tried 2 contact u...     160      8\n",
       "5568   ham               Will ü b going to esplanade fr home?      36      1\n",
       "5569   ham  Pity, * was in mood for that. So...any other s...      57      7\n",
       "5570   ham  The guy did some bitching but I acted like i'd...     125      1\n",
       "5571   ham                         Rofl. Its true to its name      26      1"
      ]
     },
     "execution_count": 132,
     "metadata": {},
     "output_type": "execute_result"
    }
   ],
   "source": [
    "sms_tsv_df.tail() # By default, this will bring the last 5 records in the data frame."
   ]
  },
  {
   "cell_type": "code",
   "execution_count": 133,
   "id": "63dbffd6",
   "metadata": {},
   "outputs": [
    {
     "data": {
      "text/html": [
       "<div>\n",
       "<style scoped>\n",
       "    .dataframe tbody tr th:only-of-type {\n",
       "        vertical-align: middle;\n",
       "    }\n",
       "\n",
       "    .dataframe tbody tr th {\n",
       "        vertical-align: top;\n",
       "    }\n",
       "\n",
       "    .dataframe thead th {\n",
       "        text-align: right;\n",
       "    }\n",
       "</style>\n",
       "<table border=\"1\" class=\"dataframe\">\n",
       "  <thead>\n",
       "    <tr style=\"text-align: right;\">\n",
       "      <th></th>\n",
       "      <th>label</th>\n",
       "      <th>message</th>\n",
       "      <th>length</th>\n",
       "      <th>punct</th>\n",
       "    </tr>\n",
       "  </thead>\n",
       "  <tbody>\n",
       "    <tr>\n",
       "      <th>0</th>\n",
       "      <td>False</td>\n",
       "      <td>False</td>\n",
       "      <td>False</td>\n",
       "      <td>False</td>\n",
       "    </tr>\n",
       "    <tr>\n",
       "      <th>1</th>\n",
       "      <td>False</td>\n",
       "      <td>False</td>\n",
       "      <td>False</td>\n",
       "      <td>False</td>\n",
       "    </tr>\n",
       "    <tr>\n",
       "      <th>2</th>\n",
       "      <td>False</td>\n",
       "      <td>False</td>\n",
       "      <td>False</td>\n",
       "      <td>False</td>\n",
       "    </tr>\n",
       "    <tr>\n",
       "      <th>3</th>\n",
       "      <td>False</td>\n",
       "      <td>False</td>\n",
       "      <td>False</td>\n",
       "      <td>False</td>\n",
       "    </tr>\n",
       "    <tr>\n",
       "      <th>4</th>\n",
       "      <td>False</td>\n",
       "      <td>False</td>\n",
       "      <td>False</td>\n",
       "      <td>False</td>\n",
       "    </tr>\n",
       "    <tr>\n",
       "      <th>...</th>\n",
       "      <td>...</td>\n",
       "      <td>...</td>\n",
       "      <td>...</td>\n",
       "      <td>...</td>\n",
       "    </tr>\n",
       "    <tr>\n",
       "      <th>5567</th>\n",
       "      <td>False</td>\n",
       "      <td>False</td>\n",
       "      <td>False</td>\n",
       "      <td>False</td>\n",
       "    </tr>\n",
       "    <tr>\n",
       "      <th>5568</th>\n",
       "      <td>False</td>\n",
       "      <td>False</td>\n",
       "      <td>False</td>\n",
       "      <td>False</td>\n",
       "    </tr>\n",
       "    <tr>\n",
       "      <th>5569</th>\n",
       "      <td>False</td>\n",
       "      <td>False</td>\n",
       "      <td>False</td>\n",
       "      <td>False</td>\n",
       "    </tr>\n",
       "    <tr>\n",
       "      <th>5570</th>\n",
       "      <td>False</td>\n",
       "      <td>False</td>\n",
       "      <td>False</td>\n",
       "      <td>False</td>\n",
       "    </tr>\n",
       "    <tr>\n",
       "      <th>5571</th>\n",
       "      <td>False</td>\n",
       "      <td>False</td>\n",
       "      <td>False</td>\n",
       "      <td>False</td>\n",
       "    </tr>\n",
       "  </tbody>\n",
       "</table>\n",
       "<p>5572 rows × 4 columns</p>\n",
       "</div>"
      ],
      "text/plain": [
       "      label  message  length  punct\n",
       "0     False    False   False  False\n",
       "1     False    False   False  False\n",
       "2     False    False   False  False\n",
       "3     False    False   False  False\n",
       "4     False    False   False  False\n",
       "...     ...      ...     ...    ...\n",
       "5567  False    False   False  False\n",
       "5568  False    False   False  False\n",
       "5569  False    False   False  False\n",
       "5570  False    False   False  False\n",
       "5571  False    False   False  False\n",
       "\n",
       "[5572 rows x 4 columns]"
      ]
     },
     "execution_count": 133,
     "metadata": {},
     "output_type": "execute_result"
    }
   ],
   "source": [
    "# The below isnull() call returns a data frame of boolean values and it indicates whether each cell contains \n",
    "# a missing value. \n",
    "sms_tsv_df.isnull() "
   ]
  },
  {
   "cell_type": "code",
   "execution_count": 134,
   "id": "ec7f9765",
   "metadata": {},
   "outputs": [
    {
     "data": {
      "text/plain": [
       "label      0\n",
       "message    0\n",
       "length     0\n",
       "punct      0\n",
       "dtype: int64"
      ]
     },
     "execution_count": 134,
     "metadata": {},
     "output_type": "execute_result"
    }
   ],
   "source": [
    "# The below call will treat the cells with \"False\" values as 0s and the cells with \"True\" values as 1s.\n",
    "# It will return the counts of the missing values for each column/field.\n",
    "sms_tsv_df.isnull().sum() "
   ]
  },
  {
   "cell_type": "code",
   "execution_count": 135,
   "id": "09842783",
   "metadata": {},
   "outputs": [
    {
     "data": {
      "text/plain": [
       "'\\nThe Difference(s) Between The CSV Files and TSV Files:\\n\\nTSV stands for Tab Separated Values. TSV file is a flat file, which uses the Tab character to delimit \\ndata and reports one time-series per line. CSV stands for Comma Separated Values. CSV file is a flat file, \\nwhich uses the comma (,) character to delimit data and reports one observation per line.\\n\\n* CSV files use commas to separate values, meaning that each value in the file is separated \\nfrom the next by a comma. \\n\\n* TSV files use tabs to separate values, meaning that each value in the file is separated from the next \\nby a tab. This format is similar to CSV, but the delimiter character is different, which is tab.\\n'"
      ]
     },
     "execution_count": 135,
     "metadata": {},
     "output_type": "execute_result"
    }
   ],
   "source": [
    "\"\"\"\n",
    "The Difference(s) Between The CSV Files and TSV Files:\n",
    "\n",
    "TSV stands for Tab Separated Values. TSV file is a flat file, which uses the Tab character to delimit \n",
    "data and reports one time-series per line. CSV stands for Comma Separated Values. CSV file is a flat file, \n",
    "which uses the comma (,) character to delimit data and reports one observation per line.\n",
    "\n",
    "* CSV files use commas to separate values, meaning that each value in the file is separated \n",
    "from the next by a comma. \n",
    "\n",
    "* TSV files use tabs to separate values, meaning that each value in the file is separated from the next \n",
    "by a tab. This format is similar to CSV, but the delimiter character is different, which is tab.\n",
    "\"\"\""
   ]
  },
  {
   "cell_type": "code",
   "execution_count": 136,
   "id": "0d082257",
   "metadata": {},
   "outputs": [
    {
     "name": "stdout",
     "output_type": "stream",
     "text": [
      "5572\n",
      "This dataset has 5572 rows.\n"
     ]
    }
   ],
   "source": [
    "# How many rows does this sms_tsv_df have ?\n",
    "row_num = len(sms_tsv_df)\n",
    "print(row_num)\n",
    "print(\"This dataset has \"+str(row_num)+\" rows.\")"
   ]
  },
  {
   "cell_type": "code",
   "execution_count": 137,
   "id": "0dababf0",
   "metadata": {},
   "outputs": [
    {
     "data": {
      "text/plain": [
       "0        ham\n",
       "1        ham\n",
       "2       spam\n",
       "3        ham\n",
       "4        ham\n",
       "        ... \n",
       "5567    spam\n",
       "5568     ham\n",
       "5569     ham\n",
       "5570     ham\n",
       "5571     ham\n",
       "Name: label, Length: 5572, dtype: object"
      ]
     },
     "execution_count": 137,
     "metadata": {},
     "output_type": "execute_result"
    }
   ],
   "source": [
    "sms_tsv_df['label']"
   ]
  },
  {
   "cell_type": "code",
   "execution_count": 138,
   "id": "d4dbe852",
   "metadata": {},
   "outputs": [
    {
     "name": "stdout",
     "output_type": "stream",
     "text": [
      "0        ham\n",
      "1        ham\n",
      "2       spam\n",
      "3        ham\n",
      "4        ham\n",
      "        ... \n",
      "5567    spam\n",
      "5568     ham\n",
      "5569     ham\n",
      "5570     ham\n",
      "5571     ham\n",
      "Name: label, Length: 5572, dtype: object\n"
     ]
    }
   ],
   "source": [
    "print(sms_tsv_df['label'])"
   ]
  },
  {
   "cell_type": "code",
   "execution_count": 139,
   "id": "508b92b6",
   "metadata": {},
   "outputs": [
    {
     "name": "stdout",
     "output_type": "stream",
     "text": [
      "['ham' 'spam']\n"
     ]
    }
   ],
   "source": [
    "print(sms_tsv_df['label'].unique()) # It brings the unique string values from the label column."
   ]
  },
  {
   "cell_type": "code",
   "execution_count": 140,
   "id": "76f72733",
   "metadata": {},
   "outputs": [
    {
     "name": "stdout",
     "output_type": "stream",
     "text": [
      "ham     4825\n",
      "spam     747\n",
      "Name: label, dtype: int64\n",
      "\n",
      "\n",
      "4825\n",
      "747\n",
      "There are 4825 emails marked as ham in this dataset.\n",
      "There are 747 emails marked as spam in this dataset.\n",
      "\n",
      "\n",
      "The 0.13406317300789664 of the emails are marked as spam.\n",
      "The 0.8659368269921034 of the emails are marked as ham.\n"
     ]
    }
   ],
   "source": [
    "value_counts_spam_ham = sms_tsv_df['label'].value_counts()\n",
    "print(value_counts_spam_ham)\n",
    "print()\n",
    "print()\n",
    "ham_counts = value_counts_spam_ham['ham']\n",
    "spam_counts = value_counts_spam_ham['spam']\n",
    "print(ham_counts)\n",
    "print(spam_counts)\n",
    "print(\"There are \"+str(ham_counts)+\" emails marked as ham in this dataset.\")\n",
    "print(\"There are \"+str(spam_counts)+\" emails marked as spam in this dataset.\")\n",
    "\n",
    "\n",
    "def calculate_spam_ratio(spam_email_count: int, ham_email_count: int):\n",
    "    if spam_email_count + ham_email_count == 0:\n",
    "        return 0\n",
    "    total_email_count = spam_email_count + ham_email_count\n",
    "    spam_ratio = spam_email_count / total_email_count\n",
    "    return spam_ratio\n",
    "\n",
    "def calculate_ham_ratio(spam_email_count: int, ham_email_count: int):\n",
    "    if spam_email_count + ham_email_count == 0:\n",
    "        return 0\n",
    "    total_email_count = spam_email_count + ham_email_count\n",
    "    ham_ratio = ham_email_count / total_email_count\n",
    "    return ham_ratio\n",
    "\n",
    "\n",
    "spam_ratio = calculate_spam_ratio(spam_counts, ham_counts)\n",
    "ham_ratio = calculate_ham_ratio(spam_counts, ham_counts)\n",
    "\n",
    "print()\n",
    "print()\n",
    "\n",
    "print(\"The \"+str(spam_ratio)+\" of the emails are marked as spam.\")\n",
    "print(\"The \"+str(ham_ratio)+\" of the emails are marked as ham.\")\n",
    "\n"
   ]
  },
  {
   "cell_type": "code",
   "execution_count": 141,
   "id": "65865cdc",
   "metadata": {},
   "outputs": [],
   "source": [
    "import matplotlib.pyplot as plt\n",
    "%matplotlib inline"
   ]
  },
  {
   "cell_type": "code",
   "execution_count": 142,
   "id": "f5437cf6",
   "metadata": {},
   "outputs": [
    {
     "data": {
      "image/png": "[encoded data removed]",
      "text/plain": [
       "<Figure size 864x648 with 1 Axes>"
      ]
     },
     "metadata": {
      "needs_background": "light"
     },
     "output_type": "display_data"
    }
   ],
   "source": [
    "plt.figure(figsize=(12,9))\n",
    "plt.xscale(\"log\")\n",
    "bins = 1.15 ** (np.arange(0, 50))\n",
    "plt.hist(sms_tsv_df[sms_tsv_df['label'] == 'ham']['length'], bins=bins, alpha=0.8, label='ham')\n",
    "plt.hist(sms_tsv_df[sms_tsv_df['label'] == 'spam']['length'], bins=bins, alpha=0.8, label='spam')\n",
    "plt.legend(['ham', 'spam']) # It puts the specified classes with different colors inside a box.\n",
    "plt.xlabel('SMS Length')\n",
    "plt.ylabel('SMS Count')\n",
    "plt.title('The Relation Between the Length and Spamness/Hamness of an SMS')\n",
    "plt.show()\n",
    "\n",
    "# Note: When we look at the distribution of the below histogram outputs, we can see \n",
    "# that the spam text messages are more likely to be longer than the ham text messages.\n",
    "\n",
    "\n",
    "# * The data on the x-axis represents the message lengths.\n",
    "\n",
    "# * The data on the y-axis represents the frequency or count of \n",
    "# messages with specific lengths falling within the specified bins."
   ]
  },
  {
   "cell_type": "code",
   "execution_count": 143,
   "id": "deee84ee",
   "metadata": {},
   "outputs": [
    {
     "data": {
      "image/png": "[encoded data removed]",
      "text/plain": [
       "<Figure size 864x648 with 1 Axes>"
      ]
     },
     "metadata": {
      "needs_background": "light"
     },
     "output_type": "display_data"
    }
   ],
   "source": [
    "plt.figure(figsize=(12,9))\n",
    "plt.xscale(\"log\")\n",
    "bins = 1.15 ** (np.arange(0, 50))\n",
    "plt.hist(sms_tsv_df[sms_tsv_df['label'] == 'ham']['punct'], bins=bins, alpha=0.65)\n",
    "plt.hist(sms_tsv_df[sms_tsv_df['label'] == 'spam']['punct'], bins=bins, alpha=0.65)\n",
    "plt.legend(['ham', 'spam']) # It puts the specified classes with different colors inside a box.\n",
    "plt.xlabel('Punctuation Count of an SMS')\n",
    "plt.ylabel('SMS Count')\n",
    "plt.title('The Relation Between the Punctuation Count and Spamness/Hamness of an SMS')\n",
    "plt.show()\n",
    "\n",
    "# Note: When we look at the distribution of the below histogram outputs, we can see \n",
    "# that the spam text messages are more likely to be longer than the ham text messages.\n",
    "\n",
    "\n",
    "# * The data on the x-axis represents the message lengths.\n",
    "\n",
    "# * The data on the y-axis represents the frequency or count of \n",
    "# messages with specific lengths falling within the specified bins."
   ]
  },
  {
   "cell_type": "code",
   "execution_count": 144,
   "id": "06a13891",
   "metadata": {},
   "outputs": [
    {
     "name": "stdout",
     "output_type": "stream",
     "text": [
      "      punct  length\n",
      "0         9     111\n",
      "1         6      29\n",
      "2         6     155\n",
      "3         6      49\n",
      "4         2      61\n",
      "...     ...     ...\n",
      "5567      8     160\n",
      "5568      1      36\n",
      "5569      7      57\n",
      "5570      1     125\n",
      "5571      1      26\n",
      "\n",
      "[5572 rows x 2 columns]\n",
      "0        ham\n",
      "1        ham\n",
      "2       spam\n",
      "3        ham\n",
      "4        ham\n",
      "        ... \n",
      "5567    spam\n",
      "5568     ham\n",
      "5569     ham\n",
      "5570     ham\n",
      "5571     ham\n",
      "Name: label, Length: 5572, dtype: object\n"
     ]
    }
   ],
   "source": [
    "# Building an ML model predicting whether an SMS message is spam or ham based on its length and how many punctuations it contains.\n",
    "\n",
    "from sklearn.model_selection import train_test_split\n",
    "\n",
    "# X: This is the feature data.\n",
    "X = sms_tsv_df[['punct', 'length']]\n",
    "print(X)\n",
    "\n",
    "# y: This is the label data.\n",
    "y = sms_tsv_df['label']\n",
    "print(y)"
   ]
  },
  {
   "cell_type": "code",
   "execution_count": 145,
   "id": "ca61c217",
   "metadata": {},
   "outputs": [],
   "source": [
    "# Random state parameter is specified to get the same split in different runs\n",
    "X_train, X_test, y_train, y_test = train_test_split(X,y, test_size = 0.35, random_state = 10)"
   ]
  },
  {
   "cell_type": "code",
   "execution_count": 146,
   "id": "7e60bd1d",
   "metadata": {},
   "outputs": [
    {
     "name": "stdout",
     "output_type": "stream",
     "text": [
      "The X_train data is: \n",
      "\n",
      "\n",
      "      punct  length\n",
      "520       3     117\n",
      "730       1      17\n",
      "1123      5      36\n",
      "5254      0      23\n",
      "3551      1      69\n",
      "...     ...     ...\n",
      "1180      1      35\n",
      "3441      1      30\n",
      "1344      8     159\n",
      "4623      1      37\n",
      "1289      1      24\n",
      "\n",
      "[3621 rows x 2 columns]\n",
      "\n",
      "\n",
      "---------------------------------------------------\n",
      "The X_test data is: \n",
      "\n",
      "\n",
      "      punct  length\n",
      "4635      2      43\n",
      "2279     15      78\n",
      "4545      1      35\n",
      "5084      3      21\n",
      "5298      1      36\n",
      "...     ...     ...\n",
      "3316      4     146\n",
      "1637      4     165\n",
      "684       9     158\n",
      "720       4     162\n",
      "348       1      31\n",
      "\n",
      "[1951 rows x 2 columns]\n",
      "\n",
      "\n",
      "---------------------------------------------------\n",
      "The y_train data is: \n",
      "\n",
      "\n",
      "520     ham\n",
      "730     ham\n",
      "1123    ham\n",
      "5254    ham\n",
      "3551    ham\n",
      "       ... \n",
      "1180    ham\n",
      "3441    ham\n",
      "1344    ham\n",
      "4623    ham\n",
      "1289    ham\n",
      "Name: label, Length: 3621, dtype: object\n",
      "\n",
      "\n",
      "---------------------------------------------------\n",
      "The y_test data is: \n",
      "\n",
      "\n",
      "4635     ham\n",
      "2279     ham\n",
      "4545     ham\n",
      "5084     ham\n",
      "5298     ham\n",
      "        ... \n",
      "3316    spam\n",
      "1637     ham\n",
      "684     spam\n",
      "720      ham\n",
      "348      ham\n",
      "Name: label, Length: 1951, dtype: object\n",
      "\n",
      "\n",
      "----------------------------------------------------\n"
     ]
    }
   ],
   "source": [
    "print(\"The X_train data is: \")\n",
    "print()\n",
    "print()\n",
    "print(X_train)\n",
    "\n",
    "print()\n",
    "print()\n",
    "print(\"---------------------------------------------------\")\n",
    "print(\"The X_test data is: \")\n",
    "print()\n",
    "print()\n",
    "print(X_test)\n",
    "\n",
    "print()\n",
    "print()\n",
    "print(\"---------------------------------------------------\")\n",
    "\n",
    "print(\"The y_train data is: \")\n",
    "print()\n",
    "print()\n",
    "print(y_train)\n",
    "\n",
    "print()\n",
    "print()\n",
    "print(\"---------------------------------------------------\")\n",
    "\n",
    "print(\"The y_test data is: \")\n",
    "print()\n",
    "print()\n",
    "print(y_test)\n",
    "\n",
    "print()\n",
    "print()\n",
    "print(\"----------------------------------------------------\")\n",
    "\n"
   ]
  },
  {
   "cell_type": "code",
   "execution_count": 147,
   "id": "56b9a8a0",
   "metadata": {},
   "outputs": [
    {
     "name": "stdout",
     "output_type": "stream",
     "text": [
      "(3621, 2)\n",
      "(1951, 2)\n",
      "(3621,)\n",
      "(1951,)\n"
     ]
    }
   ],
   "source": [
    "# checking the shapes of the data splits\n",
    "print(X_train.shape)\n",
    "print(X_test.shape)\n",
    "print(y_train.shape)\n",
    "print(y_test.shape)\n",
    "\n"
   ]
  },
  {
   "cell_type": "code",
   "execution_count": 148,
   "id": "0ad2b53a",
   "metadata": {},
   "outputs": [],
   "source": [
    "# import the machine learning model\n",
    "from sklearn.linear_model import LogisticRegression\n",
    "\n",
    "# create the instance of the machine learning model with the regularization penalty specified as l2\n",
    "lr_model = LogisticRegression(penalty = 'l2')\n"
   ]
  },
  {
   "cell_type": "code",
   "execution_count": 149,
   "id": "c760a589",
   "metadata": {},
   "outputs": [
    {
     "data": {
      "text/plain": [
       "LogisticRegression()"
      ]
     },
     "execution_count": 149,
     "metadata": {},
     "output_type": "execute_result"
    }
   ],
   "source": [
    "# train the ML model and make the model fit to the X_train and y_train data.\n",
    "lr_model.fit(X_train, y_train)"
   ]
  },
  {
   "cell_type": "code",
   "execution_count": 150,
   "id": "2ff28da6",
   "metadata": {},
   "outputs": [],
   "source": [
    "from sklearn.metrics import confusion_matrix\n",
    "from sklearn.metrics import classification_report\n",
    "from sklearn.metrics import accuracy_score"
   ]
  },
  {
   "cell_type": "code",
   "execution_count": 151,
   "id": "10db1b23",
   "metadata": {},
   "outputs": [],
   "source": [
    "predictions = lr_model.predict(X_test)"
   ]
  },
  {
   "cell_type": "code",
   "execution_count": 152,
   "id": "9bbbc05f",
   "metadata": {},
   "outputs": [
    {
     "name": "stdout",
     "output_type": "stream",
     "text": [
      "The predictions of the logistic regression model are: \n",
      "\n",
      "['ham' 'ham' 'ham' ... 'ham' 'ham' 'ham']\n"
     ]
    }
   ],
   "source": [
    "print(\"The predictions of the logistic regression model are: \")\n",
    "print()\n",
    "print(predictions)"
   ]
  },
  {
   "cell_type": "code",
   "execution_count": 153,
   "id": "74caef8e",
   "metadata": {},
   "outputs": [
    {
     "name": "stdout",
     "output_type": "stream",
     "text": [
      "[[1646   41]\n",
      " [ 261    3]]\n"
     ]
    }
   ],
   "source": [
    "# Building the confusion matrix to compare the y_test and predictions\n",
    "print(confusion_matrix(y_test, predictions))"
   ]
  },
  {
   "cell_type": "code",
   "execution_count": 154,
   "id": "91423356",
   "metadata": {},
   "outputs": [
    {
     "name": "stdout",
     "output_type": "stream",
     "text": [
      "       ham  spam\n",
      "ham   1646    41\n",
      "spam   261     3\n"
     ]
    }
   ],
   "source": [
    "df = pd.DataFrame(metrics.confusion_matrix(y_test,predictions), index=['ham','spam'], columns=['ham','spam'])\n",
    "print(df)"
   ]
  },
  {
   "cell_type": "code",
   "execution_count": 155,
   "id": "24380da0",
   "metadata": {},
   "outputs": [
    {
     "data": {
      "text/html": [
       "<div>\n",
       "<style scoped>\n",
       "    .dataframe tbody tr th:only-of-type {\n",
       "        vertical-align: middle;\n",
       "    }\n",
       "\n",
       "    .dataframe tbody tr th {\n",
       "        vertical-align: top;\n",
       "    }\n",
       "\n",
       "    .dataframe thead th {\n",
       "        text-align: right;\n",
       "    }\n",
       "</style>\n",
       "<table border=\"1\" class=\"dataframe\">\n",
       "  <thead>\n",
       "    <tr style=\"text-align: right;\">\n",
       "      <th></th>\n",
       "      <th>ham</th>\n",
       "      <th>spam</th>\n",
       "    </tr>\n",
       "  </thead>\n",
       "  <tbody>\n",
       "    <tr>\n",
       "      <th>ham</th>\n",
       "      <td>1646</td>\n",
       "      <td>41</td>\n",
       "    </tr>\n",
       "    <tr>\n",
       "      <th>spam</th>\n",
       "      <td>261</td>\n",
       "      <td>3</td>\n",
       "    </tr>\n",
       "  </tbody>\n",
       "</table>\n",
       "</div>"
      ],
      "text/plain": [
       "       ham  spam\n",
       "ham   1646    41\n",
       "spam   261     3"
      ]
     },
     "execution_count": 155,
     "metadata": {},
     "output_type": "execute_result"
    }
   ],
   "source": [
    "df"
   ]
  },
  {
   "cell_type": "code",
   "execution_count": 156,
   "id": "11d8d615",
   "metadata": {},
   "outputs": [
    {
     "name": "stdout",
     "output_type": "stream",
     "text": [
      "              precision    recall  f1-score   support\n",
      "\n",
      "         ham       0.86      0.98      0.92      1687\n",
      "        spam       0.07      0.01      0.02       264\n",
      "\n",
      "    accuracy                           0.85      1951\n",
      "   macro avg       0.47      0.49      0.47      1951\n",
      "weighted avg       0.76      0.85      0.79      1951\n",
      "\n"
     ]
    }
   ],
   "source": [
    "# displays a classification report\n",
    "print(classification_report(y_test,predictions))"
   ]
  },
  {
   "cell_type": "code",
   "execution_count": 157,
   "id": "ca2afaa7",
   "metadata": {},
   "outputs": [
    {
     "name": "stdout",
     "output_type": "stream",
     "text": [
      "0.8452075858534085\n"
     ]
    }
   ],
   "source": [
    "# prints the overall accuracy\n",
    "print(accuracy_score(y_test,predictions))"
   ]
  },
  {
   "cell_type": "code",
   "execution_count": 166,
   "id": "0c7ad800",
   "metadata": {},
   "outputs": [],
   "source": [
    "############Support Vector Machine Classifier Training ###\n",
    "from sklearn.naive_bayes import MultinomialNB\n",
    "\n",
    "nb_model = MultinomialNB()\n",
    "nb_model.fit(X_train, y_train)\n",
    "nb_predictions = nb_model.predict(X_test)\n",
    "\n"
   ]
  },
  {
   "cell_type": "code",
   "execution_count": 167,
   "id": "54aaed96",
   "metadata": {},
   "outputs": [
    {
     "name": "stdout",
     "output_type": "stream",
     "text": [
      "[[1681    6]\n",
      " [ 262    2]]\n"
     ]
    }
   ],
   "source": [
    "# Naive-Bayes model evaluation starts here.\n",
    "# displays the confusion matrix to compare the y_test and predictions\n",
    "print(confusion_matrix(y_test,nb_predictions))"
   ]
  },
  {
   "cell_type": "code",
   "execution_count": 168,
   "id": "6ad7705f",
   "metadata": {},
   "outputs": [
    {
     "name": "stdout",
     "output_type": "stream",
     "text": [
      "              precision    recall  f1-score   support\n",
      "\n",
      "         ham       0.87      1.00      0.93      1687\n",
      "        spam       0.25      0.01      0.01       264\n",
      "\n",
      "    accuracy                           0.86      1951\n",
      "   macro avg       0.56      0.50      0.47      1951\n",
      "weighted avg       0.78      0.86      0.80      1951\n",
      "\n"
     ]
    }
   ],
   "source": [
    "# displays the classification report\n",
    "print(classification_report(y_test,nb_predictions))"
   ]
  },
  {
   "cell_type": "code",
   "execution_count": 169,
   "id": "bb4bef27",
   "metadata": {},
   "outputs": [
    {
     "name": "stdout",
     "output_type": "stream",
     "text": [
      "0.8626345463864685\n"
     ]
    }
   ],
   "source": [
    "# display the accuracy score for the naive-bayes model\n",
    "print(accuracy_score(y_test, nb_predictions))\n",
    "\n",
    "\n",
    "# Naive-Bayes model evaluation ends here."
   ]
  },
  {
   "cell_type": "code",
   "execution_count": 170,
   "id": "68ad2bc1",
   "metadata": {},
   "outputs": [
    {
     "data": {
      "text/plain": [
       "SVC(gamma='auto')"
      ]
     },
     "execution_count": 170,
     "metadata": {},
     "output_type": "execute_result"
    }
   ],
   "source": [
    "# Training a Support Vector Machine Classifier Model\n",
    "from sklearn.svm import SVC\n",
    "svc_model = SVC(gamma='auto')\n",
    "svc_model.fit(X_train,y_train)\n"
   ]
  },
  {
   "cell_type": "code",
   "execution_count": 171,
   "id": "1104e154",
   "metadata": {},
   "outputs": [
    {
     "name": "stdout",
     "output_type": "stream",
     "text": [
      "[[1610   77]\n",
      " [ 119  145]]\n",
      "\n",
      "              precision    recall  f1-score   support\n",
      "\n",
      "         ham       0.93      0.95      0.94      1687\n",
      "        spam       0.65      0.55      0.60       264\n",
      "\n",
      "    accuracy                           0.90      1951\n",
      "   macro avg       0.79      0.75      0.77      1951\n",
      "weighted avg       0.89      0.90      0.90      1951\n",
      "\n",
      "\n",
      "0.8995386981035366\n"
     ]
    }
   ],
   "source": [
    "svc_predictions = svc_model.predict(X_test)\n",
    "\n",
    "# Evaluate the support vector machine classifier model with the evaluations metrics of confusion matrix, \n",
    "# classification report, and accuracy score\n",
    "print(confusion_matrix(y_test, svc_predictions))\n",
    "print()\n",
    "print(classification_report(y_test, svc_predictions))\n",
    "print()\n",
    "print(accuracy_score(y_test, svc_predictions))"
   ]
  },
  {
   "cell_type": "code",
   "execution_count": 172,
   "id": "80ddb3a5",
   "metadata": {},
   "outputs": [],
   "source": []
  },
  {
   "cell_type": "code",
   "execution_count": null,
   "id": "92ba14db",
   "metadata": {},
   "outputs": [],
   "source": []
  }
 ],
 "metadata": {
  "kernelspec": {
   "display_name": "Python 3 (ipykernel)",
   "language": "python",
   "name": "python3"
  },
  "language_info": {
   "codemirror_mode": {
    "name": "ipython",
    "version": 3
   },
   "file_extension": ".py",
   "mimetype": "text/x-python",
   "name": "python",
   "nbconvert_exporter": "python",
   "pygments_lexer": "ipython3",
   "version": "3.9.12"
  }
 },
 "nbformat": 4,
 "nbformat_minor": 5
}
