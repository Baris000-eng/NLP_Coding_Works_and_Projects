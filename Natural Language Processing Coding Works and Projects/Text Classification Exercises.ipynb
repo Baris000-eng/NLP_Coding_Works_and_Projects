{
 "cells": [
  {
   "cell_type": "code",
   "execution_count": 28,
   "id": "0092d01a",
   "metadata": {},
   "outputs": [
    {
     "name": "stdout",
     "output_type": "stream",
     "text": [
      "     label                                             review\n",
      "0      pos  I loved this movie and will watch it again. Or...\n",
      "1      pos  A warm, touching movie that has a fantasy-like...\n",
      "2      pos  I was not expecting the powerful filmmaking ex...\n",
      "3      neg  This so-called \"documentary\" tries to tell tha...\n",
      "4      pos  This show has been my escape from reality for ...\n",
      "...    ...                                                ...\n",
      "5995   pos  Of the three remakes of this plot, I like them...\n",
      "5996   neg  Poor Whoopi Goldberg. Imagine her at a friend'...\n",
      "5997   neg  Honestly before I watched this movie, I had he...\n",
      "5998   pos  This movie is essentially shot on a hand held ...\n",
      "5999   pos  It has singing. It has drama. It has comedy. I...\n",
      "\n",
      "[6000 rows x 2 columns]\n"
     ]
    }
   ],
   "source": [
    "# necessary imports \n",
    "import numpy as np\n",
    "import pandas as pd\n",
    "\n",
    "# reading the moviereviews2.tsv file\n",
    "movie_reviews_df = pd.read_csv(\"moviereviews2.tsv\", sep=\"\\t\")\n",
    "print(movie_reviews_df)"
   ]
  },
  {
   "cell_type": "code",
   "execution_count": 29,
   "id": "d6203df1",
   "metadata": {},
   "outputs": [
    {
     "name": "stdout",
     "output_type": "stream",
     "text": [
      "6000\n",
      "\n",
      "Row number: 6000, Column number: 2\n",
      "There are 6000 movies in the movie reviews data frame.\n"
     ]
    }
   ],
   "source": [
    "print(len(movie_reviews_df))\n",
    "row_num, column_num = movie_reviews_df.shape\n",
    "print()\n",
    "print(\"Row number: \"+str(row_num)+\", Column number: \"+str(column_num)+\"\")\n",
    "print(\"There are \"+str(row_num)+\" movies in the movie reviews data frame.\")"
   ]
  },
  {
   "cell_type": "code",
   "execution_count": 30,
   "id": "d7da8513",
   "metadata": {},
   "outputs": [
    {
     "data": {
      "text/html": [
       "<div>\n",
       "<style scoped>\n",
       "    .dataframe tbody tr th:only-of-type {\n",
       "        vertical-align: middle;\n",
       "    }\n",
       "\n",
       "    .dataframe tbody tr th {\n",
       "        vertical-align: top;\n",
       "    }\n",
       "\n",
       "    .dataframe thead th {\n",
       "        text-align: right;\n",
       "    }\n",
       "</style>\n",
       "<table border=\"1\" class=\"dataframe\">\n",
       "  <thead>\n",
       "    <tr style=\"text-align: right;\">\n",
       "      <th></th>\n",
       "      <th>label</th>\n",
       "      <th>review</th>\n",
       "    </tr>\n",
       "  </thead>\n",
       "  <tbody>\n",
       "    <tr>\n",
       "      <th>0</th>\n",
       "      <td>False</td>\n",
       "      <td>False</td>\n",
       "    </tr>\n",
       "    <tr>\n",
       "      <th>1</th>\n",
       "      <td>False</td>\n",
       "      <td>False</td>\n",
       "    </tr>\n",
       "    <tr>\n",
       "      <th>2</th>\n",
       "      <td>False</td>\n",
       "      <td>False</td>\n",
       "    </tr>\n",
       "    <tr>\n",
       "      <th>3</th>\n",
       "      <td>False</td>\n",
       "      <td>False</td>\n",
       "    </tr>\n",
       "    <tr>\n",
       "      <th>4</th>\n",
       "      <td>False</td>\n",
       "      <td>False</td>\n",
       "    </tr>\n",
       "    <tr>\n",
       "      <th>...</th>\n",
       "      <td>...</td>\n",
       "      <td>...</td>\n",
       "    </tr>\n",
       "    <tr>\n",
       "      <th>5995</th>\n",
       "      <td>False</td>\n",
       "      <td>False</td>\n",
       "    </tr>\n",
       "    <tr>\n",
       "      <th>5996</th>\n",
       "      <td>False</td>\n",
       "      <td>False</td>\n",
       "    </tr>\n",
       "    <tr>\n",
       "      <th>5997</th>\n",
       "      <td>False</td>\n",
       "      <td>False</td>\n",
       "    </tr>\n",
       "    <tr>\n",
       "      <th>5998</th>\n",
       "      <td>False</td>\n",
       "      <td>False</td>\n",
       "    </tr>\n",
       "    <tr>\n",
       "      <th>5999</th>\n",
       "      <td>False</td>\n",
       "      <td>False</td>\n",
       "    </tr>\n",
       "  </tbody>\n",
       "</table>\n",
       "<p>6000 rows × 2 columns</p>\n",
       "</div>"
      ],
      "text/plain": [
       "      label  review\n",
       "0     False   False\n",
       "1     False   False\n",
       "2     False   False\n",
       "3     False   False\n",
       "4     False   False\n",
       "...     ...     ...\n",
       "5995  False   False\n",
       "5996  False   False\n",
       "5997  False   False\n",
       "5998  False   False\n",
       "5999  False   False\n",
       "\n",
       "[6000 rows x 2 columns]"
      ]
     },
     "execution_count": 30,
     "metadata": {},
     "output_type": "execute_result"
    }
   ],
   "source": [
    "movie_reviews_df.isnull()"
   ]
  },
  {
   "cell_type": "code",
   "execution_count": 31,
   "id": "879128db",
   "metadata": {},
   "outputs": [
    {
     "name": "stdout",
     "output_type": "stream",
     "text": [
      "      label  review\n",
      "0     False   False\n",
      "1     False   False\n",
      "2     False   False\n",
      "3     False   False\n",
      "4     False   False\n",
      "...     ...     ...\n",
      "5995  False   False\n",
      "5996  False   False\n",
      "5997  False   False\n",
      "5998  False   False\n",
      "5999  False   False\n",
      "\n",
      "[6000 rows x 2 columns]\n"
     ]
    }
   ],
   "source": [
    "print(movie_reviews_df.isnull())"
   ]
  },
  {
   "cell_type": "code",
   "execution_count": 32,
   "id": "8ccd608b",
   "metadata": {},
   "outputs": [
    {
     "data": {
      "text/plain": [
       "label      0\n",
       "review    20\n",
       "dtype: int64"
      ]
     },
     "execution_count": 32,
     "metadata": {},
     "output_type": "execute_result"
    }
   ],
   "source": [
    "# checks for nan values\n",
    "movie_reviews_df.isnull().sum()"
   ]
  },
  {
   "cell_type": "code",
   "execution_count": 33,
   "id": "712b0f76",
   "metadata": {},
   "outputs": [],
   "source": [
    "# dropping the nan values\n",
    "movie_reviews_df.dropna(inplace=True)"
   ]
  },
  {
   "cell_type": "code",
   "execution_count": 34,
   "id": "9eefad32",
   "metadata": {},
   "outputs": [
    {
     "data": {
      "text/plain": [
       "label     0\n",
       "review    0\n",
       "dtype: int64"
      ]
     },
     "execution_count": 34,
     "metadata": {},
     "output_type": "execute_result"
    }
   ],
   "source": [
    "movie_reviews_df.isnull().sum()"
   ]
  },
  {
   "cell_type": "code",
   "execution_count": 35,
   "id": "553d7ec0",
   "metadata": {},
   "outputs": [
    {
     "name": "stdout",
     "output_type": "stream",
     "text": [
      "[]\n",
      "There are 0 whitespace strings in the movie reviews data frame.\n"
     ]
    }
   ],
   "source": [
    "# check for whitespace string for both labels and movie reviews\n",
    "\n",
    "blanks = list()\n",
    "for index, label, review in movie_reviews_df.itertuples():\n",
    "    if review.isspace():\n",
    "        blanks.append(index)\n",
    "        \n",
    "print(blanks)\n",
    "print(\"There are \"+str(len(blanks))+\" whitespace strings in the movie reviews data frame.\")"
   ]
  },
  {
   "cell_type": "code",
   "execution_count": 36,
   "id": "f07f55b6",
   "metadata": {},
   "outputs": [
    {
     "name": "stdout",
     "output_type": "stream",
     "text": [
      "pos    2990\n",
      "neg    2990\n",
      "Name: label, dtype: int64\n"
     ]
    }
   ],
   "source": [
    "movie_labels = movie_reviews_df['label']\n",
    "label_counts = movie_labels.value_counts()\n",
    "print(label_counts)"
   ]
  },
  {
   "cell_type": "code",
   "execution_count": 37,
   "id": "ac5cfddd",
   "metadata": {},
   "outputs": [
    {
     "name": "stdout",
     "output_type": "stream",
     "text": [
      "There are 2990 positive movies in the movie reviews data frame.\n",
      "There are 2990 negative movies in the movie reviews data frame.\n"
     ]
    }
   ],
   "source": [
    "print(\"There are \"+str(label_counts['pos'])+\" positive movies in the movie reviews data frame.\")\n",
    "print(\"There are \"+str(label_counts['neg'])+\" negative movies in the movie reviews data frame.\")"
   ]
  },
  {
   "cell_type": "code",
   "execution_count": 38,
   "id": "996f6abb",
   "metadata": {},
   "outputs": [
    {
     "name": "stdout",
     "output_type": "stream",
     "text": [
      "-------------------------------------------------\n",
      "The X_train data is as follows: \n",
      "\n",
      "453     Weak Bobby \"Pineapple Salsa\" Flay and Mario Ba...\n",
      "5974    While some performances were good-Victoria Row...\n",
      "5964    THE SECRET OF KELLS may be the most exquisite ...\n",
      "680     To me movies and acting is all about telling a...\n",
      "3659    I've seen this movie at theater when it first ...\n",
      "                              ...                        \n",
      "5979    The movie seemed to appeal me because of the n...\n",
      "3350    This is a so called 'feel-good' movies, howeve...\n",
      "5445    I became more emotionally attached to this mov...\n",
      "3072    First, before reading further, you must unders...\n",
      "3409    This is one of the worst films ever. I like ch...\n",
      "Name: review, Length: 4006, dtype: object\n",
      "-------------------------------------------------\n",
      "The X_test data is as follows: \n",
      "\n",
      "1391    I was interested to see the move thinking that...\n",
      "4802    One of the best records of Israel's response t...\n",
      "5136    This is a well-worn story about a man who marr...\n",
      "5120    Times are tough for Angel Town, gangs rule wit...\n",
      "5       Lately they have been trying to hock this film...\n",
      "                              ...                        \n",
      "1193    Full House is a wonderful sitcom that is about...\n",
      "1646    Pinjar is truly a masterpiece... . It's a thou...\n",
      "4694    In the year 1985 (my birth year) Steven Spielb...\n",
      "733     I was lucky enough to see Zero Day last night....\n",
      "5101    To all the reviewers on this page, I would hav...\n",
      "Name: review, Length: 1974, dtype: object\n",
      "-------------------------------------------------\n",
      "The y_train data is as follows: \n",
      "\n",
      "453     neg\n",
      "5974    neg\n",
      "5964    pos\n",
      "680     pos\n",
      "3659    pos\n",
      "       ... \n",
      "5979    neg\n",
      "3350    pos\n",
      "5445    pos\n",
      "3072    neg\n",
      "3409    neg\n",
      "Name: label, Length: 4006, dtype: object\n",
      "-------------------------------------------------\n",
      "The y_test data is as follows: \n",
      "\n",
      "1391    neg\n",
      "4802    pos\n",
      "5136    neg\n",
      "5120    neg\n",
      "5       neg\n",
      "       ... \n",
      "1193    pos\n",
      "1646    pos\n",
      "4694    pos\n",
      "733     pos\n",
      "5101    pos\n",
      "Name: label, Length: 1974, dtype: object\n",
      "-------------------------------------------------\n"
     ]
    }
   ],
   "source": [
    "from sklearn.model_selection import train_test_split\n",
    "\n",
    "X = movie_reviews_df['review']\n",
    "y = movie_reviews_df['label']\n",
    "\n",
    "# Dividing the entire dataset into the training set and test set. Allocating 33 percent of the data to the \n",
    "# test set and 67 percent of the data to the training set. The 'random_state' parameter is set to get the \n",
    "# same result in different splits.\n",
    "X_train, X_test, y_train, y_test = train_test_split(X, y, test_size = 0.33, random_state = 40)\n",
    "\n",
    "# displaying the X_train, X_test, y_train and y_test data \n",
    "print(\"-------------------------------------------------\")\n",
    "print(\"The X_train data is as follows: \")\n",
    "print()\n",
    "print(X_train)\n",
    "print(\"-------------------------------------------------\")\n",
    "print(\"The X_test data is as follows: \")\n",
    "print()\n",
    "print(X_test)\n",
    "print(\"-------------------------------------------------\")\n",
    "print(\"The y_train data is as follows: \")\n",
    "print()\n",
    "print(y_train)\n",
    "print(\"-------------------------------------------------\")\n",
    "print(\"The y_test data is as follows: \")\n",
    "print()\n",
    "print(y_test)\n",
    "print(\"-------------------------------------------------\")"
   ]
  },
  {
   "cell_type": "code",
   "execution_count": 40,
   "id": "23f4a589",
   "metadata": {},
   "outputs": [
    {
     "data": {
      "text/plain": [
       "Pipeline(steps=[('tfidf', TfidfVectorizer()), ('svc', LinearSVC())])"
      ]
     },
     "execution_count": 40,
     "metadata": {},
     "output_type": "execute_result"
    }
   ],
   "source": [
    "# Building a pipeline to vectorize the data, and training & fitting a machine learning (ML) model.\n",
    "\n",
    "from sklearn.pipeline import Pipeline \n",
    "from sklearn.feature_extraction.text import TfidfVectorizer\n",
    "from sklearn.svm import LinearSVC\n",
    "\n",
    "\n",
    "text_pipeline = Pipeline([('tfidf', TfidfVectorizer()), ('svc', LinearSVC())])\n",
    "\n",
    "# fit the data \n",
    "text_pipeline.fit(X_train, y_train) "
   ]
  },
  {
   "cell_type": "code",
   "execution_count": 41,
   "id": "665f5e4c",
   "metadata": {},
   "outputs": [
    {
     "name": "stdout",
     "output_type": "stream",
     "text": [
      "Pipeline(steps=[('tfidf', TfidfVectorizer()), ('svc', LinearSVC())])\n"
     ]
    }
   ],
   "source": [
    "print(text_pipeline)"
   ]
  },
  {
   "cell_type": "code",
   "execution_count": 43,
   "id": "489ffc61",
   "metadata": {},
   "outputs": [],
   "source": [
    "# Form the predictions \n",
    "list_of_predictions = text_pipeline.predict(X_test)"
   ]
  },
  {
   "cell_type": "code",
   "execution_count": 48,
   "id": "49529733",
   "metadata": {},
   "outputs": [
    {
     "name": "stdout",
     "output_type": "stream",
     "text": [
      "The confusion matrix is as follows: \n",
      "\n",
      "[[885  73]\n",
      " [ 67 949]]\n",
      "\n",
      "-----------------------------------------------------------\n",
      "The overall accuracy score is as follows: \n",
      "\n",
      "0.9290780141843972\n",
      "\n",
      "-----------------------------------------------------------\n",
      "The classification report is as follows: \n",
      "\n",
      "              precision    recall  f1-score   support\n",
      "\n",
      "         neg       0.93      0.92      0.93       958\n",
      "         pos       0.93      0.93      0.93      1016\n",
      "\n",
      "    accuracy                           0.93      1974\n",
      "   macro avg       0.93      0.93      0.93      1974\n",
      "weighted avg       0.93      0.93      0.93      1974\n",
      "\n",
      "\n",
      "------------------------------------------------------------\n"
     ]
    }
   ],
   "source": [
    "# Evaluate the performance of the linear support vector classifier model\n",
    "from sklearn.metrics import confusion_matrix \n",
    "from sklearn.metrics import accuracy_score \n",
    "from sklearn.metrics import classification_report\n",
    "\n",
    "# displaying the confusion matrix \n",
    "print(\"The confusion matrix is as follows: \")\n",
    "print()\n",
    "confusion_matrix = confusion_matrix(y_test, list_of_predictions)\n",
    "print(confusion_matrix)\n",
    "\n",
    "\n",
    "print()\n",
    "print(\"-----------------------------------------------------------\")\n",
    "\n",
    "# displaying the accuracy score \n",
    "print(\"The overall accuracy score is as follows: \")\n",
    "print()\n",
    "accuracy_score = accuracy_score(y_test, list_of_predictions)\n",
    "print(accuracy_score)\n",
    "\n",
    "print()\n",
    "print(\"-----------------------------------------------------------\")\n",
    "\n",
    "# displaying the classification report \n",
    "print(\"The classification report is as follows: \")\n",
    "print()\n",
    "classification_report = classification_report(y_test, list_of_predictions)\n",
    "print(classification_report)\n",
    "\n",
    "print()\n",
    "print(\"------------------------------------------------------------\")"
   ]
  },
  {
   "cell_type": "code",
   "execution_count": null,
   "id": "d8db8496",
   "metadata": {},
   "outputs": [],
   "source": []
  }
 ],
 "metadata": {
  "kernelspec": {
   "display_name": "Python 3 (ipykernel)",
   "language": "python",
   "name": "python3"
  },
  "language_info": {
   "codemirror_mode": {
    "name": "ipython",
    "version": 3
   },
   "file_extension": ".py",
   "mimetype": "text/x-python",
   "name": "python",
   "nbconvert_exporter": "python",
   "pygments_lexer": "ipython3",
   "version": "3.9.12"
  }
 },
 "nbformat": 4,
 "nbformat_minor": 5
}
