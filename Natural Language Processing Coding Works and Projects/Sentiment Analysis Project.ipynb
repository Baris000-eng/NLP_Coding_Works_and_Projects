{
 "cells": [
  {
   "cell_type": "code",
   "execution_count": 112,
   "id": "7b8c5871",
   "metadata": {},
   "outputs": [
    {
     "name": "stdout",
     "output_type": "stream",
     "text": [
      "<spacy.lang.en.English object at 0x7f9fa2cfb340>\n"
     ]
    }
   ],
   "source": [
    "# Import spacy and load large english language library \n",
    "import spacy\n",
    "\n",
    "nlp = spacy.load('en_core_web_md')\n",
    "print(nlp)"
   ]
  },
  {
   "cell_type": "code",
   "execution_count": 113,
   "id": "d84b57a5",
   "metadata": {},
   "outputs": [],
   "source": [
    "# choose the words to be compared and obtain the vectors\n",
    "\n",
    "\n",
    "word1_vec = nlp.vocab['wolf'].vector\n",
    "word2_vec = nlp.vocab['dog'].vector\n",
    "word3_vec = nlp.vocab['cat'].vector"
   ]
  },
  {
   "cell_type": "code",
   "execution_count": 114,
   "id": "0826eae1",
   "metadata": {},
   "outputs": [],
   "source": [
    "# cosine similarity function\n",
    "import numpy as np\n",
    "from scipy.spatial.distance import cosine\n",
    "\n",
    "import numpy as np\n",
    "\n",
    "def cosine_similarity(vec1, vec2):\n",
    "    dot_product = np.dot(vec1, vec2)\n",
    "    norm_vec1 = np.linalg.norm(vec1)\n",
    "    norm_vec2 = np.linalg.norm(vec2)\n",
    "    \n",
    "    similarity = dot_product / (norm_vec1 * norm_vec2)\n",
    "    \n",
    "    return similarity"
   ]
  },
  {
   "cell_type": "code",
   "execution_count": 115,
   "id": "5e1deba0",
   "metadata": {},
   "outputs": [
    {
     "name": "stdout",
     "output_type": "stream",
     "text": [
      "[-3.31050038e-01 -7.70348012e-01 -1.61958992e-01  5.14509976e-02\n",
      " -4.39818025e-01  5.61370015e-01 -7.02800155e-02 -1.59049034e-02\n",
      " -3.21312010e-01  3.47299814e-01 -4.55450028e-01 -8.28244984e-01\n",
      " -7.40220010e-01 -5.42928994e-01 -5.63299805e-02  4.28279996e-01\n",
      " -4.62331504e-01  4.05170023e-01 -5.48449993e-01  1.02373034e-01\n",
      "  1.80074990e-01 -7.66499713e-03 -2.12929994e-01 -2.46849999e-01\n",
      " -5.52890062e-01  9.38629806e-02 -7.23510027e-01  7.02539980e-02\n",
      "  5.78920245e-02  1.84492990e-01 -4.80529994e-01  2.75459979e-02\n",
      "  6.71660006e-02 -5.13229966e-01  2.37689972e-01 -3.08634996e-01\n",
      "  3.63579988e-01 -1.35779977e-01 -7.75561988e-01 -4.09240007e-01\n",
      " -3.27869982e-01  3.85720015e-01  3.15609947e-02 -1.71799973e-01\n",
      "  6.24130011e-01  2.73019969e-02 -2.17069983e-01  3.58170003e-01\n",
      " -6.13200068e-02 -3.95631999e-01 -1.76720008e-01 -1.14570022e-01\n",
      " -6.55736983e-01 -9.14748907e-02 -5.13620019e-01 -3.11610043e-01\n",
      " -3.33386004e-01  3.16150010e-01  3.79950583e-01  1.39960021e-01\n",
      "  5.87500446e-03 -1.16848797e-01 -1.95110068e-02 -7.61590004e-01\n",
      " -5.90600014e-01 -2.85609990e-01 -1.24830008e-01 -4.09950167e-02\n",
      "  4.91731107e-01 -4.76163030e-01  3.83399993e-01 -8.43399987e-02\n",
      " -5.26211083e-01 -3.78809988e-01 -3.46466005e-01  6.23516977e-01\n",
      " -4.75839972e-01 -4.99099493e-02  4.18850005e-01 -3.62799972e-01\n",
      " -9.68000293e-03 -1.96059018e-01  6.59770012e-01  7.53539979e-01\n",
      "  6.22070014e-01 -3.21700007e-01  1.08907986e+00 -7.71560073e-02\n",
      "  1.96569979e-01  3.93941015e-01 -1.04179978e-02  7.58900046e-02\n",
      " -2.44010054e-02 -1.05455995e+00  1.26237988e-01 -4.83850002e-01\n",
      "  2.39899904e-02  2.75130004e-01 -8.63810182e-02  3.70970011e-01\n",
      " -1.24909401e-01  4.26950008e-01  2.03523993e-01  3.97080034e-02\n",
      " -1.44252986e-01 -9.81040001e-01  3.71429980e-01 -1.57549009e-01\n",
      " -2.65230000e-01  3.94029975e-01  1.10208020e-01  5.74499965e-02\n",
      "  3.66270006e-01 -1.22520995e+00 -2.87450016e-01  4.38091964e-01\n",
      "  1.58252001e-01  1.85795009e-01  2.75606990e-01  4.61439967e-01\n",
      " -1.16912007e-01 -5.55723011e-01  1.08862996e+00 -7.29069948e-01\n",
      " -5.31690001e-01  3.06210011e-01  2.87169993e-01 -1.76618978e-01\n",
      " -9.14950013e-01 -6.37829900e-02 -3.91300172e-02 -5.42359948e-01\n",
      " -2.61259019e-01 -1.22139990e-01  3.08182001e-01  4.25031006e-01\n",
      " -8.61109972e-01 -4.72699970e-01 -1.07039988e-01  4.15156007e-01\n",
      " -2.71810007e+00  1.75460011e-01 -5.05509019e-01  1.05009973e-01\n",
      "  1.40429974e-01  3.12720001e-01 -2.30310887e-01 -2.29829982e-01\n",
      " -1.60552993e-01 -5.70474029e-01 -2.77104080e-01 -5.47700375e-03\n",
      "  2.16629028e-01  4.27509993e-02  8.93410027e-01  9.67379808e-02\n",
      " -6.47546127e-02  3.27570021e-01  1.09510005e-01  1.07298994e+00\n",
      "  5.32029986e-01 -3.87449980e-01 -9.74184036e-01 -3.34679991e-01\n",
      "  8.85309950e-02  8.96609873e-02 -6.89045012e-01 -5.72497010e-01\n",
      " -3.77822012e-01 -3.33095998e-01 -2.49231994e-01  1.66586995e-01\n",
      " -1.20750979e-01  1.99960008e-01 -6.26125395e-01  5.76830029e-01\n",
      "  1.06318200e+00 -6.61490083e-01 -2.01179996e-01  2.20629930e-01\n",
      " -2.78321028e-01 -3.21359992e-01  2.95656979e-01  1.10089988e-01\n",
      " -4.70340043e-01 -1.39389992e-01 -4.52513993e-01 -2.30767980e-01\n",
      "  1.50028899e-01 -8.57400298e-02  4.15970087e-02  2.59624004e-01\n",
      " -1.78999990e-01 -2.16020048e-01  9.22899961e-01  4.26420003e-01\n",
      "  6.27239943e-02 -3.91209990e-01 -1.37199759e-02 -1.76046997e-01\n",
      " -4.25839990e-01  6.09243989e-01 -5.50269961e-01 -2.93646991e-01\n",
      " -8.47920105e-02 -4.52275991e-01  1.87230021e-01  8.47630128e-02\n",
      " -4.63569999e-01 -6.40861690e-01  3.51080000e-01  1.03940010e-01\n",
      "  8.49002600e-03  1.09519988e-01  2.10587010e-01 -3.27129990e-01\n",
      " -3.51738989e-01  5.38730025e-01  3.30994993e-01  2.71548688e-01\n",
      " -3.65408003e-01 -2.61699855e-02 -2.02610001e-01 -1.31089985e-01\n",
      "  4.99400049e-02  3.97200018e-01  9.10300016e-01  7.39619970e-01\n",
      "  8.41400102e-02  1.08899109e-01 -2.39800006e-01 -9.28249881e-02\n",
      " -2.20200017e-01 -2.35240996e-01  7.21499771e-02 -1.22207999e-01\n",
      " -6.20449007e-01 -4.70023990e-01  2.80089974e-02 -3.16390038e-01\n",
      " -3.59710008e-01  4.49225187e-01  2.15335995e-01 -6.56260028e-02\n",
      " -4.66200113e-02 -1.94677308e-01  5.63167989e-01  6.62439942e-01\n",
      "  3.26789975e-01 -7.79739022e-01 -3.10249984e-01 -2.62999982e-01\n",
      " -9.76800025e-02  1.03044009e+00  2.18171373e-01 -3.18778008e-01\n",
      " -6.08583987e-01  2.95673013e-01  9.06334817e-02 -6.51859999e-01\n",
      " -4.64065999e-01  1.15209013e-01  3.95361006e-01  1.20670021e-01\n",
      "  4.57944989e-01 -4.84549999e-01  3.30794990e-01 -3.67448986e-01\n",
      "  1.15570992e-01 -2.32865989e-01 -5.05580068e-01 -2.40004063e-03\n",
      "  1.42717987e-01 -2.00480998e-01  1.47107989e-01 -9.05800313e-02\n",
      "  2.27445006e-01  9.95599926e-02 -2.45819986e-01 -4.04026002e-01\n",
      "  2.63533980e-01  5.58099985e-01  6.30230010e-02 -7.24699974e-01\n",
      "  4.35009986e-01  3.23070019e-01  5.10860085e-02 -4.24060017e-01\n",
      " -1.81750000e-01 -1.49455011e-01 -6.88588023e-01  3.60010028e-01\n",
      " -1.63883999e-01  3.60495508e-01 -1.17083997e-01  7.76620030e-01\n",
      " -3.66622001e-01  4.96960014e-01 -2.14143008e-01 -5.52599013e-01]\n"
     ]
    }
   ],
   "source": [
    "# write the expression for the vector arithmetic\n",
    "# For example: new_vector = word1 - word2 + word3\n",
    "new_word_vector = word1_vec - word2_vec + word3_vec\n",
    "print(new_word_vector)"
   ]
  },
  {
   "cell_type": "code",
   "execution_count": 116,
   "id": "1fc2fa96",
   "metadata": {},
   "outputs": [
    {
     "name": "stdout",
     "output_type": "stream",
     "text": [
      "[(<spacy.lexeme.Lexeme object at 0x7f9f57c593c0>, 0.16905345), (<spacy.lexeme.Lexeme object at 0x7f9f57c59540>, 0.17002648), (<spacy.lexeme.Lexeme object at 0x7f9f3861de00>, 0.15084052), (<spacy.lexeme.Lexeme object at 0x7f9f57c59d80>, 0.104636885), (<spacy.lexeme.Lexeme object at 0x7f9f57c59240>, 0.1329127), (<spacy.lexeme.Lexeme object at 0x7f9f57c59140>, 0.1599494), (<spacy.lexeme.Lexeme object at 0x7f9f57c59ac0>, 0.14680494), (<spacy.lexeme.Lexeme object at 0x7f9f57c59300>, 0.17970337), (<spacy.lexeme.Lexeme object at 0x7f9f57c592c0>, 0.1324435), (<spacy.lexeme.Lexeme object at 0x7f9f57c596c0>, 0.13562693), (<spacy.lexeme.Lexeme object at 0x7f9f57c59900>, 0.17419808), (<spacy.lexeme.Lexeme object at 0x7f9f57c59940>, 0.07177296), (<spacy.lexeme.Lexeme object at 0x7f9f57c598c0>, 0.07082137), (<spacy.lexeme.Lexeme object at 0x7f9f57c597c0>, 0.074775286), (<spacy.lexeme.Lexeme object at 0x7f9f57c59b80>, 0.08621389), (<spacy.lexeme.Lexeme object at 0x7f9f57c59980>, 0.16905345), (<spacy.lexeme.Lexeme object at 0x7f9f57c59600>, 0.0768508), (<spacy.lexeme.Lexeme object at 0x7f9f57c59040>, 0.17534114), (<spacy.lexeme.Lexeme object at 0x7f9f57975040>, 0.17373423), (<spacy.lexeme.Lexeme object at 0x7f9f57975740>, 0.17318816), (<spacy.lexeme.Lexeme object at 0x7f9f57975380>, 0.10662285), (<spacy.lexeme.Lexeme object at 0x7f9f57975b40>, 0.08369185), (<spacy.lexeme.Lexeme object at 0x7f9f57975e40>, 0.20836692), (<spacy.lexeme.Lexeme object at 0x7f9f57975ec0>, 0.19422834), (<spacy.lexeme.Lexeme object at 0x7f9f57975d40>, 0.19168209), (<spacy.lexeme.Lexeme object at 0x7f9f57975e00>, 0.15333718), (<spacy.lexeme.Lexeme object at 0x7f9f579759c0>, 0.20993558), (<spacy.lexeme.Lexeme object at 0x7f9f4e2b64c0>, 0.11362198), (<spacy.lexeme.Lexeme object at 0x7f9f57975540>, 0.17848289), (<spacy.lexeme.Lexeme object at 0x7f9f57975600>, 0.14923133), (<spacy.lexeme.Lexeme object at 0x7f9f57975a00>, 0.14367945), (<spacy.lexeme.Lexeme object at 0x7f9f57975200>, 0.8239493), (<spacy.lexeme.Lexeme object at 0x7f9f579752c0>, 0.1261627), (<spacy.lexeme.Lexeme object at 0x7f9f57975180>, 0.13510445), (<spacy.lexeme.Lexeme object at 0x7f9f57975780>, 0.11099297), (<spacy.lexeme.Lexeme object at 0x7f9f579753c0>, 0.12850991), (<spacy.lexeme.Lexeme object at 0x7f9f57975cc0>, 0.122235574), (<spacy.lexeme.Lexeme object at 0x7f9f57975d80>, 0.18318069), (<spacy.lexeme.Lexeme object at 0x7f9f579758c0>, 0.1522566), (<spacy.lexeme.Lexeme object at 0x7f9f57975580>, 0.19321986), (<spacy.lexeme.Lexeme object at 0x7f9f57975940>, 0.14005473), (<spacy.lexeme.Lexeme object at 0x7f9f57973200>, 0.21430172), (<spacy.lexeme.Lexeme object at 0x7f9f57975640>, 0.25625744), (<spacy.lexeme.Lexeme object at 0x7f9f57973580>, 0.09938505), (<spacy.lexeme.Lexeme object at 0x7f9f57973840>, 0.12572852), (<spacy.lexeme.Lexeme object at 0x7f9f579738c0>, 0.090625875), (<spacy.lexeme.Lexeme object at 0x7f9f57973c80>, 0.17792708), (<spacy.lexeme.Lexeme object at 0x7f9f57973f40>, 0.14244203), (<spacy.lexeme.Lexeme object at 0x7f9f57973e00>, 0.15902185), (<spacy.lexeme.Lexeme object at 0x7f9f57973a40>, 0.25128406), (<spacy.lexeme.Lexeme object at 0x7f9f57973e80>, 0.12431133), (<spacy.lexeme.Lexeme object at 0x7f9f57973b00>, 0.13789694), (<spacy.lexeme.Lexeme object at 0x7f9f57973b80>, 0.16877788), (<spacy.lexeme.Lexeme object at 0x7f9f57973780>, 0.14968225), (<spacy.lexeme.Lexeme object at 0x7f9f57973380>, 0.18652333), (<spacy.lexeme.Lexeme object at 0x7f9f57973800>, 0.14167601), (<spacy.lexeme.Lexeme object at 0x7f9f57973440>, 0.24683449), (<spacy.lexeme.Lexeme object at 0x7f9f579730c0>, 0.16715485), (<spacy.lexeme.Lexeme object at 0x7f9f57973140>, 0.18832159), (<spacy.lexeme.Lexeme object at 0x7f9f579734c0>, 0.146317), (<spacy.lexeme.Lexeme object at 0x7f9f57973040>, 0.1318833), (<spacy.lexeme.Lexeme object at 0x7f9f57973ec0>, 0.06407756), (<spacy.lexeme.Lexeme object at 0x7f9f57973dc0>, 0.18512146), (<spacy.lexeme.Lexeme object at 0x7f9f57973700>, 0.18356389), (<spacy.lexeme.Lexeme object at 0x7f9f579737c0>, 0.097255066), (<spacy.lexeme.Lexeme object at 0x7f9f57973480>, 0.0968059), (<spacy.lexeme.Lexeme object at 0x7f9f57973b40>, 0.15100655), (<spacy.lexeme.Lexeme object at 0x7f9f57971140>, 0.22444247), (<spacy.lexeme.Lexeme object at 0x7f9f57971400>, 0.0939947), (<spacy.lexeme.Lexeme object at 0x7f9f57971780>, 0.1316959), (<spacy.lexeme.Lexeme object at 0x7f9f388a5d80>, 0.15959135), (<spacy.lexeme.Lexeme object at 0x7f9f57971b80>, 0.2040675), (<spacy.lexeme.Lexeme object at 0x7f9f57971ec0>, 0.16905345), (<spacy.lexeme.Lexeme object at 0x7f9f57971b00>, 0.2273226), (<spacy.lexeme.Lexeme object at 0x7f9f57971d80>, 0.1022511), (<spacy.lexeme.Lexeme object at 0x7f9f579719c0>, 0.25580516), (<spacy.lexeme.Lexeme object at 0x7f9f57971d00>, 0.15863179), (<spacy.lexeme.Lexeme object at 0x7f9f57971a00>, 0.17456202), (<spacy.lexeme.Lexeme object at 0x7f9f57971740>, 0.12707153), (<spacy.lexeme.Lexeme object at 0x7f9f57971680>, 0.14095463), (<spacy.lexeme.Lexeme object at 0x7f9f57971a80>, 0.14581256), (<spacy.lexeme.Lexeme object at 0x7f9f57971300>, 0.13339134), (<spacy.lexeme.Lexeme object at 0x7f9f579713c0>, 0.13009155), (<spacy.lexeme.Lexeme object at 0x7f9f57971800>, 0.10201824), (<spacy.lexeme.Lexeme object at 0x7f9f57971dc0>, 0.1377796), (<spacy.lexeme.Lexeme object at 0x7f9f57971640>, 0.07194968), (<spacy.lexeme.Lexeme object at 0x7f9f579716c0>, 0.5730767), (<spacy.lexeme.Lexeme object at 0x7f9f579712c0>, 0.10195734), (<spacy.lexeme.Lexeme object at 0x7f9f57971340>, 0.121833466), (<spacy.lexeme.Lexeme object at 0x7f9f58a3d840>, 0.11827783), (<spacy.lexeme.Lexeme object at 0x7f9f57971480>, 0.08855241), (<spacy.lexeme.Lexeme object at 0x7f9f2dd01c80>, 0.03345293), (<spacy.lexeme.Lexeme object at 0x7fa0ab466fc0>, 0.100287855), (<spacy.lexeme.Lexeme object at 0x7fa06a3b8080>, 0.14792466), (<spacy.lexeme.Lexeme object at 0x7f9f38992c00>, 0.14038257), (<spacy.lexeme.Lexeme object at 0x7f9f38992840>, 0.06919088), (<spacy.lexeme.Lexeme object at 0x7f9f38992040>, 0.30640393), (<spacy.lexeme.Lexeme object at 0x7f9f389921c0>, 0.18689804), (<spacy.lexeme.Lexeme object at 0x7f9f389923c0>, 0.020182218), (<spacy.lexeme.Lexeme object at 0x7f9f38992240>, 0.2198001), (<spacy.lexeme.Lexeme object at 0x7f9f389920c0>, 0.14814082), (<spacy.lexeme.Lexeme object at 0x7f9f389929c0>, 0.11651357), (<spacy.lexeme.Lexeme object at 0x7f9f38992580>, 0.07282124), (<spacy.lexeme.Lexeme object at 0x7f9f38992ac0>, 0.07662814), (<spacy.lexeme.Lexeme object at 0x7f9f38992300>, 0.16958235), (<spacy.lexeme.Lexeme object at 0x7f9f38992100>, 0.16844425), (<spacy.lexeme.Lexeme object at 0x7f9f57973100>, 0.11805441)]\n"
     ]
    }
   ],
   "source": [
    "# list the top 20 closest vectors in the vocabulary to the result of above vector arithmetic\n",
    "\n",
    "calculated_similarities = []\n",
    "for word in nlp.vocab:\n",
    "    if word.has_vector:\n",
    "        if word.is_lower:\n",
    "            if word.is_alpha:\n",
    "                similarity = cosine_similarity(new_word_vector, word.vector)\n",
    "                calculated_similarities.append((word, similarity))\n",
    "        \n",
    "print(calculated_similarities)\n",
    "        "
   ]
  },
  {
   "cell_type": "code",
   "execution_count": 117,
   "id": "b1f7e9b4",
   "metadata": {},
   "outputs": [
    {
     "name": "stdout",
     "output_type": "stream",
     "text": [
      "[(<spacy.lexeme.Lexeme object at 0x7f9f57975200>, 0.8239493), (<spacy.lexeme.Lexeme object at 0x7f9f579716c0>, 0.5730767), (<spacy.lexeme.Lexeme object at 0x7f9f38992040>, 0.30640393), (<spacy.lexeme.Lexeme object at 0x7f9f57975640>, 0.25625744), (<spacy.lexeme.Lexeme object at 0x7f9f579719c0>, 0.25580516), (<spacy.lexeme.Lexeme object at 0x7f9f57973a40>, 0.25128406), (<spacy.lexeme.Lexeme object at 0x7f9f57973440>, 0.24683449), (<spacy.lexeme.Lexeme object at 0x7f9f57971b00>, 0.2273226), (<spacy.lexeme.Lexeme object at 0x7f9f57971140>, 0.22444247), (<spacy.lexeme.Lexeme object at 0x7f9f38992240>, 0.2198001), (<spacy.lexeme.Lexeme object at 0x7f9f57973200>, 0.21430172), (<spacy.lexeme.Lexeme object at 0x7f9f579759c0>, 0.20993558), (<spacy.lexeme.Lexeme object at 0x7f9f57975e40>, 0.20836692), (<spacy.lexeme.Lexeme object at 0x7f9f57971b80>, 0.2040675), (<spacy.lexeme.Lexeme object at 0x7f9f57975ec0>, 0.19422834), (<spacy.lexeme.Lexeme object at 0x7f9f57975580>, 0.19321986), (<spacy.lexeme.Lexeme object at 0x7f9f57975d40>, 0.19168209), (<spacy.lexeme.Lexeme object at 0x7f9f57973140>, 0.18832159), (<spacy.lexeme.Lexeme object at 0x7f9f389921c0>, 0.18689804), (<spacy.lexeme.Lexeme object at 0x7f9f57973380>, 0.18652333), (<spacy.lexeme.Lexeme object at 0x7f9f57973dc0>, 0.18512146), (<spacy.lexeme.Lexeme object at 0x7f9f57973700>, 0.18356389), (<spacy.lexeme.Lexeme object at 0x7f9f57975d80>, 0.18318069), (<spacy.lexeme.Lexeme object at 0x7f9f57c59300>, 0.17970337), (<spacy.lexeme.Lexeme object at 0x7f9f57975540>, 0.17848289), (<spacy.lexeme.Lexeme object at 0x7f9f57973c80>, 0.17792708), (<spacy.lexeme.Lexeme object at 0x7f9f57c59040>, 0.17534114), (<spacy.lexeme.Lexeme object at 0x7f9f57971a00>, 0.17456202), (<spacy.lexeme.Lexeme object at 0x7f9f57c59900>, 0.17419808), (<spacy.lexeme.Lexeme object at 0x7f9f57975040>, 0.17373423), (<spacy.lexeme.Lexeme object at 0x7f9f57975740>, 0.17318816), (<spacy.lexeme.Lexeme object at 0x7f9f57c59540>, 0.17002648), (<spacy.lexeme.Lexeme object at 0x7f9f38992300>, 0.16958235), (<spacy.lexeme.Lexeme object at 0x7f9f57c593c0>, 0.16905345), (<spacy.lexeme.Lexeme object at 0x7f9f57c59980>, 0.16905345), (<spacy.lexeme.Lexeme object at 0x7f9f57971ec0>, 0.16905345), (<spacy.lexeme.Lexeme object at 0x7f9f57973b80>, 0.16877788), (<spacy.lexeme.Lexeme object at 0x7f9f38992100>, 0.16844425), (<spacy.lexeme.Lexeme object at 0x7f9f579730c0>, 0.16715485), (<spacy.lexeme.Lexeme object at 0x7f9f57c59140>, 0.1599494), (<spacy.lexeme.Lexeme object at 0x7f9f388a5d80>, 0.15959135), (<spacy.lexeme.Lexeme object at 0x7f9f57973e00>, 0.15902185), (<spacy.lexeme.Lexeme object at 0x7f9f57971d00>, 0.15863179), (<spacy.lexeme.Lexeme object at 0x7f9f57975e00>, 0.15333718), (<spacy.lexeme.Lexeme object at 0x7f9f579758c0>, 0.1522566), (<spacy.lexeme.Lexeme object at 0x7f9f57973b40>, 0.15100655), (<spacy.lexeme.Lexeme object at 0x7f9f3861de00>, 0.15084052), (<spacy.lexeme.Lexeme object at 0x7f9f57973780>, 0.14968225), (<spacy.lexeme.Lexeme object at 0x7f9f57975600>, 0.14923133), (<spacy.lexeme.Lexeme object at 0x7f9f389920c0>, 0.14814082), (<spacy.lexeme.Lexeme object at 0x7fa06a3b8080>, 0.14792466), (<spacy.lexeme.Lexeme object at 0x7f9f57c59ac0>, 0.14680494), (<spacy.lexeme.Lexeme object at 0x7f9f579734c0>, 0.146317), (<spacy.lexeme.Lexeme object at 0x7f9f57971a80>, 0.14581256), (<spacy.lexeme.Lexeme object at 0x7f9f57975a00>, 0.14367945), (<spacy.lexeme.Lexeme object at 0x7f9f57973f40>, 0.14244203), (<spacy.lexeme.Lexeme object at 0x7f9f57973800>, 0.14167601), (<spacy.lexeme.Lexeme object at 0x7f9f57971680>, 0.14095463), (<spacy.lexeme.Lexeme object at 0x7f9f38992c00>, 0.14038257), (<spacy.lexeme.Lexeme object at 0x7f9f57975940>, 0.14005473), (<spacy.lexeme.Lexeme object at 0x7f9f57973b00>, 0.13789694), (<spacy.lexeme.Lexeme object at 0x7f9f57971dc0>, 0.1377796), (<spacy.lexeme.Lexeme object at 0x7f9f57c596c0>, 0.13562693), (<spacy.lexeme.Lexeme object at 0x7f9f57975180>, 0.13510445), (<spacy.lexeme.Lexeme object at 0x7f9f57971300>, 0.13339134), (<spacy.lexeme.Lexeme object at 0x7f9f57c59240>, 0.1329127), (<spacy.lexeme.Lexeme object at 0x7f9f57c592c0>, 0.1324435), (<spacy.lexeme.Lexeme object at 0x7f9f57973040>, 0.1318833), (<spacy.lexeme.Lexeme object at 0x7f9f57971780>, 0.1316959), (<spacy.lexeme.Lexeme object at 0x7f9f579713c0>, 0.13009155), (<spacy.lexeme.Lexeme object at 0x7f9f579753c0>, 0.12850991), (<spacy.lexeme.Lexeme object at 0x7f9f57971740>, 0.12707153), (<spacy.lexeme.Lexeme object at 0x7f9f579752c0>, 0.1261627), (<spacy.lexeme.Lexeme object at 0x7f9f57973840>, 0.12572852), (<spacy.lexeme.Lexeme object at 0x7f9f57973e80>, 0.12431133), (<spacy.lexeme.Lexeme object at 0x7f9f57975cc0>, 0.122235574), (<spacy.lexeme.Lexeme object at 0x7f9f57971340>, 0.121833466), (<spacy.lexeme.Lexeme object at 0x7f9f58a3d840>, 0.11827783), (<spacy.lexeme.Lexeme object at 0x7f9f57973100>, 0.11805441), (<spacy.lexeme.Lexeme object at 0x7f9f389929c0>, 0.11651357), (<spacy.lexeme.Lexeme object at 0x7f9f4e2b64c0>, 0.11362198), (<spacy.lexeme.Lexeme object at 0x7f9f57975780>, 0.11099297), (<spacy.lexeme.Lexeme object at 0x7f9f57975380>, 0.10662285), (<spacy.lexeme.Lexeme object at 0x7f9f57c59d80>, 0.104636885), (<spacy.lexeme.Lexeme object at 0x7f9f57971d80>, 0.1022511), (<spacy.lexeme.Lexeme object at 0x7f9f57971800>, 0.10201824), (<spacy.lexeme.Lexeme object at 0x7f9f579712c0>, 0.10195734), (<spacy.lexeme.Lexeme object at 0x7fa0ab466fc0>, 0.100287855), (<spacy.lexeme.Lexeme object at 0x7f9f57973580>, 0.09938505), (<spacy.lexeme.Lexeme object at 0x7f9f579737c0>, 0.097255066), (<spacy.lexeme.Lexeme object at 0x7f9f57973480>, 0.0968059), (<spacy.lexeme.Lexeme object at 0x7f9f57971400>, 0.0939947), (<spacy.lexeme.Lexeme object at 0x7f9f579738c0>, 0.090625875), (<spacy.lexeme.Lexeme object at 0x7f9f57971480>, 0.08855241), (<spacy.lexeme.Lexeme object at 0x7f9f57c59b80>, 0.08621389), (<spacy.lexeme.Lexeme object at 0x7f9f57975b40>, 0.08369185), (<spacy.lexeme.Lexeme object at 0x7f9f57c59600>, 0.0768508), (<spacy.lexeme.Lexeme object at 0x7f9f38992ac0>, 0.07662814), (<spacy.lexeme.Lexeme object at 0x7f9f57c597c0>, 0.074775286), (<spacy.lexeme.Lexeme object at 0x7f9f38992580>, 0.07282124), (<spacy.lexeme.Lexeme object at 0x7f9f57971640>, 0.07194968), (<spacy.lexeme.Lexeme object at 0x7f9f57c59940>, 0.07177296), (<spacy.lexeme.Lexeme object at 0x7f9f57c598c0>, 0.07082137), (<spacy.lexeme.Lexeme object at 0x7f9f38992840>, 0.06919088), (<spacy.lexeme.Lexeme object at 0x7f9f57973ec0>, 0.06407756), (<spacy.lexeme.Lexeme object at 0x7f9f2dd01c80>, 0.03345293), (<spacy.lexeme.Lexeme object at 0x7f9f389923c0>, 0.020182218)]\n"
     ]
    }
   ],
   "source": [
    "# sort the calculated similarities in a descending order and based on the similarity socres\n",
    "sorted_similarities = sorted(calculated_similarities, key = lambda sim: sim[1], reverse=True)\n",
    "print(sorted_similarities)"
   ]
  },
  {
   "cell_type": "code",
   "execution_count": 118,
   "id": "eb8b1f19",
   "metadata": {},
   "outputs": [
    {
     "name": "stdout",
     "output_type": "stream",
     "text": [
      "['wolf', 'cat', 'i', 'cuz', 'lovin', 'dare', 'u', 'dog', 'she', 'ai', 'ca', 'f', 'cos', 'coz', 'would', 'could', 'k', 'there', 'z', 'he']\n"
     ]
    }
   ],
   "source": [
    "# top 20 similar words in the vocabulary\n",
    "top20_similar_words = [word[0].text for word in sorted_similarities[:20]]\n",
    "print(top20_similar_words)"
   ]
  },
  {
   "cell_type": "code",
   "execution_count": 119,
   "id": "575a41ad",
   "metadata": {},
   "outputs": [
    {
     "data": {
      "text/plain": [
       "['king',\n",
       " 'women',\n",
       " 'these',\n",
       " 'those',\n",
       " 'are',\n",
       " 'all',\n",
       " 'and',\n",
       " 'were',\n",
       " 'they',\n",
       " 'who',\n",
       " 'dare',\n",
       " 'have',\n",
       " 'or',\n",
       " 'not',\n",
       " 'should',\n",
       " 'ought',\n",
       " 'there',\n",
       " 'r',\n",
       " 'would',\n",
       " 'why']"
      ]
     },
     "execution_count": 119,
     "metadata": {},
     "output_type": "execute_result"
    }
   ],
   "source": [
    "def vector_math(s1, s2, s3):\n",
    "    word1_vec = nlp.vocab[s1].vector\n",
    "    word2_vec = nlp.vocab[s2].vector\n",
    "    word3_vec = nlp.vocab[s3].vector\n",
    "    \n",
    "    new_vec = word1_vec - word2_vec + word3_vec\n",
    "    \n",
    "    computed_sims = []\n",
    "    for word in nlp.vocab: \n",
    "        if word.has_vector:\n",
    "            if word.is_lower:\n",
    "                if word.is_alpha:\n",
    "                    sim = cosine_similarity(new_vec, word.vector)\n",
    "                    computed_sims.append((word, sim))\n",
    "                    \n",
    "                    \n",
    "                    \n",
    "    sorted_sims = sorted(computed_sims, key = lambda sim: sim[1], reverse=True)\n",
    "    return [word[0].text for word in sorted_sims[:20]]\n",
    "\n",
    "\n",
    "\n",
    "vector_math('king', 'man', 'women')\n",
    "    \n",
    "    "
   ]
  },
  {
   "cell_type": "code",
   "execution_count": 120,
   "id": "e1b2c53d",
   "metadata": {},
   "outputs": [
    {
     "name": "stdout",
     "output_type": "stream",
     "text": [
      "{'neg': 0.404, 'neu': 0.596, 'pos': 0.0, 'compound': -0.8452}\n"
     ]
    }
   ],
   "source": [
    "from nltk.sentiment.vader import SentimentIntensityAnalyzer \n",
    "\n",
    "sia = SentimentIntensityAnalyzer()\n",
    "\n",
    "review = \"This movie is absolutely awful. This is the WORST movie that I have ever seen.\"\n",
    "review_polarity = sia.polarity_scores(review)\n",
    "print(review_polarity)"
   ]
  },
  {
   "cell_type": "code",
   "execution_count": 121,
   "id": "f985432d",
   "metadata": {},
   "outputs": [],
   "source": [
    "def review_rating(review: str): \n",
    "    scores = sia.polarity_scores(review)\n",
    "    \n",
    "    if scores['compound'] == 0:\n",
    "        return \"Neutral\"\n",
    "    elif scores['compound'] > 0:\n",
    "        return \"Positive\"\n",
    "    return \"Negative\"\n",
    "\n"
   ]
  },
  {
   "cell_type": "code",
   "execution_count": 124,
   "id": "bc0585b6",
   "metadata": {},
   "outputs": [
    {
     "name": "stdout",
     "output_type": "stream",
     "text": [
      "The review rating result is: Negative\n"
     ]
    }
   ],
   "source": [
    "print(\"The review rating result is: \"+str(review_rating(review))+\"\")"
   ]
  },
  {
   "cell_type": "code",
   "execution_count": null,
   "id": "86de5488",
   "metadata": {},
   "outputs": [],
   "source": []
  },
  {
   "cell_type": "code",
   "execution_count": null,
   "id": "38003675",
   "metadata": {},
   "outputs": [],
   "source": []
  },
  {
   "cell_type": "code",
   "execution_count": null,
   "id": "326d8c69",
   "metadata": {},
   "outputs": [],
   "source": []
  },
  {
   "cell_type": "code",
   "execution_count": null,
   "id": "4e126b9a",
   "metadata": {},
   "outputs": [],
   "source": []
  }
 ],
 "metadata": {
  "kernelspec": {
   "display_name": "Python 3 (ipykernel)",
   "language": "python",
   "name": "python3"
  },
  "language_info": {
   "codemirror_mode": {
    "name": "ipython",
    "version": 3
   },
   "file_extension": ".py",
   "mimetype": "text/x-python",
   "name": "python",
   "nbconvert_exporter": "python",
   "pygments_lexer": "ipython3",
   "version": "3.9.12"
  }
 },
 "nbformat": 4,
 "nbformat_minor": 5
}
