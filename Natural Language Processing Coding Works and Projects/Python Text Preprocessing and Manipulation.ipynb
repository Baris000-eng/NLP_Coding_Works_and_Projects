{
 "cells": [
  {
   "cell_type": "code",
   "execution_count": 87,
   "id": "21b0df2e",
   "metadata": {},
   "outputs": [],
   "source": [
    "person_name = \"Mike\"\n",
    "person_surname = \"Teeve\""
   ]
  },
  {
   "cell_type": "code",
   "execution_count": 88,
   "id": "bb5d7099",
   "metadata": {},
   "outputs": [
    {
     "name": "stdout",
     "output_type": "stream",
     "text": [
      "My name is Mike.\n",
      "My surname is Teeve.\n",
      "My name is Mike and my surname is Teeve.\n"
     ]
    }
   ],
   "source": [
    "print(\"My name is {}.\".format(person_name))\n",
    "print(\"My surname is {}.\".format(person_surname))\n",
    "print(\"My name is \"+person_name+\" and my surname is \"+person_surname+\".\")"
   ]
  },
  {
   "cell_type": "code",
   "execution_count": 89,
   "id": "3a592b8b",
   "metadata": {},
   "outputs": [
    {
     "name": "stdout",
     "output_type": "stream",
     "text": [
      "My name is Mike.\n",
      "My surname is Teeve.\n",
      "My name is Mike and my surname is Teeve.\n"
     ]
    }
   ],
   "source": [
    "# f-strings \n",
    "\n",
    "print(f\"My name is {person_name}.\")\n",
    "print(f\"My surname is {person_surname}.\")\n",
    "print(f\"My name is {person_name} and my surname is {person_surname}.\")"
   ]
  },
  {
   "cell_type": "code",
   "execution_count": 90,
   "id": "3cf5631b",
   "metadata": {},
   "outputs": [],
   "source": [
    "my_dict = {'x': 123456, 'y': 234567, 'z': 345678}"
   ]
  },
  {
   "cell_type": "code",
   "execution_count": 91,
   "id": "1ad201b1",
   "metadata": {},
   "outputs": [
    {
     "name": "stdout",
     "output_type": "stream",
     "text": [
      "My number is 123456\n",
      "My number is 234567\n",
      "My number is 345678\n"
     ]
    }
   ],
   "source": [
    "print(f\"My number is {my_dict['x']}\")\n",
    "print(f\"My number is {my_dict['y']}\")\n",
    "print(f\"My number is {my_dict['z']}\")"
   ]
  },
  {
   "cell_type": "code",
   "execution_count": 92,
   "id": "53351c83",
   "metadata": {},
   "outputs": [
    {
     "name": "stdout",
     "output_type": "stream",
     "text": [
      "('Author', 'Topic', 'Pages')\n",
      "('Twain', 'Rafting in the water alone', 633)\n",
      "('Feynman', 'Physics', 116)\n",
      "('Hamilton', 'Mythology', 202)\n"
     ]
    }
   ],
   "source": [
    "library = [('Author', 'Topic', 'Pages'), ('Twain', 'Rafting in the water alone', 633), ('Feynman', 'Physics', 116), ('Hamilton', 'Mythology', 202)]\n",
    "\n",
    "for book_record in library:\n",
    "    print(book_record)"
   ]
  },
  {
   "cell_type": "code",
   "execution_count": 93,
   "id": "e3fe17e3",
   "metadata": {},
   "outputs": [
    {
     "data": {
      "text/plain": [
       "[('Author', 'Topic', 'Pages'),\n",
       " ('Twain', 'Rafting in the water alone', 633),\n",
       " ('Feynman', 'Physics', 116),\n",
       " ('Hamilton', 'Mythology', 202)]"
      ]
     },
     "execution_count": 93,
     "metadata": {},
     "output_type": "execute_result"
    }
   ],
   "source": [
    "library"
   ]
  },
  {
   "cell_type": "code",
   "execution_count": 94,
   "id": "0e6c5c66",
   "metadata": {},
   "outputs": [
    {
     "name": "stdout",
     "output_type": "stream",
     "text": [
      "[('Author', 'Topic', 'Pages'), ('Twain', 'Rafting in the water alone', 633), ('Feynman', 'Physics', 116), ('Hamilton', 'Mythology', 202)]\n"
     ]
    }
   ],
   "source": [
    "print(library)"
   ]
  },
  {
   "cell_type": "code",
   "execution_count": 95,
   "id": "a589f7d9",
   "metadata": {},
   "outputs": [
    {
     "name": "stdout",
     "output_type": "stream",
     "text": [
      "The author of book is: Twain\n",
      "The author of book is: Feynman\n",
      "The author of book is: Hamilton\n"
     ]
    }
   ],
   "source": [
    "# Gets and prints only the authors\n",
    "for book_record in library:\n",
    "    author_name = book_record[0]\n",
    "    if author_name.lower() != \"author\":\n",
    "        print(\"The author of book is: \"+author_name+\"\")"
   ]
  },
  {
   "cell_type": "code",
   "execution_count": 96,
   "id": "12b7957a",
   "metadata": {},
   "outputs": [
    {
     "name": "stdout",
     "output_type": "stream",
     "text": [
      "The author of book is: Twain\n",
      "The author of book is: Feynman\n",
      "The author of book is: Hamilton\n"
     ]
    }
   ],
   "source": [
    "for book_record in library:\n",
    "    if book_record[0].lower() != \"author\":\n",
    "        print(f\"The author of book is: {book_record[0]}\")"
   ]
  },
  {
   "cell_type": "code",
   "execution_count": 97,
   "id": "82263d39",
   "metadata": {},
   "outputs": [
    {
     "name": "stdout",
     "output_type": "stream",
     "text": [
      "Author Topic Pages\n",
      "Twain Rafting in the water alone 633\n",
      "Feynman Physics 116\n",
      "Hamilton Mythology 202\n",
      "\n",
      "\n",
      "Author Topic Pages\n",
      "Twain Rafting in the water alone 633\n",
      "Feynman Physics 116\n",
      "Hamilton Mythology 202\n"
     ]
    }
   ],
   "source": [
    "# tuple unpacking is used below.\n",
    "for book_author, book_topic, book_pages in library:\n",
    "    print(f\"{book_author} {book_topic} {book_pages}\")\n",
    "    \n",
    "    \n",
    "print()\n",
    "print()\n",
    "\n",
    "for book_author, book_topic, book_pages in library:\n",
    "    print(book_author, book_topic, book_pages)"
   ]
  },
  {
   "cell_type": "code",
   "execution_count": 98,
   "id": "e0ceff09",
   "metadata": {},
   "outputs": [
    {
     "name": "stdout",
     "output_type": "stream",
     "text": [
      "Author       Topic                                Pages       \n",
      "Twain        Rafting in the water alone           633         \n",
      "Feynman      Physics                              116         \n",
      "Hamilton     Mythology                            202         \n"
     ]
    }
   ],
   "source": [
    "# In the below for loop, < shows a left alignment. Minimum width space of 12 spaces is set to book author, \n",
    "# 25 spaces is set to book topic, and 13 spaces is set to book pages.\n",
    "\n",
    "# If the \"book_author\" field takes less than 12 spaces, than it will be padded with whitespaces to the right until it encompasses the specified width.\n",
    "# If the \"book_topic\" field takes less than 25 spaces, than it will be padded with whitespaces to the right until it encompasses the specified width.\n",
    "# If the \"book_pages\" field takes less than 13 spaces, than it will be padded with whitespaces to the right until it encompasses the specified width.\n",
    "for book_author, book_topic, book_pages in library:\n",
    "    print(f\"{book_author: <12} {book_topic: <36} {book_pages: <12}\")"
   ]
  },
  {
   "cell_type": "code",
   "execution_count": 99,
   "id": "fb5c6c3e",
   "metadata": {},
   "outputs": [
    {
     "name": "stdout",
     "output_type": "stream",
     "text": [
      "Author.... Topic......................... Pages.....\n",
      "Twain..... Rafting in the water alone.... 633.......\n",
      "Feynman... Physics....................... 116.......\n",
      "Hamilton.. Mythology..................... 202.......\n"
     ]
    }
   ],
   "source": [
    "# In the below for loop, each author name will be padded with dots until it reaches 10-whitespace area.\n",
    "# Similarly, each book topic will be padded with dots until it reaches 30-whitespace area.\n",
    "# Each number of pages will be padded with dots until it reaches 10-whitespace area.\n",
    "\n",
    "for book_author, book_topic, book_pages in library:\n",
    "    print(f\"{book_author:.<10} {book_topic:.<30} {book_pages:.<10}\")\n"
   ]
  },
  {
   "cell_type": "code",
   "execution_count": 100,
   "id": "fbfd0704",
   "metadata": {},
   "outputs": [
    {
     "name": "stdout",
     "output_type": "stream",
     "text": [
      "Author---- Topic------------------------- Pages-----\n",
      "Twain----- Rafting in the water alone---- 633-------\n",
      "Feynman--- Physics----------------------- 116-------\n",
      "Hamilton-- Mythology--------------------- 202-------\n"
     ]
    }
   ],
   "source": [
    "for book_author, book_topic, book_pages in library:\n",
    "    print(f\"{book_author:-<10} {book_topic:-<30} {book_pages:-<10}\")"
   ]
  },
  {
   "cell_type": "code",
   "execution_count": 101,
   "id": "ef2605e4",
   "metadata": {},
   "outputs": [
    {
     "name": "stdout",
     "output_type": "stream",
     "text": [
      "2023-09-27 00:00:00\n"
     ]
    }
   ],
   "source": [
    "# Date formatting \n",
    "from datetime import datetime\n",
    "\n",
    "today = datetime(year=2023,month=9,day=27)\n",
    "print(f\"{today}\")"
   ]
  },
  {
   "cell_type": "code",
   "execution_count": 102,
   "id": "bfb04471",
   "metadata": {},
   "outputs": [
    {
     "data": {
      "text/plain": [
       "datetime.datetime(2023, 9, 27, 0, 0)"
      ]
     },
     "execution_count": 102,
     "metadata": {},
     "output_type": "execute_result"
    }
   ],
   "source": [
    "today"
   ]
  },
  {
   "cell_type": "code",
   "execution_count": 103,
   "id": "e7cce65a",
   "metadata": {},
   "outputs": [
    {
     "name": "stdout",
     "output_type": "stream",
     "text": [
      " September 27, 2023\n",
      " September\n",
      " 27\n",
      " 23\n"
     ]
    }
   ],
   "source": [
    "# Python strftime page: https://strftime.org/\n",
    "print(f\"{today: %B %d, %Y}\")\n",
    "\n",
    "# %B represents the full name of month specified in the today object.\n",
    "# %d represents the day number specified in the today object.\n",
    "# %Y represents the year specified in the today object.\n",
    "# For more information about the abbreviations in \n",
    "# strftime, please see the below link:\n",
    "# https://strftime.org/\n",
    "\n",
    "print(f\"{today: %B}\")\n",
    "print(f\"{today: %d}\")\n",
    "print(f\"{today: %y}\")"
   ]
  },
  {
   "cell_type": "code",
   "execution_count": 146,
   "id": "027ef42e",
   "metadata": {},
   "outputs": [],
   "source": [
    "# Reading text files and writing to them\n"
   ]
  },
  {
   "cell_type": "code",
   "execution_count": 163,
   "id": "1eedf256",
   "metadata": {},
   "outputs": [
    {
     "ename": "SyntaxError",
     "evalue": "invalid syntax (1931285007.py, line 3)",
     "output_type": "error",
     "traceback": [
      "\u001b[0;36m  Input \u001b[0;32mIn [163]\u001b[0;36m\u001b[0m\n\u001b[0;31m    Hello world!\u001b[0m\n\u001b[0m          ^\u001b[0m\n\u001b[0;31mSyntaxError\u001b[0m\u001b[0;31m:\u001b[0m invalid syntax\n"
     ]
    }
   ],
   "source": [
    "# To create a txt file, you can use the below command in Jupyter notebook:\n",
    "%%writefile file.txt\n",
    "Hello world!"
   ]
  },
  {
   "cell_type": "code",
   "execution_count": 149,
   "id": "5296ff27",
   "metadata": {},
   "outputs": [
    {
     "ename": "FileNotFoundError",
     "evalue": "[Errno 2] No such file or directory: 'error.txt'",
     "output_type": "error",
     "traceback": [
      "\u001b[0;31m---------------------------------------------------------------------------\u001b[0m",
      "\u001b[0;31mFileNotFoundError\u001b[0m                         Traceback (most recent call last)",
      "Input \u001b[0;32mIn [149]\u001b[0m, in \u001b[0;36m<cell line: 4>\u001b[0;34m()\u001b[0m\n\u001b[1;32m      1\u001b[0m \u001b[38;5;66;03m# Since we give a file that is non-existent \u001b[39;00m\n\u001b[1;32m      2\u001b[0m \u001b[38;5;66;03m# in the current directory, it throws a no \u001b[39;00m\n\u001b[1;32m      3\u001b[0m \u001b[38;5;66;03m# such file or directory error as shown below.\u001b[39;00m\n\u001b[0;32m----> 4\u001b[0m my_custom_file \u001b[38;5;241m=\u001b[39m \u001b[38;5;28;43mopen\u001b[39;49m\u001b[43m(\u001b[49m\u001b[38;5;124;43m'\u001b[39;49m\u001b[38;5;124;43merror.txt\u001b[39;49m\u001b[38;5;124;43m'\u001b[39;49m\u001b[43m)\u001b[49m\n",
      "\u001b[0;31mFileNotFoundError\u001b[0m: [Errno 2] No such file or directory: 'error.txt'"
     ]
    }
   ],
   "source": [
    "# Since we give a file that is non-existent \n",
    "# in the current directory, it throws a no \n",
    "# such file or directory error as shown below.\n",
    "my_custom_file = open('error.txt')"
   ]
  },
  {
   "cell_type": "code",
   "execution_count": 150,
   "id": "fbe014ff",
   "metadata": {},
   "outputs": [],
   "source": [
    "file = open('file.txt')"
   ]
  },
  {
   "cell_type": "code",
   "execution_count": 151,
   "id": "6b09ab1b",
   "metadata": {},
   "outputs": [
    {
     "name": "stdout",
     "output_type": "stream",
     "text": [
      "<_io.TextIOWrapper name='file.txt' mode='r' encoding='UTF-8'>\n"
     ]
    }
   ],
   "source": [
    "print(file)"
   ]
  },
  {
   "cell_type": "code",
   "execution_count": 152,
   "id": "a7958740",
   "metadata": {},
   "outputs": [
    {
     "data": {
      "text/plain": [
       "'Hello world!\\n'"
      ]
     },
     "execution_count": 152,
     "metadata": {},
     "output_type": "execute_result"
    }
   ],
   "source": [
    "# To read the file called 'file', you can use \n",
    "# the below command.\n",
    "file.read()\n",
    "\n",
    "# Note: \\n is an indicator for a new line."
   ]
  },
  {
   "cell_type": "code",
   "execution_count": 153,
   "id": "93e52197",
   "metadata": {},
   "outputs": [
    {
     "data": {
      "text/plain": [
       "''"
      ]
     },
     "execution_count": 153,
     "metadata": {},
     "output_type": "execute_result"
    }
   ],
   "source": [
    "file.read()"
   ]
  },
  {
   "cell_type": "code",
   "execution_count": 154,
   "id": "e28045d5",
   "metadata": {},
   "outputs": [
    {
     "data": {
      "text/plain": [
       "'Hello world!\\n'"
      ]
     },
     "execution_count": 154,
     "metadata": {},
     "output_type": "execute_result"
    }
   ],
   "source": [
    "file.seek(0)\n",
    "file.read()"
   ]
  },
  {
   "cell_type": "code",
   "execution_count": 155,
   "id": "6d1eeadf",
   "metadata": {},
   "outputs": [
    {
     "data": {
      "text/plain": [
       "0"
      ]
     },
     "execution_count": 155,
     "metadata": {},
     "output_type": "execute_result"
    }
   ],
   "source": [
    "# seek() function is to change the cursor location within a \n",
    "# file to the specified index during the file I/O operations.\n",
    "file.seek(0)"
   ]
  },
  {
   "cell_type": "code",
   "execution_count": 156,
   "id": "393e9464",
   "metadata": {},
   "outputs": [],
   "source": [
    "content = file.read()"
   ]
  },
  {
   "cell_type": "code",
   "execution_count": 157,
   "id": "22ca7554",
   "metadata": {},
   "outputs": [
    {
     "data": {
      "text/plain": [
       "'Hello world!\\n'"
      ]
     },
     "execution_count": 157,
     "metadata": {},
     "output_type": "execute_result"
    }
   ],
   "source": [
    "content"
   ]
  },
  {
   "cell_type": "code",
   "execution_count": 158,
   "id": "de659bfc",
   "metadata": {},
   "outputs": [
    {
     "name": "stdout",
     "output_type": "stream",
     "text": [
      "Hello world!\n",
      "\n"
     ]
    }
   ],
   "source": [
    "print(content)"
   ]
  },
  {
   "cell_type": "code",
   "execution_count": 159,
   "id": "1e8dea23",
   "metadata": {},
   "outputs": [],
   "source": [
    "file.close()"
   ]
  },
  {
   "cell_type": "code",
   "execution_count": 160,
   "id": "df0da5ef",
   "metadata": {},
   "outputs": [],
   "source": [
    "file = open('file.txt')"
   ]
  },
  {
   "cell_type": "code",
   "execution_count": 161,
   "id": "2ef6e0e8",
   "metadata": {},
   "outputs": [
    {
     "data": {
      "text/plain": [
       "['Hello world!\\n']"
      ]
     },
     "execution_count": 161,
     "metadata": {},
     "output_type": "execute_result"
    }
   ],
   "source": [
    "# The readlines() function will read each line of the file \n",
    "# and store it as an item in the list.\n",
    "file.readlines()"
   ]
  },
  {
   "cell_type": "code",
   "execution_count": 162,
   "id": "9dfd471c",
   "metadata": {},
   "outputs": [
    {
     "name": "stdout",
     "output_type": "stream",
     "text": [
      "[]\n"
     ]
    }
   ],
   "source": [
    "# The below readlines() call will give an empty list because we have already\n",
    "# read the file and the cursor is currently at the end of the file.\n",
    "print(file.readlines())"
   ]
  },
  {
   "cell_type": "code",
   "execution_count": 120,
   "id": "c010c122",
   "metadata": {},
   "outputs": [
    {
     "data": {
      "text/plain": [
       "0"
      ]
     },
     "execution_count": 120,
     "metadata": {},
     "output_type": "execute_result"
    }
   ],
   "source": [
    "# for placing the cursor at the 0th index, which is the beginning of the file\n",
    "file.seek(0)"
   ]
  },
  {
   "cell_type": "code",
   "execution_count": 121,
   "id": "48bc38a6",
   "metadata": {},
   "outputs": [],
   "source": [
    "lines = file.readlines()"
   ]
  },
  {
   "cell_type": "code",
   "execution_count": 122,
   "id": "f6145a7a",
   "metadata": {},
   "outputs": [
    {
     "name": "stdout",
     "output_type": "stream",
     "text": [
      "new textnew textnew textnew text new text The first line for the a+ opening mode.The first line for the a+ opening mode.\n",
      "n\n"
     ]
    }
   ],
   "source": [
    "for line in lines:\n",
    "    print(line)\n",
    "    print(line[0]) # It gets the first character in each line of the file."
   ]
  },
  {
   "cell_type": "code",
   "execution_count": 123,
   "id": "20ba07f8",
   "metadata": {},
   "outputs": [
    {
     "name": "stdout",
     "output_type": "stream",
     "text": [
      "new\n"
     ]
    }
   ],
   "source": [
    "for line in lines:\n",
    "    arr = line.split() # It will split each line based on space and creates an array of words.\n",
    "    print(arr[0]) # It gets the first element from the array created after splitting the line."
   ]
  },
  {
   "cell_type": "code",
   "execution_count": 124,
   "id": "e4a365e2",
   "metadata": {},
   "outputs": [],
   "source": [
    "# Writing and appending to a file\n",
    "\n",
    "# Writing to a file\n",
    "# Passing w+ allows us to both read the file and write to it.\n",
    "file = open('file.txt', 'w+')\n",
    "\n",
    "# If we want to write to a file, we should open it in the w or w+ mode.\n",
    "# w+ alows us to both read the file and write to it."
   ]
  },
  {
   "cell_type": "code",
   "execution_count": 125,
   "id": "aa24bfc3",
   "metadata": {},
   "outputs": [
    {
     "data": {
      "text/plain": [
       "''"
      ]
     },
     "execution_count": 125,
     "metadata": {},
     "output_type": "execute_result"
    }
   ],
   "source": [
    "file.read()"
   ]
  },
  {
   "cell_type": "code",
   "execution_count": 126,
   "id": "1b059da8",
   "metadata": {},
   "outputs": [],
   "source": [
    "# When we open a txt file in w or w+ mode, then it will \n",
    "# be truncated (erased/emptied) and overwritten."
   ]
  },
  {
   "cell_type": "code",
   "execution_count": 127,
   "id": "205b5ff7",
   "metadata": {},
   "outputs": [
    {
     "data": {
      "text/plain": [
       "9"
      ]
     },
     "execution_count": 127,
     "metadata": {},
     "output_type": "execute_result"
    }
   ],
   "source": [
    "# It will return the number of characters that were written inside.\n",
    "file.write(\"new text\" + \" \")"
   ]
  },
  {
   "cell_type": "code",
   "execution_count": 128,
   "id": "38e899b1",
   "metadata": {},
   "outputs": [
    {
     "data": {
      "text/plain": [
       "0"
      ]
     },
     "execution_count": 128,
     "metadata": {},
     "output_type": "execute_result"
    }
   ],
   "source": [
    "file.seek(0)"
   ]
  },
  {
   "cell_type": "code",
   "execution_count": 129,
   "id": "bdfbd26b",
   "metadata": {},
   "outputs": [
    {
     "data": {
      "text/plain": [
       "'new text '"
      ]
     },
     "execution_count": 129,
     "metadata": {},
     "output_type": "execute_result"
    }
   ],
   "source": [
    "file.read()"
   ]
  },
  {
   "cell_type": "code",
   "execution_count": 130,
   "id": "61039f3b",
   "metadata": {},
   "outputs": [],
   "source": [
    "file.close()"
   ]
  },
  {
   "cell_type": "code",
   "execution_count": 131,
   "id": "56e638fc",
   "metadata": {},
   "outputs": [
    {
     "ename": "ValueError",
     "evalue": "I/O operation on closed file.",
     "output_type": "error",
     "traceback": [
      "\u001b[0;31m---------------------------------------------------------------------------\u001b[0m",
      "\u001b[0;31mValueError\u001b[0m                                Traceback (most recent call last)",
      "Input \u001b[0;32mIn [131]\u001b[0m, in \u001b[0;36m<cell line: 7>\u001b[0;34m()\u001b[0m\n\u001b[1;32m      1\u001b[0m \u001b[38;5;66;03m# The below call will give an error because\u001b[39;00m\n\u001b[1;32m      2\u001b[0m \u001b[38;5;66;03m# we have closed the file in the above line.\u001b[39;00m\n\u001b[1;32m      3\u001b[0m \n\u001b[1;32m      4\u001b[0m \u001b[38;5;66;03m# The below call will give an error which\u001b[39;00m\n\u001b[1;32m      5\u001b[0m \u001b[38;5;66;03m# states that I/O operation on the closed \u001b[39;00m\n\u001b[1;32m      6\u001b[0m \u001b[38;5;66;03m# file cannot be performed.\u001b[39;00m\n\u001b[0;32m----> 7\u001b[0m \u001b[38;5;28mprint\u001b[39m(\u001b[43mfile\u001b[49m\u001b[38;5;241;43m.\u001b[39;49m\u001b[43mread\u001b[49m\u001b[43m(\u001b[49m\u001b[43m)\u001b[49m)\n",
      "\u001b[0;31mValueError\u001b[0m: I/O operation on closed file."
     ]
    }
   ],
   "source": [
    "# The below call will give an error because\n",
    "# we have closed the file in the above line.\n",
    "\n",
    "# The below call will give an error which\n",
    "# states that I/O operation on the closed \n",
    "# file cannot be performed.\n",
    "print(file.read())"
   ]
  },
  {
   "cell_type": "code",
   "execution_count": 132,
   "id": "e0581d2f",
   "metadata": {},
   "outputs": [],
   "source": [
    "# Appending to a file (adding new lines to a file)\n",
    "\n",
    "# opening the file in the append mode, which is a+\n",
    "file = open('file.txt','a+')"
   ]
  },
  {
   "cell_type": "code",
   "execution_count": 133,
   "id": "dd9b854c",
   "metadata": {},
   "outputs": [
    {
     "data": {
      "text/plain": [
       "''"
      ]
     },
     "execution_count": 133,
     "metadata": {},
     "output_type": "execute_result"
    }
   ],
   "source": [
    "file.write('The first line for the a+ opening mode.')\n",
    "file.read()"
   ]
  },
  {
   "cell_type": "code",
   "execution_count": 134,
   "id": "b7795226",
   "metadata": {},
   "outputs": [
    {
     "data": {
      "text/plain": [
       "39"
      ]
     },
     "execution_count": 134,
     "metadata": {},
     "output_type": "execute_result"
    }
   ],
   "source": [
    "file.close()\n",
    "\n",
    "# If the txt file called new_file.txt does not exist, \n",
    "# then it will be created with the below function call.\n",
    "file = open('new_file.txt', 'a+')\n",
    "file.write('The first line for the a+ opening mode.')"
   ]
  },
  {
   "cell_type": "code",
   "execution_count": 135,
   "id": "b70077c8",
   "metadata": {},
   "outputs": [
    {
     "data": {
      "text/plain": [
       "''"
      ]
     },
     "execution_count": 135,
     "metadata": {},
     "output_type": "execute_result"
    }
   ],
   "source": [
    "file.read() # It cannot get the file content as we opened the file in appending mode."
   ]
  },
  {
   "cell_type": "code",
   "execution_count": 136,
   "id": "38191a84",
   "metadata": {},
   "outputs": [],
   "source": [
    "new_file = open('new_file.txt')"
   ]
  },
  {
   "cell_type": "code",
   "execution_count": 137,
   "id": "db16fa66",
   "metadata": {},
   "outputs": [
    {
     "name": "stdout",
     "output_type": "stream",
     "text": [
      "The first line for the a+ opening mode.\n",
      "This is an added line, because I used a+ mode.The first line for the a+ opening mode.\n"
     ]
    }
   ],
   "source": [
    "print(new_file.read())"
   ]
  },
  {
   "cell_type": "code",
   "execution_count": 138,
   "id": "0ea14440",
   "metadata": {},
   "outputs": [
    {
     "ename": "UnsupportedOperation",
     "evalue": "not writable",
     "output_type": "error",
     "traceback": [
      "\u001b[0;31m---------------------------------------------------------------------------\u001b[0m",
      "\u001b[0;31mUnsupportedOperation\u001b[0m                      Traceback (most recent call last)",
      "Input \u001b[0;32mIn [138]\u001b[0m, in \u001b[0;36m<cell line: 1>\u001b[0;34m()\u001b[0m\n\u001b[0;32m----> 1\u001b[0m \u001b[43mnew_file\u001b[49m\u001b[38;5;241;43m.\u001b[39;49m\u001b[43mwrite\u001b[49m\u001b[43m(\u001b[49m\u001b[38;5;124;43m'\u001b[39;49m\u001b[38;5;124;43mI am trying to write something with only read permissions\u001b[39;49m\u001b[38;5;124;43m'\u001b[39;49m\u001b[43m)\u001b[49m\n",
      "\u001b[0;31mUnsupportedOperation\u001b[0m: not writable"
     ]
    }
   ],
   "source": [
    "new_file.write('I am trying to write something with only read permissions')"
   ]
  },
  {
   "cell_type": "code",
   "execution_count": 139,
   "id": "56a5d2e3",
   "metadata": {},
   "outputs": [],
   "source": [
    "new_file.close()"
   ]
  },
  {
   "cell_type": "code",
   "execution_count": 140,
   "id": "2abfdcf6",
   "metadata": {},
   "outputs": [
    {
     "data": {
      "text/plain": [
       "47"
      ]
     },
     "execution_count": 140,
     "metadata": {},
     "output_type": "execute_result"
    }
   ],
   "source": [
    "# Opening a file in a+ mode allows us to both append to the file and read it.\n",
    "file = open('new_file.txt', mode='a+')\n",
    "file.write('\\nThis is an added line, because I used a+ mode.')"
   ]
  },
  {
   "cell_type": "code",
   "execution_count": 141,
   "id": "62c7a51d",
   "metadata": {},
   "outputs": [
    {
     "data": {
      "text/plain": [
       "'The first line for the a+ opening mode.\\nThis is an added line, because I used a+ mode.The first line for the a+ opening mode.\\nThis is an added line, because I used a+ mode.'"
      ]
     },
     "execution_count": 141,
     "metadata": {},
     "output_type": "execute_result"
    }
   ],
   "source": [
    "file.seek(0)\n",
    "file.read()"
   ]
  },
  {
   "cell_type": "code",
   "execution_count": 142,
   "id": "5aaceb43",
   "metadata": {},
   "outputs": [
    {
     "name": "stdout",
     "output_type": "stream",
     "text": [
      "The first line for the a+ opening mode.\n",
      "This is an added line, because I used a+ mode.The first line for the a+ opening mode.\n",
      "This is an added line, because I used a+ mode.\n",
      "['The first line for the a+ opening mode.\\n', 'This is an added line, because I used a+ mode.The first line for the a+ opening mode.\\n', 'This is an added line, because I used a+ mode.']\n"
     ]
    }
   ],
   "source": [
    "file.seek(0)\n",
    "print(file.read())\n",
    "file.seek(0)\n",
    "print(file.readlines())"
   ]
  },
  {
   "cell_type": "code",
   "execution_count": 143,
   "id": "3fd2002f",
   "metadata": {},
   "outputs": [],
   "source": [
    "# Context Managers\n",
    "# with operator is a context manager that \n",
    "# automatically closes the file.\n",
    "with open('new_file.txt', 'r') as new_file:\n",
    "    my_list = new_file.readlines()"
   ]
  },
  {
   "cell_type": "code",
   "execution_count": 144,
   "id": "e1233138",
   "metadata": {},
   "outputs": [
    {
     "data": {
      "text/plain": [
       "['The first line for the a+ opening mode.\\n',\n",
       " 'This is an added line, because I used a+ mode.The first line for the a+ opening mode.\\n',\n",
       " 'This is an added line, because I used a+ mode.']"
      ]
     },
     "execution_count": 144,
     "metadata": {},
     "output_type": "execute_result"
    }
   ],
   "source": [
    "my_list"
   ]
  },
  {
   "cell_type": "code",
   "execution_count": 145,
   "id": "7be03454",
   "metadata": {},
   "outputs": [
    {
     "name": "stdout",
     "output_type": "stream",
     "text": [
      "The first line for the a+ opening mode.\n",
      "\n",
      "This is an added line, because I used a+ mode.The first line for the a+ opening mode.\n",
      "\n"
     ]
    }
   ],
   "source": [
    "print(my_list[0]) # It will get the first element of the list called my_list.\n",
    "print(my_list[1]) # It will get the second element of the list called my_list."
   ]
  },
  {
   "cell_type": "code",
   "execution_count": null,
   "id": "f70f0825",
   "metadata": {},
   "outputs": [],
   "source": []
  }
 ],
 "metadata": {
  "kernelspec": {
   "display_name": "Python 3 (ipykernel)",
   "language": "python",
   "name": "python3"
  },
  "language_info": {
   "codemirror_mode": {
    "name": "ipython",
    "version": 3
   },
   "file_extension": ".py",
   "mimetype": "text/x-python",
   "name": "python",
   "nbconvert_exporter": "python",
   "pygments_lexer": "ipython3",
   "version": "3.9.12"
  }
 },
 "nbformat": 4,
 "nbformat_minor": 5
}
