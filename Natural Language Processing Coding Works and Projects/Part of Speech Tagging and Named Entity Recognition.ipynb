{
 "cells": [
  {
   "cell_type": "code",
   "execution_count": 1,
   "id": "a7db7af4",
   "metadata": {},
   "outputs": [
    {
     "name": "stdout",
     "output_type": "stream",
     "text": [
      "<spacy.lang.en.English object at 0x7facfbe99190>\n",
      "<class 'spacy.lang.en.English'>\n",
      "\n",
      "\n",
      "The quick black wolf jumped over the lazy cat's back. Type: <class 'spacy.tokens.doc.Doc'>\n",
      "The quick black wolf jumped over the lazy cat's back. Type: <class 'str'>\n",
      "\n",
      "\n",
      "<class 'spacy.tokens.token.Token'>\n",
      "Word 1: The\n",
      "\n",
      "<class 'spacy.tokens.token.Token'>\n",
      "Word 2: quick\n",
      "\n",
      "<class 'spacy.tokens.token.Token'>\n",
      "Word 3: black\n",
      "\n",
      "<class 'spacy.tokens.token.Token'>\n",
      "Word 4: wolf\n",
      "\n",
      "<class 'spacy.tokens.token.Token'>\n",
      "Word 5: jumped\n",
      "\n",
      "<class 'spacy.tokens.token.Token'>\n",
      "Word 6: over\n",
      "\n",
      "<class 'spacy.tokens.token.Token'>\n",
      "Word 7: the\n",
      "\n",
      "<class 'spacy.tokens.token.Token'>\n",
      "Word 8: lazy\n",
      "\n",
      "<class 'spacy.tokens.token.Token'>\n",
      "Word 9: cat\n",
      "\n",
      "<class 'spacy.tokens.token.Token'>\n",
      "Word 10: 's\n",
      "\n",
      "<class 'spacy.tokens.token.Token'>\n",
      "Word 11: back\n",
      "\n",
      "<class 'spacy.tokens.token.Token'>\n",
      "Word 12: .\n",
      "\n"
     ]
    }
   ],
   "source": [
    "# Part of Speech Tagging\n",
    "\n",
    "# Part of Speech (POS) Types:\n",
    "# * Coarse Part of Speech (token.pos_ gets the coarse part of speech )\n",
    "# * Fine-Grained Part of Speech\n",
    "import spacy\n",
    "\n",
    "nlp = spacy.load('en_core_web_sm')\n",
    "print(nlp)\n",
    "print(type(nlp))\n",
    "\n",
    "print()\n",
    "print()\n",
    "\n",
    "document = nlp(u\"The quick black wolf jumped over the lazy cat's back.\")\n",
    "print(document, \"Type: \"+str(type(document))) # Doc object in spacy\n",
    "print(document.text, \"Type: \"+str(type(document.text))) # String\n",
    "\n",
    "print()\n",
    "print()\n",
    "\n",
    "for i in range(0, len(document)):\n",
    "    word = document[i]\n",
    "    print(type(word)) # Here, each word in the document has a type of spacy token.\n",
    "    print(\"Word \"+str(i+1)+\": \"+str(word)+\"\") \n",
    "    print()\n",
    "    \n"
   ]
  },
  {
   "cell_type": "code",
   "execution_count": 2,
   "id": "bc091426",
   "metadata": {},
   "outputs": [
    {
     "name": "stdout",
     "output_type": "stream",
     "text": [
      "['The', 'quick', 'black', 'wolf', 'jumped', 'over', 'the', 'lazy', 'cat', \"'s\", 'back', '.']\n",
      "\n",
      "The\n",
      "quick\n",
      "black\n",
      "wolf\n"
     ]
    }
   ],
   "source": [
    "# Obtaining the texts of the tokens in the document called 'document'.\n",
    "texts_of_tokens = []\n",
    "for token in document:\n",
    "    text = token.text\n",
    "    texts_of_tokens.append(text)\n",
    "    \n",
    "print(texts_of_tokens)\n",
    "print()\n",
    "print(texts_of_tokens[0])\n",
    "print(texts_of_tokens[1])\n",
    "print(texts_of_tokens[2])\n",
    "print(texts_of_tokens[3])\n"
   ]
  },
  {
   "cell_type": "code",
   "execution_count": 3,
   "id": "76384a71",
   "metadata": {},
   "outputs": [
    {
     "name": "stdout",
     "output_type": "stream",
     "text": [
      "The list of coarse part of speech tags for the tokens in the document: \n",
      "\n",
      "['The => DET', 'quick => ADJ', 'black => ADJ', 'wolf => NOUN', 'jumped => VERB', 'over => ADP', 'the => DET', 'lazy => ADJ', 'cat => NOUN', \"'s => PART\", 'back => NOUN', '. => PUNCT']\n",
      "\n",
      "The => DET\n",
      "quick => ADJ\n",
      "black => ADJ\n",
      "wolf => NOUN\n",
      "jumped => VERB\n"
     ]
    }
   ],
   "source": [
    "# Obtaining the coarse (general/broad) part of speech tag for each token in the document called 'document'\n",
    "coarse_part_of_speech_lst = []\n",
    "for token in document:\n",
    "    pos = token.pos_ # gets the coarse part of speech for each token\n",
    "    coarse_part_of_speech_lst.append(\"\"+str(token)+ \" => \"+str(pos)+\"\")\n",
    "\n",
    "print(\"The list of coarse part of speech tags for the tokens in the document: \")\n",
    "print()\n",
    "print(coarse_part_of_speech_lst)\n",
    "print()\n",
    "print(coarse_part_of_speech_lst[0])\n",
    "print(coarse_part_of_speech_lst[1])\n",
    "print(coarse_part_of_speech_lst[2])\n",
    "print(coarse_part_of_speech_lst[3])\n",
    "print(coarse_part_of_speech_lst[4])"
   ]
  },
  {
   "cell_type": "code",
   "execution_count": 4,
   "id": "47c8353f",
   "metadata": {},
   "outputs": [
    {
     "name": "stdout",
     "output_type": "stream",
     "text": [
      "The list of explanations of the coarse part of speech tags for the tokens in the document: \n",
      "\n",
      "['The => determiner', 'quick => adjective', 'black => adjective', 'wolf => noun', 'jumped => verb', 'over => adposition', 'the => determiner', 'lazy => adjective', 'cat => noun', \"'s => particle\", 'back => noun', '. => punctuation']\n",
      "\n",
      "The => determiner\n",
      "quick => adjective\n",
      "black => adjective\n",
      "wolf => noun\n",
      "jumped => verb\n",
      "over => adposition\n"
     ]
    }
   ],
   "source": [
    "# Obtaining the explanation of the coarse part of speech tag for each token in the document called 'document'\n",
    "coarse_tags_explanations = []\n",
    "for word in document:\n",
    "    pos = word.pos_ # gets the coarse part of speech for each token\n",
    "    exp_text = spacy.explain(pos) # gets the detailed explanation of the coarse part of speech\n",
    "    coarse_tags_explanations.append(\"\"+str(word)+\" => \"+str(exp_text))\n",
    "    \n",
    "print(\"The list of explanations of the coarse part of speech tags for the tokens in the document: \")\n",
    "print()\n",
    "print(coarse_tags_explanations)\n",
    "print()\n",
    "print(coarse_tags_explanations[0])\n",
    "print(coarse_tags_explanations[1])\n",
    "print(coarse_tags_explanations[2])\n",
    "print(coarse_tags_explanations[3])\n",
    "print(coarse_tags_explanations[4])\n",
    "print(coarse_tags_explanations[5])"
   ]
  },
  {
   "cell_type": "code",
   "execution_count": 5,
   "id": "fdb7e9b0",
   "metadata": {},
   "outputs": [
    {
     "name": "stdout",
     "output_type": "stream",
     "text": [
      "The list of numerical ids of the coarse part of speech tags for the tokens in the document: \n",
      "\n",
      "['The => 90', 'quick => 84', 'black => 84', 'wolf => 92', 'jumped => 100', 'over => 85', 'the => 90', 'lazy => 84', 'cat => 92', \"'s => 94\", 'back => 92', '. => 97']\n",
      "\n",
      "The => 90\n",
      "quick => 84\n",
      "black => 84\n",
      "wolf => 92\n"
     ]
    }
   ],
   "source": [
    "# Obtaining the numerical id of the coarse part of speech tag for each token in the document called document\n",
    "coarse_tags_numerical_ids = []\n",
    "for token in document:\n",
    "    coarse_pos_id = token.pos\n",
    "    coarse_tags_numerical_ids.append(\"\"+str(token)+\" => \"+str(coarse_pos_id))\n",
    "    \n",
    "print(\"The list of numerical ids of the coarse part of speech tags for the tokens in the document: \")\n",
    "print()\n",
    "print(coarse_tags_numerical_ids)\n",
    "print()\n",
    "print(coarse_tags_numerical_ids[0])\n",
    "print(coarse_tags_numerical_ids[1])\n",
    "print(coarse_tags_numerical_ids[2])\n",
    "print(coarse_tags_numerical_ids[3])"
   ]
  },
  {
   "cell_type": "code",
   "execution_count": 6,
   "id": "c41339da",
   "metadata": {},
   "outputs": [
    {
     "name": "stdout",
     "output_type": "stream",
     "text": [
      "The list of fine-grained part of speech tags for the tokens in the document: \n",
      "\n",
      "['The => DT', 'quick => JJ', 'black => JJ', 'wolf => NN', 'jumped => VBD', 'over => IN', 'the => DT', 'lazy => JJ', 'cat => NN', \"'s => POS\", 'back => NN', '. => .']\n",
      "\n",
      "The => DT\n",
      "quick => JJ\n",
      "black => JJ\n",
      "wolf => NN\n"
     ]
    }
   ],
   "source": [
    "# Obtaining the fine-grained part of speech tag for each token in the document called document\n",
    "fine_grained_pos_lst = []\n",
    "for token in document:\n",
    "    tag = token.tag_ # gets the fine-grained POS tag for each token\n",
    "    fine_grained_pos_lst.append(\"\"+str(token)+\" => \"+str(tag)+\"\")\n",
    "    \n",
    "print(\"The list of fine-grained part of speech tags for the tokens in the document: \")\n",
    "print()\n",
    "print(fine_grained_pos_lst)\n",
    "print()\n",
    "print(fine_grained_pos_lst[0]) # first element of the list \n",
    "print(fine_grained_pos_lst[1]) # second element\n",
    "print(fine_grained_pos_lst[2]) # third element\n",
    "print(fine_grained_pos_lst[3]) # fourth element"
   ]
  },
  {
   "cell_type": "code",
   "execution_count": 7,
   "id": "fe793731",
   "metadata": {},
   "outputs": [
    {
     "name": "stdout",
     "output_type": "stream",
     "text": [
      "The list of the explanations of the fine-grained part of speech tags for the tokens in the document:\n",
      "\n",
      "['The => determiner', 'quick => adjective (English), other noun-modifier (Chinese)', 'black => adjective (English), other noun-modifier (Chinese)', 'wolf => noun, singular or mass', 'jumped => verb, past tense', 'over => conjunction, subordinating or preposition', 'the => determiner', 'lazy => adjective (English), other noun-modifier (Chinese)', 'cat => noun, singular or mass', \"'s => possessive ending\", 'back => noun, singular or mass', '. => punctuation mark, sentence closer']\n",
      "\n",
      "The => determiner\n",
      "quick => adjective (English), other noun-modifier (Chinese)\n",
      "black => adjective (English), other noun-modifier (Chinese)\n",
      "wolf => noun, singular or mass\n"
     ]
    }
   ],
   "source": [
    "# Obtaining the explanation of the fine-grained part of speech tag for each token in the document called document\n",
    "explanations = []\n",
    "for token in document:\n",
    "    tag = token.tag_\n",
    "    explanation = spacy.explain(tag) # gets the detailed explanation of the fine-grained POS tag.\n",
    "    explanations.append(\"\"+str(token)+\" => \"+str(explanation)+\"\")\n",
    "    \n",
    "print(\"The list of the explanations of the fine-grained part of speech tags for the tokens in the document:\")\n",
    "print()\n",
    "print(explanations)\n",
    "print()\n",
    "print(explanations[0]) # The first element of the list\n",
    "print(explanations[1]) # The second element\n",
    "print(explanations[2]) # The third element\n",
    "print(explanations[3]) # The fourth element"
   ]
  },
  {
   "cell_type": "code",
   "execution_count": 8,
   "id": "3657e26f",
   "metadata": {},
   "outputs": [
    {
     "name": "stdout",
     "output_type": "stream",
     "text": [
      "The list of fine-grained part of speech tags for the tokens in the document:\n",
      "\n",
      "['The => 15267657372422890137', 'quick => 10554686591937588953', 'black => 10554686591937588953', 'wolf => 15308085513773655218', 'jumped => 17109001835818727656', 'over => 1292078113972184607', 'the => 15267657372422890137', 'lazy => 10554686591937588953', 'cat => 15308085513773655218', \"'s => 74\", 'back => 15308085513773655218', '. => 12646065887601541794']\n",
      "\n",
      "The => 15267657372422890137\n",
      "quick => 10554686591937588953\n",
      "black => 10554686591937588953\n",
      "wolf => 15308085513773655218\n",
      "jumped => 17109001835818727656\n"
     ]
    }
   ],
   "source": [
    "# Obtaining the numerical id of the fine-grained part of speech tag for each token in the document called document\n",
    "fine_grained_tag_ids = []\n",
    "for token in document:\n",
    "    tag_id_value = token.tag # gets the numerical id of the fine-grained POS tag for each token\n",
    "    fine_grained_tag_ids.append(\"\"+str(token)+\" => \"+str(tag_id_value)+\"\")\n",
    "    \n",
    "print(\"The list of fine-grained part of speech tags for the tokens in the document:\")\n",
    "print()\n",
    "print(fine_grained_tag_ids)\n",
    "print()\n",
    "print(fine_grained_tag_ids[0]) # The first element of the list\n",
    "print(fine_grained_tag_ids[1]) # The second element\n",
    "print(fine_grained_tag_ids[2]) # The third element\n",
    "print(fine_grained_tag_ids[3]) # The fourth element\n",
    "print(fine_grained_tag_ids[4]) # The fifth element"
   ]
  },
  {
   "cell_type": "code",
   "execution_count": 9,
   "id": "b470deb4",
   "metadata": {},
   "outputs": [
    {
     "name": "stdout",
     "output_type": "stream",
     "text": [
      "I am currently studying NLP techniques such as lemmatization, tokenization, stemming, stop words removal, and so on.\n",
      "I am currently studying NLP techniques such as lemmatization, tokenization, stemming, stop words removal, and so on.\n",
      "<generator object at 0x7fad02c10d60>\n",
      "<class 'spacy.tokens.doc.Doc'>\n"
     ]
    }
   ],
   "source": [
    "new_document = nlp(u\"I am currently studying NLP techniques such as lemmatization, tokenization, stemming, stop words removal, and so on.\")\n",
    "print(new_document)\n",
    "print(new_document.text) # gets the text in the document\n",
    "print(new_document.sents) # gets the sentences in the document\n",
    "print(type(new_document)) # gets the type of the document object\n"
   ]
  },
  {
   "cell_type": "code",
   "execution_count": 10,
   "id": "8030fceb",
   "metadata": {},
   "outputs": [
    {
     "name": "stdout",
     "output_type": "stream",
     "text": [
      "74\n",
      "{95: 1, 87: 1, 86: 3, 100: 3, 96: 1, 92: 5, 84: 1, 85: 1, 97: 5, 89: 1}\n"
     ]
    }
   ],
   "source": [
    "# This will output a dictionary where the keys are the part of speech codes and the values are the frequencies \n",
    "# of the the parts of speech in the document called 'new_document'.\n",
    "print(spacy.attrs.POS)\n",
    "pos_counts = new_document.count_by(spacy.attrs.POS)\n",
    "print(pos_counts)\n"
   ]
  },
  {
   "cell_type": "code",
   "execution_count": 11,
   "id": "78417c06",
   "metadata": {},
   "outputs": [
    {
     "name": "stdout",
     "output_type": "stream",
     "text": [
      "PRON => 95\n",
      "AUX => 87\n",
      "ADV => 86\n",
      "VERB => 100\n",
      "PROPN => 96\n",
      "NOUN => 92\n",
      "ADJ => 84\n",
      "ADP => 85\n",
      "PUNCT => 97\n",
      "CCONJ => 89\n",
      "\n",
      "{'PRON': 1, 'AUX': 1, 'ADV': 3, 'VERB': 3, 'PROPN': 1, 'NOUN': 5, 'ADJ': 1, 'ADP': 1, 'PUNCT': 5, 'CCONJ': 1}\n"
     ]
    }
   ],
   "source": [
    "pos_codes = pos_counts.keys()\n",
    "frequencies = pos_counts.values()\n",
    "pos_codes = list(pos_codes)\n",
    "frequencies = list(frequencies)\n",
    "\n",
    "pos_dict = {} # Initializing a dictionary to keep track of the \n",
    "for i, pos_code in enumerate(pos_codes):\n",
    "    pos_text = nlp.vocab[pos_code].text # gets the text version of the part of speech code\n",
    "    print(\"\"+str(pos_text)+\" => \"+str(pos_code)+\"\")\n",
    "    pos_dict[pos_text] = frequencies[i]\n",
    "    \n",
    "print()\n",
    "print(pos_dict)"
   ]
  },
  {
   "cell_type": "code",
   "execution_count": 12,
   "id": "73125e3c",
   "metadata": {},
   "outputs": [
    {
     "data": {
      "text/html": [
       "<span class=\"tex2jax_ignore\"><svg xmlns=\"http://www.w3.org/2000/svg\" xmlns:xlink=\"http://www.w3.org/1999/xlink\" xml:lang=\"en\" id=\"a60cdf40bb1a4a6da6182922695ce32e-0\" class=\"displacy\" width=\"2150\" height=\"574.5\" direction=\"ltr\" style=\"max-width: none; height: 574.5px; color: blue; background: orange; font-family: Times New Roman; direction: ltr\">\n",
       "<text class=\"displacy-token\" fill=\"currentColor\" text-anchor=\"middle\" y=\"484.5\">\n",
       "    <tspan class=\"displacy-word\" fill=\"currentColor\" x=\"50\">I</tspan>\n",
       "    <tspan class=\"displacy-tag\" dy=\"2em\" fill=\"currentColor\" x=\"50\">PRON</tspan>\n",
       "</text>\n",
       "\n",
       "<text class=\"displacy-token\" fill=\"currentColor\" text-anchor=\"middle\" y=\"484.5\">\n",
       "    <tspan class=\"displacy-word\" fill=\"currentColor\" x=\"225\">have</tspan>\n",
       "    <tspan class=\"displacy-tag\" dy=\"2em\" fill=\"currentColor\" x=\"225\">VERB</tspan>\n",
       "</text>\n",
       "\n",
       "<text class=\"displacy-token\" fill=\"currentColor\" text-anchor=\"middle\" y=\"484.5\">\n",
       "    <tspan class=\"displacy-word\" fill=\"currentColor\" x=\"400\">three</tspan>\n",
       "    <tspan class=\"displacy-tag\" dy=\"2em\" fill=\"currentColor\" x=\"400\">NUM</tspan>\n",
       "</text>\n",
       "\n",
       "<text class=\"displacy-token\" fill=\"currentColor\" text-anchor=\"middle\" y=\"484.5\">\n",
       "    <tspan class=\"displacy-word\" fill=\"currentColor\" x=\"575\">apples</tspan>\n",
       "    <tspan class=\"displacy-tag\" dy=\"2em\" fill=\"currentColor\" x=\"575\">NOUN</tspan>\n",
       "</text>\n",
       "\n",
       "<text class=\"displacy-token\" fill=\"currentColor\" text-anchor=\"middle\" y=\"484.5\">\n",
       "    <tspan class=\"displacy-word\" fill=\"currentColor\" x=\"750\">and</tspan>\n",
       "    <tspan class=\"displacy-tag\" dy=\"2em\" fill=\"currentColor\" x=\"750\">CCONJ</tspan>\n",
       "</text>\n",
       "\n",
       "<text class=\"displacy-token\" fill=\"currentColor\" text-anchor=\"middle\" y=\"484.5\">\n",
       "    <tspan class=\"displacy-word\" fill=\"currentColor\" x=\"925\">1</tspan>\n",
       "    <tspan class=\"displacy-tag\" dy=\"2em\" fill=\"currentColor\" x=\"925\">NUM</tspan>\n",
       "</text>\n",
       "\n",
       "<text class=\"displacy-token\" fill=\"currentColor\" text-anchor=\"middle\" y=\"484.5\">\n",
       "    <tspan class=\"displacy-word\" fill=\"currentColor\" x=\"1100\">kilogram</tspan>\n",
       "    <tspan class=\"displacy-tag\" dy=\"2em\" fill=\"currentColor\" x=\"1100\">PROPN</tspan>\n",
       "</text>\n",
       "\n",
       "<text class=\"displacy-token\" fill=\"currentColor\" text-anchor=\"middle\" y=\"484.5\">\n",
       "    <tspan class=\"displacy-word\" fill=\"currentColor\" x=\"1275\">strawberries</tspan>\n",
       "    <tspan class=\"displacy-tag\" dy=\"2em\" fill=\"currentColor\" x=\"1275\">NOUN</tspan>\n",
       "</text>\n",
       "\n",
       "<text class=\"displacy-token\" fill=\"currentColor\" text-anchor=\"middle\" y=\"484.5\">\n",
       "    <tspan class=\"displacy-word\" fill=\"currentColor\" x=\"1450\">in</tspan>\n",
       "    <tspan class=\"displacy-tag\" dy=\"2em\" fill=\"currentColor\" x=\"1450\">ADP</tspan>\n",
       "</text>\n",
       "\n",
       "<text class=\"displacy-token\" fill=\"currentColor\" text-anchor=\"middle\" y=\"484.5\">\n",
       "    <tspan class=\"displacy-word\" fill=\"currentColor\" x=\"1625\">my</tspan>\n",
       "    <tspan class=\"displacy-tag\" dy=\"2em\" fill=\"currentColor\" x=\"1625\">PRON</tspan>\n",
       "</text>\n",
       "\n",
       "<text class=\"displacy-token\" fill=\"currentColor\" text-anchor=\"middle\" y=\"484.5\">\n",
       "    <tspan class=\"displacy-word\" fill=\"currentColor\" x=\"1800\">grocery</tspan>\n",
       "    <tspan class=\"displacy-tag\" dy=\"2em\" fill=\"currentColor\" x=\"1800\">NOUN</tspan>\n",
       "</text>\n",
       "\n",
       "<text class=\"displacy-token\" fill=\"currentColor\" text-anchor=\"middle\" y=\"484.5\">\n",
       "    <tspan class=\"displacy-word\" fill=\"currentColor\" x=\"1975\">bag.</tspan>\n",
       "    <tspan class=\"displacy-tag\" dy=\"2em\" fill=\"currentColor\" x=\"1975\">NOUN</tspan>\n",
       "</text>\n",
       "\n",
       "<g class=\"displacy-arrow\">\n",
       "    <path class=\"displacy-arc\" id=\"arrow-a60cdf40bb1a4a6da6182922695ce32e-0-0\" stroke-width=\"2px\" d=\"M70,439.5 C70,352.0 205.0,352.0 205.0,439.5\" fill=\"none\" stroke=\"currentColor\"/>\n",
       "    <text dy=\"1.25em\" style=\"font-size: 0.8em; letter-spacing: 1px\">\n",
       "        <textPath xlink:href=\"#arrow-a60cdf40bb1a4a6da6182922695ce32e-0-0\" class=\"displacy-label\" startOffset=\"50%\" side=\"left\" fill=\"currentColor\" text-anchor=\"middle\">nsubj</textPath>\n",
       "    </text>\n",
       "    <path class=\"displacy-arrowhead\" d=\"M70,441.5 L62,429.5 78,429.5\" fill=\"currentColor\"/>\n",
       "</g>\n",
       "\n",
       "<g class=\"displacy-arrow\">\n",
       "    <path class=\"displacy-arc\" id=\"arrow-a60cdf40bb1a4a6da6182922695ce32e-0-1\" stroke-width=\"2px\" d=\"M420,439.5 C420,352.0 555.0,352.0 555.0,439.5\" fill=\"none\" stroke=\"currentColor\"/>\n",
       "    <text dy=\"1.25em\" style=\"font-size: 0.8em; letter-spacing: 1px\">\n",
       "        <textPath xlink:href=\"#arrow-a60cdf40bb1a4a6da6182922695ce32e-0-1\" class=\"displacy-label\" startOffset=\"50%\" side=\"left\" fill=\"currentColor\" text-anchor=\"middle\">nummod</textPath>\n",
       "    </text>\n",
       "    <path class=\"displacy-arrowhead\" d=\"M420,441.5 L412,429.5 428,429.5\" fill=\"currentColor\"/>\n",
       "</g>\n",
       "\n",
       "<g class=\"displacy-arrow\">\n",
       "    <path class=\"displacy-arc\" id=\"arrow-a60cdf40bb1a4a6da6182922695ce32e-0-2\" stroke-width=\"2px\" d=\"M245,439.5 C245,264.5 560.0,264.5 560.0,439.5\" fill=\"none\" stroke=\"currentColor\"/>\n",
       "    <text dy=\"1.25em\" style=\"font-size: 0.8em; letter-spacing: 1px\">\n",
       "        <textPath xlink:href=\"#arrow-a60cdf40bb1a4a6da6182922695ce32e-0-2\" class=\"displacy-label\" startOffset=\"50%\" side=\"left\" fill=\"currentColor\" text-anchor=\"middle\">dobj</textPath>\n",
       "    </text>\n",
       "    <path class=\"displacy-arrowhead\" d=\"M560.0,441.5 L568.0,429.5 552.0,429.5\" fill=\"currentColor\"/>\n",
       "</g>\n",
       "\n",
       "<g class=\"displacy-arrow\">\n",
       "    <path class=\"displacy-arc\" id=\"arrow-a60cdf40bb1a4a6da6182922695ce32e-0-3\" stroke-width=\"2px\" d=\"M595,439.5 C595,352.0 730.0,352.0 730.0,439.5\" fill=\"none\" stroke=\"currentColor\"/>\n",
       "    <text dy=\"1.25em\" style=\"font-size: 0.8em; letter-spacing: 1px\">\n",
       "        <textPath xlink:href=\"#arrow-a60cdf40bb1a4a6da6182922695ce32e-0-3\" class=\"displacy-label\" startOffset=\"50%\" side=\"left\" fill=\"currentColor\" text-anchor=\"middle\">cc</textPath>\n",
       "    </text>\n",
       "    <path class=\"displacy-arrowhead\" d=\"M730.0,441.5 L738.0,429.5 722.0,429.5\" fill=\"currentColor\"/>\n",
       "</g>\n",
       "\n",
       "<g class=\"displacy-arrow\">\n",
       "    <path class=\"displacy-arc\" id=\"arrow-a60cdf40bb1a4a6da6182922695ce32e-0-4\" stroke-width=\"2px\" d=\"M945,439.5 C945,264.5 1260.0,264.5 1260.0,439.5\" fill=\"none\" stroke=\"currentColor\"/>\n",
       "    <text dy=\"1.25em\" style=\"font-size: 0.8em; letter-spacing: 1px\">\n",
       "        <textPath xlink:href=\"#arrow-a60cdf40bb1a4a6da6182922695ce32e-0-4\" class=\"displacy-label\" startOffset=\"50%\" side=\"left\" fill=\"currentColor\" text-anchor=\"middle\">nummod</textPath>\n",
       "    </text>\n",
       "    <path class=\"displacy-arrowhead\" d=\"M945,441.5 L937,429.5 953,429.5\" fill=\"currentColor\"/>\n",
       "</g>\n",
       "\n",
       "<g class=\"displacy-arrow\">\n",
       "    <path class=\"displacy-arc\" id=\"arrow-a60cdf40bb1a4a6da6182922695ce32e-0-5\" stroke-width=\"2px\" d=\"M1120,439.5 C1120,352.0 1255.0,352.0 1255.0,439.5\" fill=\"none\" stroke=\"currentColor\"/>\n",
       "    <text dy=\"1.25em\" style=\"font-size: 0.8em; letter-spacing: 1px\">\n",
       "        <textPath xlink:href=\"#arrow-a60cdf40bb1a4a6da6182922695ce32e-0-5\" class=\"displacy-label\" startOffset=\"50%\" side=\"left\" fill=\"currentColor\" text-anchor=\"middle\">compound</textPath>\n",
       "    </text>\n",
       "    <path class=\"displacy-arrowhead\" d=\"M1120,441.5 L1112,429.5 1128,429.5\" fill=\"currentColor\"/>\n",
       "</g>\n",
       "\n",
       "<g class=\"displacy-arrow\">\n",
       "    <path class=\"displacy-arc\" id=\"arrow-a60cdf40bb1a4a6da6182922695ce32e-0-6\" stroke-width=\"2px\" d=\"M595,439.5 C595,89.5 1270.0,89.5 1270.0,439.5\" fill=\"none\" stroke=\"currentColor\"/>\n",
       "    <text dy=\"1.25em\" style=\"font-size: 0.8em; letter-spacing: 1px\">\n",
       "        <textPath xlink:href=\"#arrow-a60cdf40bb1a4a6da6182922695ce32e-0-6\" class=\"displacy-label\" startOffset=\"50%\" side=\"left\" fill=\"currentColor\" text-anchor=\"middle\">conj</textPath>\n",
       "    </text>\n",
       "    <path class=\"displacy-arrowhead\" d=\"M1270.0,441.5 L1278.0,429.5 1262.0,429.5\" fill=\"currentColor\"/>\n",
       "</g>\n",
       "\n",
       "<g class=\"displacy-arrow\">\n",
       "    <path class=\"displacy-arc\" id=\"arrow-a60cdf40bb1a4a6da6182922695ce32e-0-7\" stroke-width=\"2px\" d=\"M595,439.5 C595,2.0 1450.0,2.0 1450.0,439.5\" fill=\"none\" stroke=\"currentColor\"/>\n",
       "    <text dy=\"1.25em\" style=\"font-size: 0.8em; letter-spacing: 1px\">\n",
       "        <textPath xlink:href=\"#arrow-a60cdf40bb1a4a6da6182922695ce32e-0-7\" class=\"displacy-label\" startOffset=\"50%\" side=\"left\" fill=\"currentColor\" text-anchor=\"middle\">prep</textPath>\n",
       "    </text>\n",
       "    <path class=\"displacy-arrowhead\" d=\"M1450.0,441.5 L1458.0,429.5 1442.0,429.5\" fill=\"currentColor\"/>\n",
       "</g>\n",
       "\n",
       "<g class=\"displacy-arrow\">\n",
       "    <path class=\"displacy-arc\" id=\"arrow-a60cdf40bb1a4a6da6182922695ce32e-0-8\" stroke-width=\"2px\" d=\"M1645,439.5 C1645,264.5 1960.0,264.5 1960.0,439.5\" fill=\"none\" stroke=\"currentColor\"/>\n",
       "    <text dy=\"1.25em\" style=\"font-size: 0.8em; letter-spacing: 1px\">\n",
       "        <textPath xlink:href=\"#arrow-a60cdf40bb1a4a6da6182922695ce32e-0-8\" class=\"displacy-label\" startOffset=\"50%\" side=\"left\" fill=\"currentColor\" text-anchor=\"middle\">poss</textPath>\n",
       "    </text>\n",
       "    <path class=\"displacy-arrowhead\" d=\"M1645,441.5 L1637,429.5 1653,429.5\" fill=\"currentColor\"/>\n",
       "</g>\n",
       "\n",
       "<g class=\"displacy-arrow\">\n",
       "    <path class=\"displacy-arc\" id=\"arrow-a60cdf40bb1a4a6da6182922695ce32e-0-9\" stroke-width=\"2px\" d=\"M1820,439.5 C1820,352.0 1955.0,352.0 1955.0,439.5\" fill=\"none\" stroke=\"currentColor\"/>\n",
       "    <text dy=\"1.25em\" style=\"font-size: 0.8em; letter-spacing: 1px\">\n",
       "        <textPath xlink:href=\"#arrow-a60cdf40bb1a4a6da6182922695ce32e-0-9\" class=\"displacy-label\" startOffset=\"50%\" side=\"left\" fill=\"currentColor\" text-anchor=\"middle\">compound</textPath>\n",
       "    </text>\n",
       "    <path class=\"displacy-arrowhead\" d=\"M1820,441.5 L1812,429.5 1828,429.5\" fill=\"currentColor\"/>\n",
       "</g>\n",
       "\n",
       "<g class=\"displacy-arrow\">\n",
       "    <path class=\"displacy-arc\" id=\"arrow-a60cdf40bb1a4a6da6182922695ce32e-0-10\" stroke-width=\"2px\" d=\"M1470,439.5 C1470,177.0 1965.0,177.0 1965.0,439.5\" fill=\"none\" stroke=\"currentColor\"/>\n",
       "    <text dy=\"1.25em\" style=\"font-size: 0.8em; letter-spacing: 1px\">\n",
       "        <textPath xlink:href=\"#arrow-a60cdf40bb1a4a6da6182922695ce32e-0-10\" class=\"displacy-label\" startOffset=\"50%\" side=\"left\" fill=\"currentColor\" text-anchor=\"middle\">pobj</textPath>\n",
       "    </text>\n",
       "    <path class=\"displacy-arrowhead\" d=\"M1965.0,441.5 L1973.0,429.5 1957.0,429.5\" fill=\"currentColor\"/>\n",
       "</g>\n",
       "</svg></span>"
      ],
      "text/plain": [
       "<IPython.core.display.HTML object>"
      ]
     },
     "metadata": {},
     "output_type": "display_data"
    }
   ],
   "source": [
    "# Visualizing parts of speech by using displaCy\n",
    "import spacy \n",
    "nlp = spacy.load('en_core_web_sm')\n",
    "document = nlp(u\"I have three apples and 1 kilogram strawberries in my grocery bag.\")\n",
    "\n",
    "from spacy import displacy \n",
    "options = {'color': 'blue', 'bg': 'orange', 'font': 'Times New Roman'}\n",
    "displacy.render(document, style='dep', jupyter=True, options=options)\n"
   ]
  },
  {
   "cell_type": "code",
   "execution_count": null,
   "id": "9317ba12",
   "metadata": {},
   "outputs": [
    {
     "name": "stderr",
     "output_type": "stream",
     "text": [
      "/Users/barissss/opt/anaconda3/lib/python3.9/site-packages/spacy/displacy/__init__.py:98: UserWarning: [W011] It looks like you're calling displacy.serve from within a Jupyter notebook or a similar environment. This likely means you're already running a local web server, so there's no need to make displaCy start another one. Instead, you should be able to replace displacy.serve with displacy.render to show the visualization.\n",
      "  warnings.warn(Warnings.W011)\n"
     ]
    },
    {
     "data": {
      "text/html": [
       "<span class=\"tex2jax_ignore\"><!DOCTYPE html>\n",
       "<html lang=\"en\">\n",
       "    <head>\n",
       "        <title>displaCy</title>\n",
       "    </head>\n",
       "\n",
       "    <body style=\"font-size: 16px; font-family: -apple-system, BlinkMacSystemFont, 'Segoe UI', Helvetica, Arial, sans-serif, 'Apple Color Emoji', 'Segoe UI Emoji', 'Segoe UI Symbol'; padding: 4rem 2rem; direction: ltr\">\n",
       "<figure style=\"margin-bottom: 6rem\">\n",
       "<svg xmlns=\"http://www.w3.org/2000/svg\" xmlns:xlink=\"http://www.w3.org/1999/xlink\" xml:lang=\"en\" id=\"4423b78c666043cb920558e5447b00f3-0\" class=\"displacy\" width=\"2150\" height=\"574.5\" direction=\"ltr\" style=\"max-width: none; height: 574.5px; color: #000000; background: #ffffff; font-family: Arial; direction: ltr\">\n",
       "<text class=\"displacy-token\" fill=\"currentColor\" text-anchor=\"middle\" y=\"484.5\">\n",
       "    <tspan class=\"displacy-word\" fill=\"currentColor\" x=\"50\">I</tspan>\n",
       "    <tspan class=\"displacy-tag\" dy=\"2em\" fill=\"currentColor\" x=\"50\">PRON</tspan>\n",
       "</text>\n",
       "\n",
       "<text class=\"displacy-token\" fill=\"currentColor\" text-anchor=\"middle\" y=\"484.5\">\n",
       "    <tspan class=\"displacy-word\" fill=\"currentColor\" x=\"225\">have</tspan>\n",
       "    <tspan class=\"displacy-tag\" dy=\"2em\" fill=\"currentColor\" x=\"225\">VERB</tspan>\n",
       "</text>\n",
       "\n",
       "<text class=\"displacy-token\" fill=\"currentColor\" text-anchor=\"middle\" y=\"484.5\">\n",
       "    <tspan class=\"displacy-word\" fill=\"currentColor\" x=\"400\">three</tspan>\n",
       "    <tspan class=\"displacy-tag\" dy=\"2em\" fill=\"currentColor\" x=\"400\">NUM</tspan>\n",
       "</text>\n",
       "\n",
       "<text class=\"displacy-token\" fill=\"currentColor\" text-anchor=\"middle\" y=\"484.5\">\n",
       "    <tspan class=\"displacy-word\" fill=\"currentColor\" x=\"575\">apples</tspan>\n",
       "    <tspan class=\"displacy-tag\" dy=\"2em\" fill=\"currentColor\" x=\"575\">NOUN</tspan>\n",
       "</text>\n",
       "\n",
       "<text class=\"displacy-token\" fill=\"currentColor\" text-anchor=\"middle\" y=\"484.5\">\n",
       "    <tspan class=\"displacy-word\" fill=\"currentColor\" x=\"750\">and</tspan>\n",
       "    <tspan class=\"displacy-tag\" dy=\"2em\" fill=\"currentColor\" x=\"750\">CCONJ</tspan>\n",
       "</text>\n",
       "\n",
       "<text class=\"displacy-token\" fill=\"currentColor\" text-anchor=\"middle\" y=\"484.5\">\n",
       "    <tspan class=\"displacy-word\" fill=\"currentColor\" x=\"925\">1</tspan>\n",
       "    <tspan class=\"displacy-tag\" dy=\"2em\" fill=\"currentColor\" x=\"925\">NUM</tspan>\n",
       "</text>\n",
       "\n",
       "<text class=\"displacy-token\" fill=\"currentColor\" text-anchor=\"middle\" y=\"484.5\">\n",
       "    <tspan class=\"displacy-word\" fill=\"currentColor\" x=\"1100\">kilogram</tspan>\n",
       "    <tspan class=\"displacy-tag\" dy=\"2em\" fill=\"currentColor\" x=\"1100\">PROPN</tspan>\n",
       "</text>\n",
       "\n",
       "<text class=\"displacy-token\" fill=\"currentColor\" text-anchor=\"middle\" y=\"484.5\">\n",
       "    <tspan class=\"displacy-word\" fill=\"currentColor\" x=\"1275\">strawberries</tspan>\n",
       "    <tspan class=\"displacy-tag\" dy=\"2em\" fill=\"currentColor\" x=\"1275\">NOUN</tspan>\n",
       "</text>\n",
       "\n",
       "<text class=\"displacy-token\" fill=\"currentColor\" text-anchor=\"middle\" y=\"484.5\">\n",
       "    <tspan class=\"displacy-word\" fill=\"currentColor\" x=\"1450\">in</tspan>\n",
       "    <tspan class=\"displacy-tag\" dy=\"2em\" fill=\"currentColor\" x=\"1450\">ADP</tspan>\n",
       "</text>\n",
       "\n",
       "<text class=\"displacy-token\" fill=\"currentColor\" text-anchor=\"middle\" y=\"484.5\">\n",
       "    <tspan class=\"displacy-word\" fill=\"currentColor\" x=\"1625\">my</tspan>\n",
       "    <tspan class=\"displacy-tag\" dy=\"2em\" fill=\"currentColor\" x=\"1625\">PRON</tspan>\n",
       "</text>\n",
       "\n",
       "<text class=\"displacy-token\" fill=\"currentColor\" text-anchor=\"middle\" y=\"484.5\">\n",
       "    <tspan class=\"displacy-word\" fill=\"currentColor\" x=\"1800\">grocery</tspan>\n",
       "    <tspan class=\"displacy-tag\" dy=\"2em\" fill=\"currentColor\" x=\"1800\">NOUN</tspan>\n",
       "</text>\n",
       "\n",
       "<text class=\"displacy-token\" fill=\"currentColor\" text-anchor=\"middle\" y=\"484.5\">\n",
       "    <tspan class=\"displacy-word\" fill=\"currentColor\" x=\"1975\">bag.</tspan>\n",
       "    <tspan class=\"displacy-tag\" dy=\"2em\" fill=\"currentColor\" x=\"1975\">NOUN</tspan>\n",
       "</text>\n",
       "\n",
       "<g class=\"displacy-arrow\">\n",
       "    <path class=\"displacy-arc\" id=\"arrow-4423b78c666043cb920558e5447b00f3-0-0\" stroke-width=\"2px\" d=\"M70,439.5 C70,352.0 205.0,352.0 205.0,439.5\" fill=\"none\" stroke=\"currentColor\"/>\n",
       "    <text dy=\"1.25em\" style=\"font-size: 0.8em; letter-spacing: 1px\">\n",
       "        <textPath xlink:href=\"#arrow-4423b78c666043cb920558e5447b00f3-0-0\" class=\"displacy-label\" startOffset=\"50%\" side=\"left\" fill=\"currentColor\" text-anchor=\"middle\">nsubj</textPath>\n",
       "    </text>\n",
       "    <path class=\"displacy-arrowhead\" d=\"M70,441.5 L62,429.5 78,429.5\" fill=\"currentColor\"/>\n",
       "</g>\n",
       "\n",
       "<g class=\"displacy-arrow\">\n",
       "    <path class=\"displacy-arc\" id=\"arrow-4423b78c666043cb920558e5447b00f3-0-1\" stroke-width=\"2px\" d=\"M420,439.5 C420,352.0 555.0,352.0 555.0,439.5\" fill=\"none\" stroke=\"currentColor\"/>\n",
       "    <text dy=\"1.25em\" style=\"font-size: 0.8em; letter-spacing: 1px\">\n",
       "        <textPath xlink:href=\"#arrow-4423b78c666043cb920558e5447b00f3-0-1\" class=\"displacy-label\" startOffset=\"50%\" side=\"left\" fill=\"currentColor\" text-anchor=\"middle\">nummod</textPath>\n",
       "    </text>\n",
       "    <path class=\"displacy-arrowhead\" d=\"M420,441.5 L412,429.5 428,429.5\" fill=\"currentColor\"/>\n",
       "</g>\n",
       "\n",
       "<g class=\"displacy-arrow\">\n",
       "    <path class=\"displacy-arc\" id=\"arrow-4423b78c666043cb920558e5447b00f3-0-2\" stroke-width=\"2px\" d=\"M245,439.5 C245,264.5 560.0,264.5 560.0,439.5\" fill=\"none\" stroke=\"currentColor\"/>\n",
       "    <text dy=\"1.25em\" style=\"font-size: 0.8em; letter-spacing: 1px\">\n",
       "        <textPath xlink:href=\"#arrow-4423b78c666043cb920558e5447b00f3-0-2\" class=\"displacy-label\" startOffset=\"50%\" side=\"left\" fill=\"currentColor\" text-anchor=\"middle\">dobj</textPath>\n",
       "    </text>\n",
       "    <path class=\"displacy-arrowhead\" d=\"M560.0,441.5 L568.0,429.5 552.0,429.5\" fill=\"currentColor\"/>\n",
       "</g>\n",
       "\n",
       "<g class=\"displacy-arrow\">\n",
       "    <path class=\"displacy-arc\" id=\"arrow-4423b78c666043cb920558e5447b00f3-0-3\" stroke-width=\"2px\" d=\"M595,439.5 C595,352.0 730.0,352.0 730.0,439.5\" fill=\"none\" stroke=\"currentColor\"/>\n",
       "    <text dy=\"1.25em\" style=\"font-size: 0.8em; letter-spacing: 1px\">\n",
       "        <textPath xlink:href=\"#arrow-4423b78c666043cb920558e5447b00f3-0-3\" class=\"displacy-label\" startOffset=\"50%\" side=\"left\" fill=\"currentColor\" text-anchor=\"middle\">cc</textPath>\n",
       "    </text>\n",
       "    <path class=\"displacy-arrowhead\" d=\"M730.0,441.5 L738.0,429.5 722.0,429.5\" fill=\"currentColor\"/>\n",
       "</g>\n",
       "\n",
       "<g class=\"displacy-arrow\">\n",
       "    <path class=\"displacy-arc\" id=\"arrow-4423b78c666043cb920558e5447b00f3-0-4\" stroke-width=\"2px\" d=\"M945,439.5 C945,264.5 1260.0,264.5 1260.0,439.5\" fill=\"none\" stroke=\"currentColor\"/>\n",
       "    <text dy=\"1.25em\" style=\"font-size: 0.8em; letter-spacing: 1px\">\n",
       "        <textPath xlink:href=\"#arrow-4423b78c666043cb920558e5447b00f3-0-4\" class=\"displacy-label\" startOffset=\"50%\" side=\"left\" fill=\"currentColor\" text-anchor=\"middle\">nummod</textPath>\n",
       "    </text>\n",
       "    <path class=\"displacy-arrowhead\" d=\"M945,441.5 L937,429.5 953,429.5\" fill=\"currentColor\"/>\n",
       "</g>\n",
       "\n",
       "<g class=\"displacy-arrow\">\n",
       "    <path class=\"displacy-arc\" id=\"arrow-4423b78c666043cb920558e5447b00f3-0-5\" stroke-width=\"2px\" d=\"M1120,439.5 C1120,352.0 1255.0,352.0 1255.0,439.5\" fill=\"none\" stroke=\"currentColor\"/>\n",
       "    <text dy=\"1.25em\" style=\"font-size: 0.8em; letter-spacing: 1px\">\n",
       "        <textPath xlink:href=\"#arrow-4423b78c666043cb920558e5447b00f3-0-5\" class=\"displacy-label\" startOffset=\"50%\" side=\"left\" fill=\"currentColor\" text-anchor=\"middle\">compound</textPath>\n",
       "    </text>\n",
       "    <path class=\"displacy-arrowhead\" d=\"M1120,441.5 L1112,429.5 1128,429.5\" fill=\"currentColor\"/>\n",
       "</g>\n",
       "\n",
       "<g class=\"displacy-arrow\">\n",
       "    <path class=\"displacy-arc\" id=\"arrow-4423b78c666043cb920558e5447b00f3-0-6\" stroke-width=\"2px\" d=\"M595,439.5 C595,89.5 1270.0,89.5 1270.0,439.5\" fill=\"none\" stroke=\"currentColor\"/>\n",
       "    <text dy=\"1.25em\" style=\"font-size: 0.8em; letter-spacing: 1px\">\n",
       "        <textPath xlink:href=\"#arrow-4423b78c666043cb920558e5447b00f3-0-6\" class=\"displacy-label\" startOffset=\"50%\" side=\"left\" fill=\"currentColor\" text-anchor=\"middle\">conj</textPath>\n",
       "    </text>\n",
       "    <path class=\"displacy-arrowhead\" d=\"M1270.0,441.5 L1278.0,429.5 1262.0,429.5\" fill=\"currentColor\"/>\n",
       "</g>\n",
       "\n",
       "<g class=\"displacy-arrow\">\n",
       "    <path class=\"displacy-arc\" id=\"arrow-4423b78c666043cb920558e5447b00f3-0-7\" stroke-width=\"2px\" d=\"M595,439.5 C595,2.0 1450.0,2.0 1450.0,439.5\" fill=\"none\" stroke=\"currentColor\"/>\n",
       "    <text dy=\"1.25em\" style=\"font-size: 0.8em; letter-spacing: 1px\">\n",
       "        <textPath xlink:href=\"#arrow-4423b78c666043cb920558e5447b00f3-0-7\" class=\"displacy-label\" startOffset=\"50%\" side=\"left\" fill=\"currentColor\" text-anchor=\"middle\">prep</textPath>\n",
       "    </text>\n",
       "    <path class=\"displacy-arrowhead\" d=\"M1450.0,441.5 L1458.0,429.5 1442.0,429.5\" fill=\"currentColor\"/>\n",
       "</g>\n",
       "\n",
       "<g class=\"displacy-arrow\">\n",
       "    <path class=\"displacy-arc\" id=\"arrow-4423b78c666043cb920558e5447b00f3-0-8\" stroke-width=\"2px\" d=\"M1645,439.5 C1645,264.5 1960.0,264.5 1960.0,439.5\" fill=\"none\" stroke=\"currentColor\"/>\n",
       "    <text dy=\"1.25em\" style=\"font-size: 0.8em; letter-spacing: 1px\">\n",
       "        <textPath xlink:href=\"#arrow-4423b78c666043cb920558e5447b00f3-0-8\" class=\"displacy-label\" startOffset=\"50%\" side=\"left\" fill=\"currentColor\" text-anchor=\"middle\">poss</textPath>\n",
       "    </text>\n",
       "    <path class=\"displacy-arrowhead\" d=\"M1645,441.5 L1637,429.5 1653,429.5\" fill=\"currentColor\"/>\n",
       "</g>\n",
       "\n",
       "<g class=\"displacy-arrow\">\n",
       "    <path class=\"displacy-arc\" id=\"arrow-4423b78c666043cb920558e5447b00f3-0-9\" stroke-width=\"2px\" d=\"M1820,439.5 C1820,352.0 1955.0,352.0 1955.0,439.5\" fill=\"none\" stroke=\"currentColor\"/>\n",
       "    <text dy=\"1.25em\" style=\"font-size: 0.8em; letter-spacing: 1px\">\n",
       "        <textPath xlink:href=\"#arrow-4423b78c666043cb920558e5447b00f3-0-9\" class=\"displacy-label\" startOffset=\"50%\" side=\"left\" fill=\"currentColor\" text-anchor=\"middle\">compound</textPath>\n",
       "    </text>\n",
       "    <path class=\"displacy-arrowhead\" d=\"M1820,441.5 L1812,429.5 1828,429.5\" fill=\"currentColor\"/>\n",
       "</g>\n",
       "\n",
       "<g class=\"displacy-arrow\">\n",
       "    <path class=\"displacy-arc\" id=\"arrow-4423b78c666043cb920558e5447b00f3-0-10\" stroke-width=\"2px\" d=\"M1470,439.5 C1470,177.0 1965.0,177.0 1965.0,439.5\" fill=\"none\" stroke=\"currentColor\"/>\n",
       "    <text dy=\"1.25em\" style=\"font-size: 0.8em; letter-spacing: 1px\">\n",
       "        <textPath xlink:href=\"#arrow-4423b78c666043cb920558e5447b00f3-0-10\" class=\"displacy-label\" startOffset=\"50%\" side=\"left\" fill=\"currentColor\" text-anchor=\"middle\">pobj</textPath>\n",
       "    </text>\n",
       "    <path class=\"displacy-arrowhead\" d=\"M1965.0,441.5 L1973.0,429.5 1957.0,429.5\" fill=\"currentColor\"/>\n",
       "</g>\n",
       "</svg>\n",
       "</figure>\n",
       "</body>\n",
       "</html></span>"
      ],
      "text/plain": [
       "<IPython.core.display.HTML object>"
      ]
     },
     "metadata": {},
     "output_type": "display_data"
    },
    {
     "name": "stdout",
     "output_type": "stream",
     "text": [
      "\n",
      "Using the 'dep' visualizer\n",
      "Serving on http://0.0.0.0:8888 ...\n",
      "\n"
     ]
    }
   ],
   "source": [
    "displacy.serve(document, style='dep', port=8888)"
   ]
  },
  {
   "cell_type": "code",
   "execution_count": null,
   "id": "eebd9db9",
   "metadata": {},
   "outputs": [],
   "source": [
    "# Named entity recognition\n",
    "# Named entity recognition (NER) seeks to locate and classify named entity mentions in \n",
    "# the unstructured text into pre-defined categories such as the locations, organizations,\n",
    "# person names, time expressions, medical codes, quantities, and percentages.\n",
    "\n",
    "import spacy\n",
    "nlp = spacy.load('en_core_web_sm')"
   ]
  },
  {
   "cell_type": "code",
   "execution_count": null,
   "id": "3695012f",
   "metadata": {},
   "outputs": [],
   "source": [
    "print(nlp)\n",
    "print(type(nlp))"
   ]
  },
  {
   "cell_type": "code",
   "execution_count": null,
   "id": "3f5929d8",
   "metadata": {},
   "outputs": [],
   "source": [
    "def display_entities(document):\n",
    "    if len(document.ents) == 0:\n",
    "        raise Exception(\"No entities are found!\")\n",
    "    else:\n",
    "        for entity in document.ents:\n",
    "            print(str(entity) + \" ==> \" + entity.text + \" ==> \" + str(entity.label_) + \" ==> \" + str(spacy.explain(entity.label_)))"
   ]
  },
  {
   "cell_type": "code",
   "execution_count": null,
   "id": "82b04873",
   "metadata": {},
   "outputs": [],
   "source": [
    "document = nlp(u\"Hello, how are you ?\")\n",
    "print(type(document.ents))\n",
    "display_entities(document)"
   ]
  },
  {
   "cell_type": "code",
   "execution_count": null,
   "id": "5e89a3e1",
   "metadata": {},
   "outputs": [],
   "source": [
    "second_document = nlp(u\"May I go to New York City next July to see the Empire States Building ?\")\n",
    "display_entities(second_document)"
   ]
  },
  {
   "cell_type": "code",
   "execution_count": null,
   "id": "bc08f495",
   "metadata": {},
   "outputs": [],
   "source": [
    "my_doc = nlp(u\"Can I please have 700 dollars of Apple Inc. stock ?\")\n",
    "display_entities(my_doc)"
   ]
  },
  {
   "cell_type": "code",
   "execution_count": null,
   "id": "a09c65af",
   "metadata": {},
   "outputs": [],
   "source": [
    "# ent.start and ent.end looks at the index positions word by word, while ent.start_char and ent.end_char looks at \n",
    "# the index positions character by character.\n",
    "for ent in my_doc.ents:\n",
    "    print(ent, ent.text, ent.start, ent.end, ent.start_char, ent.end_char, ent.label_, spacy.explain(ent.label_))"
   ]
  },
  {
   "cell_type": "code",
   "execution_count": null,
   "id": "8806c479",
   "metadata": {},
   "outputs": [],
   "source": [
    "my_document = nlp(u\"Tesla has produced over 200 million Tesla cars in 2023 and has an expense of 300 million dollars in this production process.\")"
   ]
  },
  {
   "cell_type": "code",
   "execution_count": null,
   "id": "1aaaf8be",
   "metadata": {},
   "outputs": [],
   "source": [
    "display_entities(my_document)"
   ]
  },
  {
   "cell_type": "code",
   "execution_count": null,
   "id": "6bb1a98e",
   "metadata": {},
   "outputs": [],
   "source": [
    "from spacy.tokens import Span\n",
    "\n",
    "org = my_document.vocab.strings[u\"ORG\"]\n",
    "print(\"Hash value of organization's NER abbreviation: \"+str(org)+\"\")"
   ]
  },
  {
   "cell_type": "code",
   "execution_count": null,
   "id": "d160627e",
   "metadata": {},
   "outputs": [],
   "source": [
    "new_entity = Span(my_document, 0, 1, label=org)\n",
    "print(new_entity)\n",
    "print(type(new_entity)) # a span object\n",
    "print()"
   ]
  },
  {
   "cell_type": "code",
   "execution_count": null,
   "id": "b6355cf9",
   "metadata": {},
   "outputs": [],
   "source": [
    "my_document_ents_list = list(my_document.ents)\n",
    "my_document_ents_list.append(new_entity) # adding new entity to the existing list of named entities of the document called my_document\n",
    "\n",
    "display_entities(my_document)"
   ]
  },
  {
   "cell_type": "code",
   "execution_count": null,
   "id": "4dbaf076",
   "metadata": {},
   "outputs": [],
   "source": [
    "# Adding multiple phrases as NER parts\n",
    "new_doc = nlp(u\"Our company created a brand new washing machine.\"\n",
    "              u\" This new washing-machine is the best in show.\")\n",
    "print(new_doc)\n",
    "print(type(new_doc))"
   ]
  },
  {
   "cell_type": "code",
   "execution_count": null,
   "id": "6a4323ed",
   "metadata": {},
   "outputs": [],
   "source": [
    "display_entities(new_doc)"
   ]
  },
  {
   "cell_type": "code",
   "execution_count": null,
   "id": "8b2e4cc2",
   "metadata": {},
   "outputs": [],
   "source": [
    "from spacy.matcher import PhraseMatcher\n",
    "phraseMatcher = PhraseMatcher(nlp.vocab)\n",
    "print(phraseMatcher)\n",
    "print(type(phraseMatcher))"
   ]
  },
  {
   "cell_type": "code",
   "execution_count": null,
   "id": "6a825956",
   "metadata": {},
   "outputs": [],
   "source": [
    "list_of_phrases = [\"washing-machine\", \"washing machine\"]\n",
    "phrase_patterns = []\n",
    "for phrase in list_of_phrases:\n",
    "    doc = nlp(phrase)\n",
    "    phrase_patterns.append(doc)\n",
    "    \n",
    "print(str(phrase_patterns) + \" ===> \" + str(type(phrase_patterns)))\n",
    "phraseMatcher.add('WashingMachine', phrase_patterns)\n",
    "found_matches = phraseMatcher(new_doc) # passing the new_doc document to the phrase matcher to find a sequence of matches with the document\n",
    "print(found_matches)\n",
    "print(new_doc[8], new_doc[9], new_doc[10], new_doc[11])"
   ]
  },
  {
   "cell_type": "code",
   "execution_count": null,
   "id": "347c43b9",
   "metadata": {},
   "outputs": [],
   "source": [
    "from spacy.tokens import Span\n",
    "prod = doc.vocab.strings[u\"PRODUCT\"]\n",
    "print(prod) # hashcode of PRODUCT named entity"
   ]
  },
  {
   "cell_type": "code",
   "execution_count": null,
   "id": "9032f17d",
   "metadata": {},
   "outputs": [],
   "source": [
    "new_entities = []\n",
    "for match in found_matches:\n",
    "    span = Span(new_doc, match[1], match[2], label=prod) # gets the span of the match\n",
    "    new_entities.append(span)\n",
    "    \n",
    "print(new_entities)\n",
    "print(type(new_entities))\n",
    "\n",
    "print()\n",
    "print()\n",
    "\n",
    "new_doc_ents_lst = list(new_doc.ents)\n",
    "print(\"Before appending the new entities: \"+str(new_doc_ents_lst)+\"\")\n",
    "new_doc_ents_lst.append(new_entities)\n",
    "print(\"After appending the new entities: \"+str(new_doc_ents_lst)+\"\")"
   ]
  },
  {
   "cell_type": "code",
   "execution_count": null,
   "id": "2a31dcd9",
   "metadata": {},
   "outputs": [],
   "source": [
    "display_entities(new_doc)"
   ]
  },
  {
   "cell_type": "code",
   "execution_count": null,
   "id": "77eced27",
   "metadata": {},
   "outputs": [],
   "source": [
    "sneaker_document = nlp(u\"I have bought this sneaker for 120 dollars, however it is now discounted by 15 dollars.\")\n",
    "print(sneaker_document)\n",
    "print(type(sneaker_document))"
   ]
  },
  {
   "cell_type": "code",
   "execution_count": null,
   "id": "525a0df5",
   "metadata": {},
   "outputs": [],
   "source": [
    "number_of_money_entities = len([entity for entity in sneaker_document.ents if entity.label_ == \"MONEY\"])\n",
    "\n",
    "print([entity.label_ for entity in sneaker_document.ents]) # gets the string representations of the entity labels in the sneaker_document\n",
    "print([entity.label for entity in sneaker_document.ents]) # gets the numeric ids of the entity labels in the sneaker_document\n",
    "print([entity for entity in sneaker_document.ents])\n",
    "print([entity for entity in sneaker_document.ents if entity.label_ == \"MONEY\"])\n",
    "print(number_of_money_entities)"
   ]
  },
  {
   "cell_type": "code",
   "execution_count": null,
   "id": "92593ac4",
   "metadata": {},
   "outputs": [],
   "source": []
  },
  {
   "cell_type": "code",
   "execution_count": null,
   "id": "216bc930",
   "metadata": {},
   "outputs": [],
   "source": []
  },
  {
   "cell_type": "code",
   "execution_count": null,
   "id": "99656f79",
   "metadata": {},
   "outputs": [],
   "source": []
  }
 ],
 "metadata": {
  "kernelspec": {
   "display_name": "Python 3 (ipykernel)",
   "language": "python",
   "name": "python3"
  },
  "language_info": {
   "codemirror_mode": {
    "name": "ipython",
    "version": 3
   },
   "file_extension": ".py",
   "mimetype": "text/x-python",
   "name": "python",
   "nbconvert_exporter": "python",
   "pygments_lexer": "ipython3",
   "version": "3.9.12"
  }
 },
 "nbformat": 4,
 "nbformat_minor": 5
}
