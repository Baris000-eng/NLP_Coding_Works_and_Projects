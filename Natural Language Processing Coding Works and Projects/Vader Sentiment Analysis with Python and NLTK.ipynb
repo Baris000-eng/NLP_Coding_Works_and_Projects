{
 "cells": [
  {
   "cell_type": "code",
   "execution_count": 1,
   "id": "62f3ffa8",
   "metadata": {},
   "outputs": [],
   "source": [
    "# VADER (Valence Aware Dictionary for Sentiment Reasoning) is a model used for text sentiment analysis that is \n",
    "# sensitive to both polarities (positive/negative), the neutral texts and intensity (strength) of the emotion.\n",
    "\n",
    "# - Vader Model is available in the NLTK package and it can be applied to unlabeled text data. \n",
    "\n",
    "\n",
    "# Vader Sentiment Analysis primarily relies on a dictionary which maps lexical features to emotion intensities\n",
    "# called sentiment scores.\n",
    "\n",
    "# The sentiment score of a text can be obtained by summing up the intensity of each word in the text.\n",
    "\n",
    "\n",
    "# Document Sentiment Score: We grab all words in a document. Then, we convert each word to a positive or \n",
    "# negative value. Finally, we sum up all values we find. At the end, we will find the document sentiment \n",
    "# score.\n",
    "\n",
    "# For instance, the words such as 'love', 'like', 'enjoy', and 'happy' all convey a positive sentiment.\n",
    "\n",
    "# VADER is intelligent enough to understand basic contexts of these words, such as 'did not love' as a \n",
    "# negative sentiment. It also understands punctuation and capitalization, like \"LOVE!!!\"\n",
    "\n",
    "# VADER is also smart enough to understand that the word 'LOVE!!!!!' conveys more positive information than \n",
    "# the word 'love'.\n",
    "\n",
    "# Sentiment Analysis on raw text is always challenging due to a variety of possible factors: \n",
    "\n",
    "# 1-) Positive and Negative Sentiment in the same text data\n",
    "# 2-) Using positive words in a negative way (iğnelemek)"
   ]
  },
  {
   "cell_type": "code",
   "execution_count": 2,
   "id": "38dc2db8",
   "metadata": {},
   "outputs": [],
   "source": [
    "# necessary imports \n",
    "import nltk"
   ]
  },
  {
   "cell_type": "code",
   "execution_count": 3,
   "id": "dd3fd21f",
   "metadata": {},
   "outputs": [
    {
     "name": "stderr",
     "output_type": "stream",
     "text": [
      "[nltk_data] Downloading package vader_lexicon to\n",
      "[nltk_data]     /Users/barissss/nltk_data...\n",
      "[nltk_data]   Package vader_lexicon is already up-to-date!\n"
     ]
    },
    {
     "data": {
      "text/plain": [
       "True"
      ]
     },
     "execution_count": 3,
     "metadata": {},
     "output_type": "execute_result"
    }
   ],
   "source": [
    "nltk.download('vader_lexicon')"
   ]
  },
  {
   "cell_type": "code",
   "execution_count": 4,
   "id": "ffcb32b1",
   "metadata": {},
   "outputs": [
    {
     "name": "stdout",
     "output_type": "stream",
     "text": [
      "<nltk.sentiment.vader.SentimentIntensityAnalyzer object at 0x7ff1f99cff70>\n",
      "<class 'nltk.sentiment.vader.SentimentIntensityAnalyzer'>\n"
     ]
    }
   ],
   "source": [
    "from nltk.sentiment.vader import SentimentIntensityAnalyzer\n",
    "\n",
    "\n",
    "# 'Vader Sentiment Intensity Analyzer' takes a string and returns a dictionary of scores in four categories:\n",
    "# 1-) Negative score\n",
    "# 2-) Neutral score \n",
    "# 3-) Positive score \n",
    "# 4-) Compound score \n",
    "\n",
    "# Compound score is computed by normalizing the negative, neutral, and positive scores.\n",
    "\n",
    "sentiment_intensity_analyzer = SentimentIntensityAnalyzer()\n",
    "print(sentiment_intensity_analyzer)\n",
    "print(type(sentiment_intensity_analyzer))"
   ]
  },
  {
   "cell_type": "code",
   "execution_count": 5,
   "id": "cd730806",
   "metadata": {},
   "outputs": [
    {
     "name": "stdout",
     "output_type": "stream",
     "text": [
      "{'neg': 0.0, 'neu': 0.508, 'pos': 0.492, 'compound': 0.4404}\n"
     ]
    }
   ],
   "source": [
    "string = \"This is a good movie.\"\n",
    "polarity_scores = sentiment_intensity_analyzer.polarity_scores(string)\n",
    "print(polarity_scores)"
   ]
  },
  {
   "cell_type": "code",
   "execution_count": 6,
   "id": "a1502a29",
   "metadata": {},
   "outputs": [
    {
     "name": "stdout",
     "output_type": "stream",
     "text": [
      "The sentiment scores for the text named 'string' is as below: \n",
      "\n",
      "The negative score: 0.0\n",
      "The positive score: 0.492\n",
      "The neutral score:  0.508\n",
      "The compound score: 0.4404\n"
     ]
    }
   ],
   "source": [
    "neg_score = polarity_scores['neg']\n",
    "pos_score = polarity_scores['pos']\n",
    "neu_score = polarity_scores['neu']\n",
    "comp_score = polarity_scores['compound']\n",
    "\n",
    "print(\"The sentiment scores for the text named 'string' is as below: \")\n",
    "print()\n",
    "print(\"The negative score: \"+str(neg_score)+\"\")\n",
    "print(\"The positive score: \"+str(pos_score)+\"\")\n",
    "print(\"The neutral score:  \"+str(neu_score)+\"\")\n",
    "print(\"The compound score: \"+str(comp_score)+\"\")"
   ]
  },
  {
   "cell_type": "code",
   "execution_count": 7,
   "id": "e8051d24",
   "metadata": {},
   "outputs": [
    {
     "name": "stdout",
     "output_type": "stream",
     "text": [
      "{'neg': 0.465, 'neu': 0.535, 'pos': 0.0, 'compound': -0.8331}\n"
     ]
    }
   ],
   "source": [
    "my_string = \"This is the WORST movie that has ever disgraced the screen.\"\n",
    "polarity_scores2 = sentiment_intensity_analyzer.polarity_scores(my_string)\n",
    "print(polarity_scores2)"
   ]
  },
  {
   "cell_type": "code",
   "execution_count": 8,
   "id": "f7b491b2",
   "metadata": {},
   "outputs": [
    {
     "name": "stdout",
     "output_type": "stream",
     "text": [
      "The sentiment scores for the text named 'my_string' is as below: \n",
      "\n",
      "The negative score: 0.0\n",
      "The positive score: 0.492\n",
      "The neutral score: 0.508\n",
      "The compound score: 0.4404\n"
     ]
    }
   ],
   "source": [
    "negative_score = polarity_scores['neg']\n",
    "positive_score = polarity_scores['pos']\n",
    "neutral_score = polarity_scores['neu']\n",
    "compound_score = polarity_scores['compound']\n",
    "\n",
    "print(\"The sentiment scores for the text named 'my_string' is as below: \")\n",
    "print()\n",
    "print(\"The negative score: \"+str(neg_score)+\"\")\n",
    "print(\"The positive score: \"+str(pos_score)+\"\")\n",
    "print(\"The neutral score: \"+str(neu_score)+\"\")\n",
    "print(\"The compound score: \"+str(comp_score)+\"\")\n",
    "\n",
    "# When the compound score is 0, then it means that the text is neutral. When the compound score is smaller than \n",
    "# zero, then it means that the text is negative. When the compound score is greater than zero, then it means that \n",
    "# the text is positive. "
   ]
  },
  {
   "cell_type": "code",
   "execution_count": 9,
   "id": "24ca3951",
   "metadata": {},
   "outputs": [
    {
     "name": "stdout",
     "output_type": "stream",
     "text": [
      "The Amazon reviews data frame is as below:\n",
      "\n",
      "     label                                             review\n",
      "0      pos  Stuning even for the non-gamer: This sound tra...\n",
      "1      pos  The best soundtrack ever to anything.: I'm rea...\n",
      "2      pos  Amazing!: This soundtrack is my favorite music...\n",
      "3      pos  Excellent Soundtrack: I truly like this soundt...\n",
      "4      pos  Remember, Pull Your Jaw Off The Floor After He...\n",
      "...    ...                                                ...\n",
      "9995   pos  A revelation of life in small town America in ...\n",
      "9996   pos  Great biography of a very interesting journali...\n",
      "9997   neg  Interesting Subject; Poor Presentation: You'd ...\n",
      "9998   neg  Don't buy: The box looked used and it is obvio...\n",
      "9999   pos  Beautiful Pen and Fast Delivery.: The pen was ...\n",
      "\n",
      "[10000 rows x 2 columns]\n"
     ]
    }
   ],
   "source": [
    "import pandas as pd\n",
    "\n",
    "# reading the tsv file called 'amazonreviews.tsv'\n",
    "amazon_reviews_df = pd.read_csv('amazonreviews.tsv', sep='\\t')\n",
    "\n",
    "print(\"The Amazon reviews data frame is as below:\")\n",
    "print()\n",
    "print(amazon_reviews_df)"
   ]
  },
  {
   "cell_type": "code",
   "execution_count": 10,
   "id": "d2923b93",
   "metadata": {},
   "outputs": [
    {
     "data": {
      "text/html": [
       "<div>\n",
       "<style scoped>\n",
       "    .dataframe tbody tr th:only-of-type {\n",
       "        vertical-align: middle;\n",
       "    }\n",
       "\n",
       "    .dataframe tbody tr th {\n",
       "        vertical-align: top;\n",
       "    }\n",
       "\n",
       "    .dataframe thead th {\n",
       "        text-align: right;\n",
       "    }\n",
       "</style>\n",
       "<table border=\"1\" class=\"dataframe\">\n",
       "  <thead>\n",
       "    <tr style=\"text-align: right;\">\n",
       "      <th></th>\n",
       "      <th>label</th>\n",
       "      <th>review</th>\n",
       "    </tr>\n",
       "  </thead>\n",
       "  <tbody>\n",
       "    <tr>\n",
       "      <th>0</th>\n",
       "      <td>pos</td>\n",
       "      <td>Stuning even for the non-gamer: This sound tra...</td>\n",
       "    </tr>\n",
       "    <tr>\n",
       "      <th>1</th>\n",
       "      <td>pos</td>\n",
       "      <td>The best soundtrack ever to anything.: I'm rea...</td>\n",
       "    </tr>\n",
       "    <tr>\n",
       "      <th>2</th>\n",
       "      <td>pos</td>\n",
       "      <td>Amazing!: This soundtrack is my favorite music...</td>\n",
       "    </tr>\n",
       "    <tr>\n",
       "      <th>3</th>\n",
       "      <td>pos</td>\n",
       "      <td>Excellent Soundtrack: I truly like this soundt...</td>\n",
       "    </tr>\n",
       "    <tr>\n",
       "      <th>4</th>\n",
       "      <td>pos</td>\n",
       "      <td>Remember, Pull Your Jaw Off The Floor After He...</td>\n",
       "    </tr>\n",
       "  </tbody>\n",
       "</table>\n",
       "</div>"
      ],
      "text/plain": [
       "  label                                             review\n",
       "0   pos  Stuning even for the non-gamer: This sound tra...\n",
       "1   pos  The best soundtrack ever to anything.: I'm rea...\n",
       "2   pos  Amazing!: This soundtrack is my favorite music...\n",
       "3   pos  Excellent Soundtrack: I truly like this soundt...\n",
       "4   pos  Remember, Pull Your Jaw Off The Floor After He..."
      ]
     },
     "execution_count": 10,
     "metadata": {},
     "output_type": "execute_result"
    }
   ],
   "source": [
    "# Displaying the head, in other words the first 5 records, of the Amazon reviews data frame\n",
    "amazon_reviews_df.head()"
   ]
  },
  {
   "cell_type": "code",
   "execution_count": 11,
   "id": "3ecb7ea8",
   "metadata": {},
   "outputs": [
    {
     "name": "stdout",
     "output_type": "stream",
     "text": [
      "The first 5 records (head) of the Amazon reviews data frame: \n",
      "\n",
      "  label                                             review\n",
      "0   pos  Stuning even for the non-gamer: This sound tra...\n",
      "1   pos  The best soundtrack ever to anything.: I'm rea...\n",
      "2   pos  Amazing!: This soundtrack is my favorite music...\n",
      "3   pos  Excellent Soundtrack: I truly like this soundt...\n",
      "4   pos  Remember, Pull Your Jaw Off The Floor After He...\n"
     ]
    }
   ],
   "source": [
    "print(\"The first 5 records (head) of the Amazon reviews data frame: \")\n",
    "print()\n",
    "print(amazon_reviews_df.head())"
   ]
  },
  {
   "cell_type": "code",
   "execution_count": 12,
   "id": "b32c44ef",
   "metadata": {},
   "outputs": [
    {
     "data": {
      "text/html": [
       "<div>\n",
       "<style scoped>\n",
       "    .dataframe tbody tr th:only-of-type {\n",
       "        vertical-align: middle;\n",
       "    }\n",
       "\n",
       "    .dataframe tbody tr th {\n",
       "        vertical-align: top;\n",
       "    }\n",
       "\n",
       "    .dataframe thead th {\n",
       "        text-align: right;\n",
       "    }\n",
       "</style>\n",
       "<table border=\"1\" class=\"dataframe\">\n",
       "  <thead>\n",
       "    <tr style=\"text-align: right;\">\n",
       "      <th></th>\n",
       "      <th>label</th>\n",
       "      <th>review</th>\n",
       "    </tr>\n",
       "  </thead>\n",
       "  <tbody>\n",
       "    <tr>\n",
       "      <th>9995</th>\n",
       "      <td>pos</td>\n",
       "      <td>A revelation of life in small town America in ...</td>\n",
       "    </tr>\n",
       "    <tr>\n",
       "      <th>9996</th>\n",
       "      <td>pos</td>\n",
       "      <td>Great biography of a very interesting journali...</td>\n",
       "    </tr>\n",
       "    <tr>\n",
       "      <th>9997</th>\n",
       "      <td>neg</td>\n",
       "      <td>Interesting Subject; Poor Presentation: You'd ...</td>\n",
       "    </tr>\n",
       "    <tr>\n",
       "      <th>9998</th>\n",
       "      <td>neg</td>\n",
       "      <td>Don't buy: The box looked used and it is obvio...</td>\n",
       "    </tr>\n",
       "    <tr>\n",
       "      <th>9999</th>\n",
       "      <td>pos</td>\n",
       "      <td>Beautiful Pen and Fast Delivery.: The pen was ...</td>\n",
       "    </tr>\n",
       "  </tbody>\n",
       "</table>\n",
       "</div>"
      ],
      "text/plain": [
       "     label                                             review\n",
       "9995   pos  A revelation of life in small town America in ...\n",
       "9996   pos  Great biography of a very interesting journali...\n",
       "9997   neg  Interesting Subject; Poor Presentation: You'd ...\n",
       "9998   neg  Don't buy: The box looked used and it is obvio...\n",
       "9999   pos  Beautiful Pen and Fast Delivery.: The pen was ..."
      ]
     },
     "execution_count": 12,
     "metadata": {},
     "output_type": "execute_result"
    }
   ],
   "source": [
    "# Displaying the tail, in other words the last 5 records, of the Amazon reviews data frame\n",
    "amazon_reviews_df.tail()"
   ]
  },
  {
   "cell_type": "code",
   "execution_count": 13,
   "id": "75dedb24",
   "metadata": {},
   "outputs": [
    {
     "name": "stdout",
     "output_type": "stream",
     "text": [
      "The last 5 records (tail) of the Amazon reviews data frame: \n",
      "\n",
      "     label                                             review\n",
      "9995   pos  A revelation of life in small town America in ...\n",
      "9996   pos  Great biography of a very interesting journali...\n",
      "9997   neg  Interesting Subject; Poor Presentation: You'd ...\n",
      "9998   neg  Don't buy: The box looked used and it is obvio...\n",
      "9999   pos  Beautiful Pen and Fast Delivery.: The pen was ...\n"
     ]
    }
   ],
   "source": [
    "print(\"The last 5 records (tail) of the Amazon reviews data frame: \")\n",
    "print()\n",
    "print(amazon_reviews_df.tail())"
   ]
  },
  {
   "cell_type": "code",
   "execution_count": 14,
   "id": "d4256537",
   "metadata": {},
   "outputs": [
    {
     "name": "stdout",
     "output_type": "stream",
     "text": [
      "There are 10000 rows and 2 columns in the Amazon reviews data frame.\n",
      "\n",
      "The total number of rows: 10000\n",
      "The total number of columns: 2\n"
     ]
    }
   ],
   "source": [
    "row_num, col_num = amazon_reviews_df.shape\n",
    "print(\"There are \"+str(row_num)+\" rows and \"+str(col_num)+\" columns in the Amazon reviews data frame.\")\n",
    "print()\n",
    "print(\"The total number of rows: \"+str(row_num)+\"\")\n",
    "print(\"The total number of columns: \"+str(col_num)+\"\")"
   ]
  },
  {
   "cell_type": "code",
   "execution_count": 15,
   "id": "c6b75b1b",
   "metadata": {},
   "outputs": [
    {
     "name": "stdout",
     "output_type": "stream",
     "text": [
      "The labels in the Amazon reviews data frame: \n",
      "\n",
      "0       pos\n",
      "1       pos\n",
      "2       pos\n",
      "3       pos\n",
      "4       pos\n",
      "       ... \n",
      "9995    pos\n",
      "9996    pos\n",
      "9997    neg\n",
      "9998    neg\n",
      "9999    pos\n",
      "Name: label, Length: 10000, dtype: object\n",
      "\n",
      "\n",
      "neg    5097\n",
      "pos    4903\n",
      "Name: label, dtype: int64\n"
     ]
    }
   ],
   "source": [
    "print(\"The labels in the Amazon reviews data frame: \")\n",
    "print()\n",
    "print(amazon_reviews_df['label'])\n",
    "print()\n",
    "print()\n",
    "print(amazon_reviews_df['label'].value_counts()) # this gets the number of 'neg' and 'pos' labels, meaning the \n",
    "# number of negative movies and the number of positive movies."
   ]
  },
  {
   "cell_type": "code",
   "execution_count": 16,
   "id": "1d98c071",
   "metadata": {},
   "outputs": [
    {
     "name": "stdout",
     "output_type": "stream",
     "text": [
      "The negative review rate in Amazon's review data frame: 0.5097\n",
      "The positive review rate in Amazon's review data frame: 0.4903\n"
     ]
    }
   ],
   "source": [
    "label_count = amazon_reviews_df['label'].value_counts()\n",
    "negative_count = label_count['neg']\n",
    "positive_count = label_count['pos']\n",
    "\n",
    "negative_review_rate = negative_count / (negative_count + positive_count)\n",
    "positive_review_rate = positive_count / (negative_count + positive_count)\n",
    "\n",
    "print(\"The negative review rate in Amazon's review data frame: \"+str(negative_review_rate)+\"\")\n",
    "print(\"The positive review rate in Amazon's review data frame: \"+str(positive_review_rate)+\"\")"
   ]
  },
  {
   "cell_type": "code",
   "execution_count": 17,
   "id": "6fb7fc0d",
   "metadata": {},
   "outputs": [
    {
     "name": "stdout",
     "output_type": "stream",
     "text": [
      "The reviews in the Amazon reviews data frame: \n",
      "\n",
      "0       Stuning even for the non-gamer: This sound tra...\n",
      "1       The best soundtrack ever to anything.: I'm rea...\n",
      "2       Amazing!: This soundtrack is my favorite music...\n",
      "3       Excellent Soundtrack: I truly like this soundt...\n",
      "4       Remember, Pull Your Jaw Off The Floor After He...\n",
      "                              ...                        \n",
      "9995    A revelation of life in small town America in ...\n",
      "9996    Great biography of a very interesting journali...\n",
      "9997    Interesting Subject; Poor Presentation: You'd ...\n",
      "9998    Don't buy: The box looked used and it is obvio...\n",
      "9999    Beautiful Pen and Fast Delivery.: The pen was ...\n",
      "Name: review, Length: 10000, dtype: object\n"
     ]
    }
   ],
   "source": [
    "print(\"The reviews in the Amazon reviews data frame: \")\n",
    "print()\n",
    "print(amazon_reviews_df['review'])"
   ]
  },
  {
   "cell_type": "code",
   "execution_count": 23,
   "id": "57c3fbfb",
   "metadata": {},
   "outputs": [
    {
     "data": {
      "text/plain": [
       "label     0\n",
       "review    0\n",
       "dtype: int64"
      ]
     },
     "execution_count": 23,
     "metadata": {},
     "output_type": "execute_result"
    }
   ],
   "source": [
    "# checks the null values\n",
    "amazon_reviews_df.isnull().sum() # to check whether a specific column of the data frame contains missing values."
   ]
  },
  {
   "cell_type": "code",
   "execution_count": 26,
   "id": "262d05c6",
   "metadata": {},
   "outputs": [],
   "source": [
    "# If there were any nan values, this will be used to drop them from the \n",
    "# amazon reviews data frame.\n",
    "amazon_reviews_df.dropna(inplace=True) "
   ]
  },
  {
   "cell_type": "code",
   "execution_count": 27,
   "id": "0ccceccc",
   "metadata": {},
   "outputs": [
    {
     "name": "stdout",
     "output_type": "stream",
     "text": [
      "[]\n"
     ]
    }
   ],
   "source": [
    "blanks = list()\n",
    "for index, label, review in amazon_reviews_df.itertuples():\n",
    "    if type(review) == str:\n",
    "        if review.isspace():\n",
    "            blanks.append(index)\n",
    "\n",
    "print(blanks)"
   ]
  },
  {
   "cell_type": "code",
   "execution_count": 34,
   "id": "ed0a271a",
   "metadata": {},
   "outputs": [
    {
     "data": {
      "text/plain": [
       "'Stuning even for the non-gamer: This sound track was beautiful! It paints the senery in your mind so well I would recomend it even to people who hate vid. game music! I have played the game Chrono Cross but out of all of the games I have ever played it has the best music! It backs away from crude keyboarding and takes a fresher step with grate guitars and soulful orchestras. It would impress anyone who cares to listen! ^_^'"
      ]
     },
     "execution_count": 34,
     "metadata": {},
     "output_type": "execute_result"
    }
   ],
   "source": [
    "amazon_reviews_df.iloc[0]['review'] # this grabs the text of the first review"
   ]
  },
  {
   "cell_type": "code",
   "execution_count": 35,
   "id": "177f25f8",
   "metadata": {},
   "outputs": [
    {
     "name": "stdout",
     "output_type": "stream",
     "text": [
      "Stuning even for the non-gamer: This sound track was beautiful! It paints the senery in your mind so well I would recomend it even to people who hate vid. game music! I have played the game Chrono Cross but out of all of the games I have ever played it has the best music! It backs away from crude keyboarding and takes a fresher step with grate guitars and soulful orchestras. It would impress anyone who cares to listen! ^_^\n"
     ]
    }
   ],
   "source": [
    "print(amazon_reviews_df.iloc[0]['review'])"
   ]
  },
  {
   "cell_type": "code",
   "execution_count": 33,
   "id": "981140eb",
   "metadata": {},
   "outputs": [
    {
     "name": "stdout",
     "output_type": "stream",
     "text": [
      "label                                                   pos\n",
      "review    Stuning even for the non-gamer: This sound tra...\n",
      "Name: 0, dtype: object\n",
      "\n",
      "\n",
      "Stuning even for the non-gamer: This sound track was beautiful! It paints the senery in your mind so well I would recomend it even to people who hate vid. game music! I have played the game Chrono Cross but out of all of the games I have ever played it has the best music! It backs away from crude keyboarding and takes a fresher step with grate guitars and soulful orchestras. It would impress anyone who cares to listen! ^_^\n",
      "\n",
      "\n",
      "{'neg': 0.088, 'neu': 0.669, 'pos': 0.243, 'compound': 0.9454}\n"
     ]
    }
   ],
   "source": [
    "print(amazon_reviews_df.iloc[0])\n",
    "print()\n",
    "print()\n",
    "print(amazon_reviews_df.iloc[0]['review'])\n",
    "print()\n",
    "print()\n",
    "print(sentiment_intensity_analyzer.polarity_scores(amazon_reviews_df.iloc[0]['review']))"
   ]
  },
  {
   "cell_type": "code",
   "execution_count": 36,
   "id": "6f64e8a0",
   "metadata": {},
   "outputs": [],
   "source": [
    "# This adds a 'scores' column, containing the sentiment scores of each review, to the amazon reviews data frame.\n",
    "amazon_reviews_df['scores'] = amazon_reviews_df['review'].apply(lambda review: sentiment_intensity_analyzer.polarity_scores(review))"
   ]
  },
  {
   "cell_type": "code",
   "execution_count": 37,
   "id": "ab6cb337",
   "metadata": {},
   "outputs": [
    {
     "name": "stdout",
     "output_type": "stream",
     "text": [
      "  label                                             review  \\\n",
      "0   pos  Stuning even for the non-gamer: This sound tra...   \n",
      "1   pos  The best soundtrack ever to anything.: I'm rea...   \n",
      "2   pos  Amazing!: This soundtrack is my favorite music...   \n",
      "3   pos  Excellent Soundtrack: I truly like this soundt...   \n",
      "4   pos  Remember, Pull Your Jaw Off The Floor After He...   \n",
      "\n",
      "                                              scores  \n",
      "0  {'neg': 0.088, 'neu': 0.669, 'pos': 0.243, 'co...  \n",
      "1  {'neg': 0.018, 'neu': 0.837, 'pos': 0.145, 'co...  \n",
      "2  {'neg': 0.04, 'neu': 0.692, 'pos': 0.268, 'com...  \n",
      "3  {'neg': 0.09, 'neu': 0.615, 'pos': 0.295, 'com...  \n",
      "4  {'neg': 0.0, 'neu': 0.746, 'pos': 0.254, 'comp...  \n"
     ]
    }
   ],
   "source": [
    "print(amazon_reviews_df.head())"
   ]
  },
  {
   "cell_type": "code",
   "execution_count": 38,
   "id": "c20595c2",
   "metadata": {},
   "outputs": [
    {
     "name": "stdout",
     "output_type": "stream",
     "text": [
      "     label                                             review  \\\n",
      "9995   pos  A revelation of life in small town America in ...   \n",
      "9996   pos  Great biography of a very interesting journali...   \n",
      "9997   neg  Interesting Subject; Poor Presentation: You'd ...   \n",
      "9998   neg  Don't buy: The box looked used and it is obvio...   \n",
      "9999   pos  Beautiful Pen and Fast Delivery.: The pen was ...   \n",
      "\n",
      "                                                 scores  \n",
      "9995  {'neg': 0.017, 'neu': 0.846, 'pos': 0.136, 'co...  \n",
      "9996  {'neg': 0.0, 'neu': 0.868, 'pos': 0.132, 'comp...  \n",
      "9997  {'neg': 0.084, 'neu': 0.754, 'pos': 0.162, 'co...  \n",
      "9998  {'neg': 0.091, 'neu': 0.909, 'pos': 0.0, 'comp...  \n",
      "9999  {'neg': 0.028, 'neu': 0.811, 'pos': 0.161, 'co...  \n"
     ]
    }
   ],
   "source": [
    "print(amazon_reviews_df.tail())"
   ]
  },
  {
   "cell_type": "code",
   "execution_count": 39,
   "id": "9105f664",
   "metadata": {},
   "outputs": [],
   "source": [
    "amazon_reviews_df['compound'] = amazon_reviews_df['scores'].apply(lambda d: d['compound'])"
   ]
  },
  {
   "cell_type": "code",
   "execution_count": 40,
   "id": "d0587390",
   "metadata": {},
   "outputs": [
    {
     "name": "stdout",
     "output_type": "stream",
     "text": [
      "  label                                             review  \\\n",
      "0   pos  Stuning even for the non-gamer: This sound tra...   \n",
      "1   pos  The best soundtrack ever to anything.: I'm rea...   \n",
      "2   pos  Amazing!: This soundtrack is my favorite music...   \n",
      "3   pos  Excellent Soundtrack: I truly like this soundt...   \n",
      "4   pos  Remember, Pull Your Jaw Off The Floor After He...   \n",
      "\n",
      "                                              scores  compound  \n",
      "0  {'neg': 0.088, 'neu': 0.669, 'pos': 0.243, 'co...    0.9454  \n",
      "1  {'neg': 0.018, 'neu': 0.837, 'pos': 0.145, 'co...    0.8957  \n",
      "2  {'neg': 0.04, 'neu': 0.692, 'pos': 0.268, 'com...    0.9858  \n",
      "3  {'neg': 0.09, 'neu': 0.615, 'pos': 0.295, 'com...    0.9814  \n",
      "4  {'neg': 0.0, 'neu': 0.746, 'pos': 0.254, 'comp...    0.9781  \n"
     ]
    }
   ],
   "source": [
    "print(amazon_reviews_df.head())"
   ]
  },
  {
   "cell_type": "code",
   "execution_count": 42,
   "id": "2d6008eb",
   "metadata": {},
   "outputs": [],
   "source": [
    "amazon_reviews_df['negative'] = amazon_reviews_df['scores'].apply(lambda d: d['neg'])"
   ]
  },
  {
   "cell_type": "code",
   "execution_count": 43,
   "id": "6d3c1c6c",
   "metadata": {},
   "outputs": [],
   "source": [
    "amazon_reviews_df['neutral'] = amazon_reviews_df['scores'].apply(lambda d: d['neu'])\n",
    "amazon_reviews_df['positive'] = amazon_reviews_df['scores'].apply(lambda d: d['pos'])"
   ]
  },
  {
   "cell_type": "code",
   "execution_count": 44,
   "id": "05d85fc1",
   "metadata": {},
   "outputs": [
    {
     "name": "stdout",
     "output_type": "stream",
     "text": [
      "  label                                             review  \\\n",
      "0   pos  Stuning even for the non-gamer: This sound tra...   \n",
      "1   pos  The best soundtrack ever to anything.: I'm rea...   \n",
      "2   pos  Amazing!: This soundtrack is my favorite music...   \n",
      "3   pos  Excellent Soundtrack: I truly like this soundt...   \n",
      "4   pos  Remember, Pull Your Jaw Off The Floor After He...   \n",
      "\n",
      "                                              scores  compound  negative  \\\n",
      "0  {'neg': 0.088, 'neu': 0.669, 'pos': 0.243, 'co...    0.9454     0.088   \n",
      "1  {'neg': 0.018, 'neu': 0.837, 'pos': 0.145, 'co...    0.8957     0.018   \n",
      "2  {'neg': 0.04, 'neu': 0.692, 'pos': 0.268, 'com...    0.9858     0.040   \n",
      "3  {'neg': 0.09, 'neu': 0.615, 'pos': 0.295, 'com...    0.9814     0.090   \n",
      "4  {'neg': 0.0, 'neu': 0.746, 'pos': 0.254, 'comp...    0.9781     0.000   \n",
      "\n",
      "   neutral  positive  \n",
      "0    0.669     0.243  \n",
      "1    0.837     0.145  \n",
      "2    0.692     0.268  \n",
      "3    0.615     0.295  \n",
      "4    0.746     0.254  \n"
     ]
    }
   ],
   "source": [
    "print(amazon_reviews_df.head())"
   ]
  },
  {
   "cell_type": "code",
   "execution_count": 49,
   "id": "b18d33a4",
   "metadata": {},
   "outputs": [],
   "source": [
    "# This applies the below prediction on the reviews:\n",
    "# It says that a review is negative if the compound score of this review is smaller than 0. \n",
    "# If the compound score of the review is greater than or equal to 0, the review is positive.\n",
    "amazon_reviews_df['sentiment_result'] = amazon_reviews_df['compound'].apply(lambda score: \"neg\" if score < 0 else \"pos\")"
   ]
  },
  {
   "cell_type": "code",
   "execution_count": 50,
   "id": "124b65b8",
   "metadata": {},
   "outputs": [
    {
     "name": "stdout",
     "output_type": "stream",
     "text": [
      "  label                                             review  \\\n",
      "0   pos  Stuning even for the non-gamer: This sound tra...   \n",
      "1   pos  The best soundtrack ever to anything.: I'm rea...   \n",
      "2   pos  Amazing!: This soundtrack is my favorite music...   \n",
      "3   pos  Excellent Soundtrack: I truly like this soundt...   \n",
      "4   pos  Remember, Pull Your Jaw Off The Floor After He...   \n",
      "\n",
      "                                              scores  compound  negative  \\\n",
      "0  {'neg': 0.088, 'neu': 0.669, 'pos': 0.243, 'co...    0.9454     0.088   \n",
      "1  {'neg': 0.018, 'neu': 0.837, 'pos': 0.145, 'co...    0.8957     0.018   \n",
      "2  {'neg': 0.04, 'neu': 0.692, 'pos': 0.268, 'com...    0.9858     0.040   \n",
      "3  {'neg': 0.09, 'neu': 0.615, 'pos': 0.295, 'com...    0.9814     0.090   \n",
      "4  {'neg': 0.0, 'neu': 0.746, 'pos': 0.254, 'comp...    0.9781     0.000   \n",
      "\n",
      "   neutral  positive sent_result sentiment_result  \n",
      "0    0.669     0.243         pos              pos  \n",
      "1    0.837     0.145         pos              pos  \n",
      "2    0.692     0.268         pos              pos  \n",
      "3    0.615     0.295         pos              pos  \n",
      "4    0.746     0.254         pos              pos  \n"
     ]
    }
   ],
   "source": [
    "print(amazon_reviews_df.head())"
   ]
  },
  {
   "cell_type": "code",
   "execution_count": 51,
   "id": "f7a7692e",
   "metadata": {},
   "outputs": [],
   "source": [
    "amazon_reviews_df.drop('sent_result', axis=1, inplace=True)"
   ]
  },
  {
   "cell_type": "code",
   "execution_count": 52,
   "id": "a9106377",
   "metadata": {},
   "outputs": [
    {
     "name": "stdout",
     "output_type": "stream",
     "text": [
      "  label                                             review  \\\n",
      "0   pos  Stuning even for the non-gamer: This sound tra...   \n",
      "1   pos  The best soundtrack ever to anything.: I'm rea...   \n",
      "2   pos  Amazing!: This soundtrack is my favorite music...   \n",
      "3   pos  Excellent Soundtrack: I truly like this soundt...   \n",
      "4   pos  Remember, Pull Your Jaw Off The Floor After He...   \n",
      "\n",
      "                                              scores  compound  negative  \\\n",
      "0  {'neg': 0.088, 'neu': 0.669, 'pos': 0.243, 'co...    0.9454     0.088   \n",
      "1  {'neg': 0.018, 'neu': 0.837, 'pos': 0.145, 'co...    0.8957     0.018   \n",
      "2  {'neg': 0.04, 'neu': 0.692, 'pos': 0.268, 'com...    0.9858     0.040   \n",
      "3  {'neg': 0.09, 'neu': 0.615, 'pos': 0.295, 'com...    0.9814     0.090   \n",
      "4  {'neg': 0.0, 'neu': 0.746, 'pos': 0.254, 'comp...    0.9781     0.000   \n",
      "\n",
      "   neutral  positive sentiment_result  \n",
      "0    0.669     0.243              pos  \n",
      "1    0.837     0.145              pos  \n",
      "2    0.692     0.268              pos  \n",
      "3    0.615     0.295              pos  \n",
      "4    0.746     0.254              pos  \n"
     ]
    }
   ],
   "source": [
    "print(amazon_reviews_df.head())"
   ]
  },
  {
   "cell_type": "code",
   "execution_count": 58,
   "id": "8b0a529f",
   "metadata": {},
   "outputs": [],
   "source": [
    "# Performance evaluation for the custom prediction made on reviews\n",
    "\n",
    "# necessary imports\n",
    "from sklearn.metrics import classification_report\n",
    "from sklearn.metrics import accuracy_score\n",
    "from sklearn.metrics import confusion_matrix"
   ]
  },
  {
   "cell_type": "code",
   "execution_count": 59,
   "id": "30d249f4",
   "metadata": {},
   "outputs": [
    {
     "name": "stdout",
     "output_type": "stream",
     "text": [
      "0.7097\n"
     ]
    }
   ],
   "source": [
    "# accuracy score calculation\n",
    "accuracy = accuracy_score(amazon_reviews_df['label'], amazon_reviews_df['sentiment_result'])\n",
    "print(accuracy)"
   ]
  },
  {
   "cell_type": "code",
   "execution_count": 60,
   "id": "8c79d8b7",
   "metadata": {},
   "outputs": [
    {
     "name": "stdout",
     "output_type": "stream",
     "text": [
      "              precision    recall  f1-score   support\n",
      "\n",
      "         neg       0.86      0.52      0.64      5097\n",
      "         pos       0.64      0.91      0.75      4903\n",
      "\n",
      "    accuracy                           0.71     10000\n",
      "   macro avg       0.75      0.71      0.70     10000\n",
      "weighted avg       0.75      0.71      0.70     10000\n",
      "\n"
     ]
    }
   ],
   "source": [
    "# classification report \n",
    "classification_report = classification_report(amazon_reviews_df['label'], amazon_reviews_df['sentiment_result'])\n",
    "print(classification_report)"
   ]
  },
  {
   "cell_type": "code",
   "execution_count": 61,
   "id": "0cf275fc",
   "metadata": {},
   "outputs": [
    {
     "name": "stdout",
     "output_type": "stream",
     "text": [
      "[[2629 2468]\n",
      " [ 435 4468]]\n"
     ]
    }
   ],
   "source": [
    "# confusion matrix\n",
    "confusion_matrix = confusion_matrix(amazon_reviews_df['label'], amazon_reviews_df['sentiment_result'])\n",
    "print(confusion_matrix)"
   ]
  },
  {
   "cell_type": "code",
   "execution_count": null,
   "id": "1a55f19d",
   "metadata": {},
   "outputs": [],
   "source": []
  },
  {
   "cell_type": "code",
   "execution_count": null,
   "id": "26586c82",
   "metadata": {},
   "outputs": [],
   "source": []
  }
 ],
 "metadata": {
  "kernelspec": {
   "display_name": "Python 3 (ipykernel)",
   "language": "python",
   "name": "python3"
  },
  "language_info": {
   "codemirror_mode": {
    "name": "ipython",
    "version": 3
   },
   "file_extension": ".py",
   "mimetype": "text/x-python",
   "name": "python",
   "nbconvert_exporter": "python",
   "pygments_lexer": "ipython3",
   "version": "3.9.12"
  }
 },
 "nbformat": 4,
 "nbformat_minor": 5
}
