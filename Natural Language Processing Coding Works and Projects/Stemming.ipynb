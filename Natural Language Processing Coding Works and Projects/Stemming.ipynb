{
 "cells": [
  {
   "cell_type": "code",
   "execution_count": 1,
   "id": "dbfacbff",
   "metadata": {},
   "outputs": [],
   "source": [
    "# Often when searching text for a certain keyword, stemming helps if the search returns variations of the word.\n",
    "# For example, searching for \"boat\" might also return \"boats\" and \"boating\". Here, \"boat\" would be the stem (root) \n",
    "# for [boat, boater, boating, boats]\n",
    "\n",
    "# Stemming chops off the letters from the end until the stem is reached.\n",
    "\n",
    "# Spacy library does not include a stemmer. Instead, it prefers to entirely rely on the lemmatization.\n",
    "\n",
    "# One of the most common and effective stemming tools is Porter's Algorithm. It employs five phases of word \n",
    "# reduction, each with its own set of mapping rules. In the first phase, suffix mapping rules are defined.\n",
    "# More sophisticated phases consider the complexity/length of the word before applying a rule.\n",
    "\n",
    "\n",
    "# Snowball is the name of a stemming language developed by Martin Porter.\n",
    "# The algorithm used here is more accurately called the \"English Stemmer\" or \"Porter2 Stemmer\".\n",
    "# It offers a slight improvement over the original Porter Stemmer, both in speed and logic."
   ]
  },
  {
   "cell_type": "code",
   "execution_count": 7,
   "id": "68f62668",
   "metadata": {},
   "outputs": [
    {
     "name": "stdout",
     "output_type": "stream",
     "text": [
      "ran ======> ran\n",
      "run ======> run\n",
      "runs ======> run\n",
      "fairly ======> fairli\n",
      "easily ======> easili\n",
      "runner ======> runner\n",
      "fairness ======> fair\n"
     ]
    }
   ],
   "source": [
    "import nltk \n",
    "from nltk.stem.porter import PorterStemmer \n",
    "\n",
    "porterStemmer = PorterStemmer()\n",
    "words = [\"ran\",\"run\",\"runs\",\"fairly\", \"easily\", \"runner\", \"fairness\"]\n",
    "\n",
    "# show the word itself and its stemmed version for all the words in the list.\n",
    "for word in words:\n",
    "    print(word + \" ======> \" + porterStemmer.stem(word))"
   ]
  },
  {
   "cell_type": "code",
   "execution_count": 8,
   "id": "ec076631",
   "metadata": {},
   "outputs": [
    {
     "name": "stdout",
     "output_type": "stream",
     "text": [
      "ran ======> ran\n",
      "run ======> run\n",
      "runs ======> run\n",
      "fairly ======> fair\n",
      "easily ======> easili\n",
      "runner ======> runner\n",
      "fairness ======> fair\n"
     ]
    }
   ],
   "source": [
    "# SnowballStemmer is the improved version of the PorterStemmer\n",
    "from nltk.stem.snowball import SnowballStemmer\n",
    "\n",
    "snowballStemmer = SnowballStemmer(language='english')\n",
    "\n",
    "for word in words:\n",
    "    print(word + \" ======> \" + snowballStemmer.stem(word))"
   ]
  },
  {
   "cell_type": "code",
   "execution_count": 9,
   "id": "5021ead9",
   "metadata": {},
   "outputs": [],
   "source": [
    "words_lst = [\"generate\", \"generation\", \"generous\", \"generously\"]"
   ]
  },
  {
   "cell_type": "code",
   "execution_count": 10,
   "id": "f4305ec7",
   "metadata": {},
   "outputs": [
    {
     "name": "stdout",
     "output_type": "stream",
     "text": [
      "generate ======> generat\n",
      "generation ======> generat\n",
      "generous ======> generous\n",
      "generously ======> generous\n"
     ]
    }
   ],
   "source": [
    "for word in words_lst:\n",
    "    print(word + \" ======> \" + snowballStemmer.stem(word))"
   ]
  },
  {
   "cell_type": "code",
   "execution_count": null,
   "id": "ad42863c",
   "metadata": {},
   "outputs": [],
   "source": []
  }
 ],
 "metadata": {
  "kernelspec": {
   "display_name": "Python 3 (ipykernel)",
   "language": "python",
   "name": "python3"
  },
  "language_info": {
   "codemirror_mode": {
    "name": "ipython",
    "version": 3
   },
   "file_extension": ".py",
   "mimetype": "text/x-python",
   "name": "python",
   "nbconvert_exporter": "python",
   "pygments_lexer": "ipython3",
   "version": "3.9.12"
  }
 },
 "nbformat": 4,
 "nbformat_minor": 5
}
