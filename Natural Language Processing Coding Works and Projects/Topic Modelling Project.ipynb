{
 "cells": [
  {
   "cell_type": "code",
   "execution_count": 4,
   "id": "b91bc298",
   "metadata": {},
   "outputs": [
    {
     "name": "stdout",
     "output_type": "stream",
     "text": [
      "                                                 Question\n",
      "0       What is the step by step guide to invest in sh...\n",
      "1       What is the story of Kohinoor (Koh-i-Noor) Dia...\n",
      "2       How can I increase the speed of my internet co...\n",
      "3       Why am I mentally very lonely? How can I solve...\n",
      "4       Which one dissolve in water quikly sugar, salt...\n",
      "...                                                   ...\n",
      "404284  How many keywords are there in the Racket prog...\n",
      "404285          Do you believe there is life after death?\n",
      "404286                                  What is one coin?\n",
      "404287  What is the approx annual cost of living while...\n",
      "404288              What is like to have sex with cousin?\n",
      "\n",
      "[404289 rows x 1 columns]\n",
      "\n",
      "\n",
      "404289\n",
      "There are 404289 quora questions in this data frame.\n"
     ]
    }
   ],
   "source": [
    "# Project description: \n",
    "\n",
    "# In this project, there is a dataset with which we work. This dataset includes over 400000 quora quetions that \n",
    "# have no labeled category. We should try to find 20 categories to assign these questions to.\n",
    "\n",
    "\n",
    "import pandas as pd\n",
    "\n",
    "# read the csv file called 'quora_questions.csv'\n",
    "quora_questions = pd.read_csv('quora_questions.csv')\n",
    "print(quora_questions)\n",
    "print()\n",
    "print()\n",
    "print(len(quora_questions))\n",
    "print(\"There are \"+str(len(quora_questions))+\" quora questions in this data frame.\")"
   ]
  },
  {
   "cell_type": "code",
   "execution_count": 6,
   "id": "1e008b98",
   "metadata": {},
   "outputs": [
    {
     "name": "stdout",
     "output_type": "stream",
     "text": [
      "There are 404289 rows in the quora questions data frame.\n",
      "There are 1 columns in the quora questions data frame.\n"
     ]
    }
   ],
   "source": [
    "rows, columns = quora_questions.shape\n",
    "print(\"There are \"+str(rows)+\" rows in the quora questions data frame.\")\n",
    "print(\"There are \"+str(columns)+\" columns in the quora questions data frame.\")"
   ]
  },
  {
   "cell_type": "code",
   "execution_count": 9,
   "id": "66427aec",
   "metadata": {},
   "outputs": [
    {
     "name": "stdout",
     "output_type": "stream",
     "text": [
      "The total number of rows in the document term matrix is: 404289\n",
      "The total number of columns in the document term matrix is: 38669\n",
      "There are 404289 questions in the document term matrix.\n",
      "There are 38669 words in the document term matrix.\n"
     ]
    }
   ],
   "source": [
    "# Use TF-IDF Vectorization to create a vectorized document term matrix. You may want to explore \n",
    "# max_df and min_df parameters.\n",
    "\n",
    "# necessary imports \n",
    "from sklearn.feature_extraction.text import TfidfVectorizer \n",
    "\n",
    "tfidf = TfidfVectorizer(max_df = 0.97, min_df = 2, stop_words = 'english')\n",
    "document_term_matrix = tfidf.fit_transform(quora_questions['Question'])\n",
    "row_number, column_number = document_term_matrix.shape\n",
    "\n",
    "\n",
    "print(\"The total number of rows in the document term matrix is: \"+str(row_number)+\"\")\n",
    "print(\"The total number of columns in the document term matrix is: \"+str(column_number)+\"\")\n",
    "\n",
    "print(\"There are \"+str(row_number)+\" questions in the document term matrix.\")\n",
    "print(\"There are \"+str(column_number)+\" words in the document term matrix.\")"
   ]
  },
  {
   "cell_type": "code",
   "execution_count": 10,
   "id": "2e521d8b",
   "metadata": {},
   "outputs": [
    {
     "name": "stdout",
     "output_type": "stream",
     "text": [
      "NMF(n_components=11, random_state=42)\n",
      "<class 'sklearn.decomposition._nmf.NMF'>\n",
      "\n",
      "\n"
     ]
    }
   ],
   "source": [
    "# Performing Non-Negative Matrix Factorization (NMF)\n",
    "from sklearn.decomposition import NMF\n",
    "nmf_model = NMF(n_components = 11, random_state = 42)\n",
    "print(nmf_model)\n",
    "print(type(nmf_model))\n",
    "print()\n",
    "print()"
   ]
  },
  {
   "cell_type": "code",
   "execution_count": 11,
   "id": "8565d2b7",
   "metadata": {},
   "outputs": [
    {
     "name": "stderr",
     "output_type": "stream",
     "text": [
      "/Users/barissss/opt/anaconda3/lib/python3.9/site-packages/sklearn/decomposition/_nmf.py:289: FutureWarning: The 'init' value, when 'init=None' and n_components is less than n_samples and n_features, will be changed from 'nndsvd' to 'nndsvda' in 1.1 (renaming of 0.26).\n",
      "  warnings.warn(\n"
     ]
    },
    {
     "data": {
      "text/plain": [
       "NMF(n_components=11, random_state=42)"
      ]
     },
     "execution_count": 11,
     "metadata": {},
     "output_type": "execute_result"
    }
   ],
   "source": [
    "# Fitting the nmf model to the document term matrix \n",
    "nmf_model.fit(document_term_matrix)"
   ]
  },
  {
   "cell_type": "code",
   "execution_count": 13,
   "id": "b07af93e",
   "metadata": {},
   "outputs": [
    {
     "name": "stdout",
     "output_type": "stream",
     "text": [
      "Top 25 words in topic #0: \n"
     ]
    },
    {
     "name": "stderr",
     "output_type": "stream",
     "text": [
      "/Users/barissss/opt/anaconda3/lib/python3.9/site-packages/sklearn/utils/deprecation.py:87: FutureWarning: Function get_feature_names is deprecated; get_feature_names is deprecated in 1.0 and will be removed in 1.2. Please use get_feature_names_out instead.\n",
      "  warnings.warn(msg, category=FutureWarning)\n"
     ]
    },
    {
     "name": "stdout",
     "output_type": "stream",
     "text": [
      "['mobile', 'learning', 'coaching', 'world', 'android', 'hollywood', 'engineering', 'app', 'free', 'site', 'friend', 'read', 'thing', 'website', 'weight', 'place', 'visit', 'places', 'phone', 'buy', 'time', 'laptop', 'ways', 'movie', '2016', 'books', 'book', 'movies', 'way', 'best']\n",
      "\n",
      "Top 25 words in topic #1: \n",
      "['facebook', 'come', 'distance', 'new', 'need', 'says', 'guy', 'universities', 'use', 'differ', 'grads', 'majors', 'relationship', 'recruit', 'person', 'looking', 'exist', 'girl', 'look', 'compare', 'really', 'cost', 'time', 'sex', 'long', 'work', 'feel', 'like', 'mean', 'does']\n",
      "\n",
      "Top 25 words in topic #2: \n",
      "['topics', 'instead', 'did', 'write', 'account', 'profile', 'interview', 'googling', 'follow', 'users', 'writer', 'people', 'marked', 'search', 'use', 'add', 'answered', 'needing', 'post', 'easily', 'improvement', 'delete', 'asked', 'google', 'answers', 'answer', 'ask', 'question', 'questions', 'quora']\n",
      "\n",
      "Top 25 words in topic #3: \n",
      "['app', '18', 'fast', 'instagram', 'month', 'easily', 'blog', 'com', 'account', 'start', 'making', 'investment', 'website', 'job', 'using', 'friends', 'facebook', 'black', 'internet', 'free', 'easiest', 'home', 'easy', 'youtube', 'ways', 'way', 'earn', 'online', 'make', 'money']\n",
      "\n",
      "Top 25 words in topic #4: \n",
      "['differ', 'regret', 'planets', 'worst', 'living', 'positions', 'departments', 'embarrassing', 'decision', 'biggest', 'employees', 'work', 'balance', 'earth', 'like', 'death', 'did', 'changed', 'want', 'change', 'live', 'things', 'moment', 'real', 'day', 'important', 'thing', 'meaning', 'purpose', 'life']\n",
      "\n",
      "Top 25 words in topic #5: \n",
      "['state', 'salary', 'difference', 'visit', 'countries', 'colleges', 'place', 'future', 'demonetization', 'scope', 'prime', 'buy', 'president', 'happen', 'reservation', 'minister', 'company', 'engineering', 'china', 'olympics', 'available', 'business', 'spotify', 'country', 'job', 'start', 'world', 'war', 'pakistan', 'india']\n",
      "\n",
      "Top 25 words in topic #6: \n",
      "['quickly', 'spoken', 'difference', 'new', 'beginners', 'easiest', 'beginner', 'coding', 'computer', 'hacking', 'fluently', 'communication', 'want', 'pronunciation', 'did', 'python', 'writing', 'speaking', 'languages', 'java', 'speak', 'learning', 'start', 'skills', 'way', 'improve', 'programming', 'language', 'english', 'learn']\n",
      "\n",
      "Top 25 words in topic #7: \n",
      "['debate', 'going', 'winning', 'war', 'united', 'states', 'really', 'affect', 'elected', 'students', 'won', 'usa', 'wins', 'elections', 'america', 'presidency', 'happen', 'think', 'presidential', 'vote', '2016', 'better', 'election', 'win', 'did', 'hillary', 'president', 'clinton', 'donald', 'trump']\n",
      "\n",
      "Top 25 words in topic #8: \n",
      "['inr', 'demonetization', 'curb', 'views', 'old', 'impact', 'scrapping', 'affect', 'note', 'corruption', 'help', 'decision', 'rupees', '2000', 'money', 'new', 'modi', 'currency', 'economy', 'government', 'think', 'ban', 'banning', 'black', 'indian', 'rupee', 'rs', '1000', 'notes', '500']\n",
      "\n",
      "Top 25 words in topic #9: \n",
      "['exist', 'really', 'use', 'fall', 'stop', 'person', 'google', 'sex', 'flat', 'instagram', 'want', 'blowing', 'hate', 'ask', 'time', 'employees', 'believe', 'girl', 'mind', 'going', 'world', 'day', 'new', 'things', 'don', 'like', 'think', 'love', 'know', 'people']\n",
      "\n",
      "Top 25 words in topic #10: \n",
      "['college', 'idea', 'installation', 'panel', 'balance', 'solar', 'provider', 'departments', 'positions', 'movies', 'ca', 'old', 'possible', 'fat', 'songs', 'read', 'business', 'work', 'year', 'start', 'gain', 'job', 'engineering', 'bad', 'books', 'time', 'ways', 'lose', 'weight', 'good']\n",
      "\n"
     ]
    }
   ],
   "source": [
    "# Displaying top 30 most common words for each of the 11 topics\n",
    "\n",
    "for index, topic in enumerate(nmf_model.components_):\n",
    "    print(\"Top 25 words in topic #\"+str(index)+\": \")\n",
    "    top30_words = [tfidf.get_feature_names()[j] for j in topic.argsort()[-30:]]\n",
    "    print(top30_words)\n",
    "    print()\n",
    "    "
   ]
  },
  {
   "cell_type": "code",
   "execution_count": 15,
   "id": "fa35ff95",
   "metadata": {},
   "outputs": [
    {
     "name": "stdout",
     "output_type": "stream",
     "text": [
      "[5 0 3 ... 8 8 9]\n"
     ]
    }
   ],
   "source": [
    "# Assigning topics to Quora questions using NMF model\n",
    "topic_outcomes = nmf_model.transform(document_term_matrix)\n",
    "\n",
    "# Obtaining the list of indices that correspond to the most probable topic for each question\n",
    "print(topic_outcomes.argmax(axis=1))"
   ]
  },
  {
   "cell_type": "code",
   "execution_count": 16,
   "id": "c3268f13",
   "metadata": {},
   "outputs": [
    {
     "name": "stdout",
     "output_type": "stream",
     "text": [
      "                                                 Question  Topic\n",
      "0       What is the step by step guide to invest in sh...      5\n",
      "1       What is the story of Kohinoor (Koh-i-Noor) Dia...      0\n",
      "2       How can I increase the speed of my internet co...      3\n",
      "3       Why am I mentally very lonely? How can I solve...      8\n",
      "4       Which one dissolve in water quikly sugar, salt...      1\n",
      "...                                                   ...    ...\n",
      "404284  How many keywords are there in the Racket prog...      6\n",
      "404285          Do you believe there is life after death?      4\n",
      "404286                                  What is one coin?      8\n",
      "404287  What is the approx annual cost of living while...      8\n",
      "404288              What is like to have sex with cousin?      9\n",
      "\n",
      "[404289 rows x 2 columns]\n"
     ]
    }
   ],
   "source": [
    "# Creating a new column called 'Topic' and assigning the most probable topic indices to the \n",
    "# questions in a rowwise manner.\n",
    "quora_questions['Topic'] = topic_outcomes.argmax(axis=1)\n",
    "print(quora_questions)"
   ]
  },
  {
   "cell_type": "code",
   "execution_count": 20,
   "id": "3898a2b2",
   "metadata": {},
   "outputs": [
    {
     "name": "stdout",
     "output_type": "stream",
     "text": [
      "The head (first 5 records) of the quora questions data frame is: \n",
      "\n",
      "                                            Question  Topic\n",
      "0  What is the step by step guide to invest in sh...      5\n",
      "1  What is the story of Kohinoor (Koh-i-Noor) Dia...      0\n",
      "2  How can I increase the speed of my internet co...      3\n",
      "3  Why am I mentally very lonely? How can I solve...      8\n",
      "4  Which one dissolve in water quikly sugar, salt...      1\n",
      "\n",
      "\n",
      "--------------------------------------------------------------------\n",
      "The tail (last 5 records) of the quora questions data frame is: \n",
      "\n",
      "                                                 Question  Topic\n",
      "404284  How many keywords are there in the Racket prog...      6\n",
      "404285          Do you believe there is life after death?      4\n",
      "404286                                  What is one coin?      8\n",
      "404287  What is the approx annual cost of living while...      8\n",
      "404288              What is like to have sex with cousin?      9\n",
      "\n"
     ]
    }
   ],
   "source": [
    "print(\"The head (first 5 records) of the quora questions data frame is: \")\n",
    "print()\n",
    "print(quora_questions.head())\n",
    "print()\n",
    "print()\n",
    "print(\"--------------------------------------------------------------------\")\n",
    "print(\"The tail (last 5 records) of the quora questions data frame is: \")\n",
    "print()\n",
    "print(quora_questions.tail())\n",
    "print()"
   ]
  },
  {
   "cell_type": "code",
   "execution_count": null,
   "id": "6bfdd651",
   "metadata": {},
   "outputs": [],
   "source": []
  }
 ],
 "metadata": {
  "kernelspec": {
   "display_name": "Python 3 (ipykernel)",
   "language": "python",
   "name": "python3"
  },
  "language_info": {
   "codemirror_mode": {
    "name": "ipython",
    "version": 3
   },
   "file_extension": ".py",
   "mimetype": "text/x-python",
   "name": "python",
   "nbconvert_exporter": "python",
   "pygments_lexer": "ipython3",
   "version": "3.9.12"
  }
 },
 "nbformat": 4,
 "nbformat_minor": 5
}
