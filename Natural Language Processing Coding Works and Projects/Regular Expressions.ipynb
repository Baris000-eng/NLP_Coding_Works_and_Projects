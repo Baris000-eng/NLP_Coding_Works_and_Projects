{
 "cells": [
  {
   "cell_type": "code",
   "execution_count": 1,
   "id": "bcdf81f0",
   "metadata": {},
   "outputs": [
    {
     "name": "stdout",
     "output_type": "stream",
     "text": [
      "True\n"
     ]
    }
   ],
   "source": [
    "# A word search task in a sentence \n",
    "\n",
    "# Let's search the word 'cup' exists in the below sentence\n",
    "word_to_seek = 'cup'\n",
    "sentence_to_check = 'I want to drink a cup of coffee.'\n",
    "cup_exists = word_to_seek in sentence_to_check\n",
    "print(cup_exists)"
   ]
  },
  {
   "cell_type": "code",
   "execution_count": 2,
   "id": "6a09d30b",
   "metadata": {},
   "outputs": [],
   "source": [
    "# What if we do not know the exact structure of the text that we seek.\n",
    "# Then, we can use regular expressions in order to search for the pattern \n",
    "# of what we are looking for, instead of any specific sequence.\n",
    "\n",
    "# Regular Expressions\n",
    "# Regular expressions allow for pattern searching in a text document.\n",
    "\n",
    "# The important thing to keep in mind is that every character type has a \n",
    "# corresponding pattern code.\n",
    "\n",
    "# For example, digits have the placeholder pattern code of \\d\n",
    "# The use of backslash allows Python to understand that it is a special\n",
    "# code and not the letter \"d\"."
   ]
  },
  {
   "cell_type": "code",
   "execution_count": 25,
   "id": "518f6086",
   "metadata": {},
   "outputs": [],
   "source": [
    "text = \"The phone number of the travel agent is 139-777-8754. Call soon!\""
   ]
  },
  {
   "cell_type": "code",
   "execution_count": 26,
   "id": "fefbf49c",
   "metadata": {},
   "outputs": [],
   "source": [
    "import re # regular expressions library in Python"
   ]
  },
  {
   "cell_type": "code",
   "execution_count": 27,
   "id": "d458e8f7",
   "metadata": {},
   "outputs": [
    {
     "data": {
      "text/plain": [
       "<re.Match object; span=(4, 9), match='phone'>"
      ]
     },
     "execution_count": 27,
     "metadata": {},
     "output_type": "execute_result"
    }
   ],
   "source": [
    "pattern = \"phone\"\n",
    "re.search(pattern, text)"
   ]
  },
  {
   "cell_type": "code",
   "execution_count": 28,
   "id": "7a666e33",
   "metadata": {},
   "outputs": [
    {
     "data": {
      "text/plain": [
       "(4, 9)"
      ]
     },
     "execution_count": 28,
     "metadata": {},
     "output_type": "execute_result"
    }
   ],
   "source": [
    "text_match = re.search(pattern, text)\n",
    "text_match.span() # It will give the range of indices where the text match occurs."
   ]
  },
  {
   "cell_type": "code",
   "execution_count": 29,
   "id": "3dddaaff",
   "metadata": {},
   "outputs": [
    {
     "data": {
      "text/plain": [
       "4"
      ]
     },
     "execution_count": 29,
     "metadata": {},
     "output_type": "execute_result"
    }
   ],
   "source": [
    "text_match.start()"
   ]
  },
  {
   "cell_type": "code",
   "execution_count": 30,
   "id": "13de17d6",
   "metadata": {},
   "outputs": [
    {
     "data": {
      "text/plain": [
       "4"
      ]
     },
     "execution_count": 30,
     "metadata": {},
     "output_type": "execute_result"
    }
   ],
   "source": [
    "text_match.start()"
   ]
  },
  {
   "cell_type": "code",
   "execution_count": 31,
   "id": "862e07c0",
   "metadata": {},
   "outputs": [],
   "source": [
    "my_text = \"My phone is a new phone\"\n",
    "match = re.search(pattern, my_text)"
   ]
  },
  {
   "cell_type": "code",
   "execution_count": 32,
   "id": "52677dc2",
   "metadata": {},
   "outputs": [
    {
     "data": {
      "text/plain": [
       "(3, 8)"
      ]
     },
     "execution_count": 32,
     "metadata": {},
     "output_type": "execute_result"
    }
   ],
   "source": [
    "match.span() # It will get the indices spanned by the first occurrence of pattern in the text called my_text."
   ]
  },
  {
   "cell_type": "code",
   "execution_count": 33,
   "id": "a5aa4042",
   "metadata": {},
   "outputs": [
    {
     "name": "stdout",
     "output_type": "stream",
     "text": [
      "['phone', 'phone']\n",
      "phone\n",
      "phone\n",
      "2\n"
     ]
    }
   ],
   "source": [
    "all_matches = re.findall(pattern, my_text)\n",
    "print(all_matches)\n",
    "print(all_matches[0])\n",
    "print(all_matches[1])\n",
    "print(len(all_matches))"
   ]
  },
  {
   "cell_type": "code",
   "execution_count": 34,
   "id": "ff8de22e",
   "metadata": {},
   "outputs": [
    {
     "name": "stdout",
     "output_type": "stream",
     "text": [
      "<class 'callable_iterator'>\n",
      "(3, 8)\n",
      "(18, 23)\n"
     ]
    }
   ],
   "source": [
    "# Finding match objects\n",
    "iterable_matches = re.finditer(pattern, my_text)\n",
    "print(type(iterable_matches))\n",
    "for match in iterable_matches:\n",
    "    print(match.span()) # It gets the index span of each word matching with the pattern.\n"
   ]
  },
  {
   "cell_type": "code",
   "execution_count": 35,
   "id": "bcb83e5c",
   "metadata": {},
   "outputs": [
    {
     "data": {
      "text/plain": [
       "'The phone number of the travel agent is 139-777-8754. Call soon!'"
      ]
     },
     "execution_count": 35,
     "metadata": {},
     "output_type": "execute_result"
    }
   ],
   "source": [
    "text"
   ]
  },
  {
   "cell_type": "code",
   "execution_count": 36,
   "id": "267739a5",
   "metadata": {},
   "outputs": [],
   "source": [
    "my_pattern = r'\\d\\d\\d-\\d\\d\\d-\\d\\d\\d\\d' # a pattern that looks for 3 digits, a dash, 3 digits, a dash, and 4 digits in sequence."
   ]
  },
  {
   "cell_type": "code",
   "execution_count": 37,
   "id": "4094e0c6",
   "metadata": {},
   "outputs": [
    {
     "name": "stdout",
     "output_type": "stream",
     "text": [
      "<re.Match object; span=(40, 52), match='139-777-8754'>\n",
      "139-777-8754\n"
     ]
    }
   ],
   "source": [
    "phone_number = re.search(my_pattern, text)\n",
    "print(phone_number)\n",
    "\n",
    "# To get only the actual matching string from the match object, we can use the group() function.\n",
    "print(phone_number.group())"
   ]
  },
  {
   "cell_type": "code",
   "execution_count": 41,
   "id": "e1d6c69f",
   "metadata": {},
   "outputs": [],
   "source": [
    "# The below pattern is the shorter form of the pattern called\n",
    "# my_pattern. As in the my_pattern, the below pattern looks \n",
    "# for 3 digits, a dash, 3 digits, a dash, and finally 4 digits\n",
    "# in sequence.\n",
    "pattern = r\"\\d{3}-\\d{3}-\\d{4}\" "
   ]
  },
  {
   "cell_type": "code",
   "execution_count": 43,
   "id": "2589d32f",
   "metadata": {},
   "outputs": [
    {
     "name": "stdout",
     "output_type": "stream",
     "text": [
      "\\d{3}-\\d{3}-\\d{4}\n",
      "<re.Match object; span=(40, 52), match='139-777-8754'>\n",
      "139-777-8754\n"
     ]
    }
   ],
   "source": [
    "print(pattern)\n",
    "match_object = re.search(pattern, text)\n",
    "print(match_object)\n",
    "print(match_object.group())"
   ]
  },
  {
   "cell_type": "code",
   "execution_count": 44,
   "id": "8b1670b3",
   "metadata": {},
   "outputs": [],
   "source": [
    "# The subpatterns specified inside the parantheses ()\n",
    "# constitute the pattern groups.\n",
    "new_pattern = r\"(\\d{3})-(\\d{3})-(\\d{4})\""
   ]
  },
  {
   "cell_type": "code",
   "execution_count": 46,
   "id": "5190fb26",
   "metadata": {},
   "outputs": [
    {
     "name": "stdout",
     "output_type": "stream",
     "text": [
      "139-777-8754\n"
     ]
    }
   ],
   "source": [
    "match_obj = re.search(new_pattern, text)\n",
    "print(match_obj.group())"
   ]
  },
  {
   "cell_type": "code",
   "execution_count": 48,
   "id": "9b208dad",
   "metadata": {},
   "outputs": [
    {
     "name": "stdout",
     "output_type": "stream",
     "text": [
      "139-777-8754\n",
      "139-777-8754\n",
      "139\n",
      "777\n",
      "8754\n"
     ]
    }
   ],
   "source": [
    "print(match_obj.group()) # It groups all the groups inside the match object.\n",
    "print(match_obj.group(0))\n",
    "\n",
    "print(match_obj.group(1)) # It grabs the first group in the match object.\n",
    "print(match_obj.group(2)) # It grabs the second group in the match object.\n",
    "print(match_obj.group(3)) # It grabs the third group in the match object."
   ]
  },
  {
   "cell_type": "code",
   "execution_count": 49,
   "id": "557afe35",
   "metadata": {},
   "outputs": [
    {
     "data": {
      "text/plain": [
       "<re.Match object; span=(5, 10), match='woman'>"
      ]
     },
     "execution_count": 49,
     "metadata": {},
     "output_type": "execute_result"
    }
   ],
   "source": [
    "re.search(r\"man|woman\",\"This woman was here\")"
   ]
  },
  {
   "cell_type": "code",
   "execution_count": 50,
   "id": "cdbb5e33",
   "metadata": {},
   "outputs": [
    {
     "data": {
      "text/plain": [
       "<re.Match object; span=(5, 8), match='man'>"
      ]
     },
     "execution_count": 50,
     "metadata": {},
     "output_type": "execute_result"
    }
   ],
   "source": [
    "re.search(r\"man|woman\",\"This man was here\")"
   ]
  },
  {
   "cell_type": "code",
   "execution_count": 51,
   "id": "da87eb8a",
   "metadata": {},
   "outputs": [
    {
     "name": "stdout",
     "output_type": "stream",
     "text": [
      "<re.Match object; span=(5, 10), match='woman'>\n",
      "<re.Match object; span=(5, 8), match='man'>\n"
     ]
    }
   ],
   "source": [
    "# | character is for the specification of \"or\" logic.\n",
    "print(re.search(r\"man|woman\",\"This woman was here\"))\n",
    "print(re.search(r\"man|woman\", \"This man was here\"))"
   ]
  },
  {
   "cell_type": "code",
   "execution_count": 53,
   "id": "3f86525f",
   "metadata": {},
   "outputs": [
    {
     "data": {
      "text/plain": [
       "['cat', 'bat', 'hat', 'sat']"
      ]
     },
     "execution_count": 53,
     "metadata": {},
     "output_type": "execute_result"
    }
   ],
   "source": [
    "# The usage of the wildcard character\n",
    "# We can use a wildcard as a placement which will \n",
    "# match any character placed there.\n",
    "re.findall(r\".at\",\"The cat and bat in the hat sat\")\n",
    "\n",
    "# In the above call of findall(), the wildcard character of '.'\n",
    "# can represent any character. In this case, this character \n",
    "# represented the character set of ['c','b','h','s'] in 4\n",
    "# different words."
   ]
  },
  {
   "cell_type": "code",
   "execution_count": 55,
   "id": "693da6f9",
   "metadata": {},
   "outputs": [
    {
     "name": "stdout",
     "output_type": "stream",
     "text": [
      "['cat', 'bat', 'hat', 'sat']\n",
      "cat\n",
      "bat\n",
      "hat\n"
     ]
    }
   ],
   "source": [
    "print(re.findall(r\".at\",\"The cat and bat in the hat sat\"))\n",
    "print(re.findall(r\".at\",\"The cat and bat in the hat sat\")[0])\n",
    "print(re.findall(r\".at\",\"The cat and bat in the hat sat\")[1])\n",
    "print(re.findall(r\".at\",\"The cat and bat in the hat sat\")[2])\n",
    "print(re.findall(r\".at\",\"The cat and bat in the hat sat\")[3])"
   ]
  },
  {
   "cell_type": "code",
   "execution_count": 58,
   "id": "ffac577b",
   "metadata": {},
   "outputs": [
    {
     "name": "stdout",
     "output_type": "stream",
     "text": [
      "['9']\n",
      "['4']\n"
     ]
    }
   ],
   "source": [
    "# ^ is the character that is utilized to say 'starts with' in the regular expressions.\n",
    "# $ is the character that is used to say 'ends with' in the regular expressions.\n",
    "\n",
    "\n",
    "matches_ending_with_digit = re.findall(r\"\\d$\", \"This sentence ends with a digit: 9\")\n",
    "print(matches_ending_with_digit)\n",
    "\n",
    "\n",
    "matches_starting_with_digit = re.findall(r\"^\\d\",\"4 is the single number in this sentence.\")\n",
    "print(matches_starting_with_digit)"
   ]
  },
  {
   "cell_type": "code",
   "execution_count": 61,
   "id": "a8781701",
   "metadata": {},
   "outputs": [
    {
     "name": "stdout",
     "output_type": "stream",
     "text": [
      "['T', 'h', 'e', 'r', 'e', ' ', 'a', 'r', 'e', ' ', ' ', 'n', 'u', 'm', 'b', 'e', 'r', 's', ' ', 'i', 'n', ' ', 't', 'h', 'i', 's', ' ', 's', 'e', 'n', 't', 'e', 'n', 'c', 'e', ':', ' ', ' ', 'a', 'n', 'd', ' ', ' ', ':', ')']\n",
      "\n",
      "\n",
      "['There are ', ' numbers in this sentence: ', ' and ', ' :)']\n"
     ]
    }
   ],
   "source": [
    "# When the ^ symbol is inside the square brackets, this will\n",
    "# indicate an exclusion.\n",
    "\n",
    "# Excluding all digits from the sentence called 'phrase'\n",
    "phrase = \"There are 3 numbers in this sentence: 4 and 5 :)\"\n",
    "\n",
    "match_in_chars = re.findall(r\"[^\\d]\", phrase)\n",
    "print(match_in_chars)\n",
    "\n",
    "print()\n",
    "print()\n",
    "\n",
    "match_in_words = re.findall(r\"[^\\d]+\", phrase)\n",
    "print(match_in_words)"
   ]
  },
  {
   "cell_type": "code",
   "execution_count": 69,
   "id": "afdfdab0",
   "metadata": {},
   "outputs": [
    {
     "name": "stdout",
     "output_type": "stream",
     "text": [
      "['T', 'h', 'i', 's', ' ', 'i', 's', ' ', 'a', ' ', 'l', 'o', 'n', 'g', ' ', 's', 't', 'r', 'i', 'n', 'g', ' ', 'H', 'o', 'w', 'e', 'v', 'e', 'r', ' ', 'i', 't', ' ', 'h', 'a', 's', ' ', 's', 'o', 'm', 'e', ' ', 'p', 'u', 'n', 'c', 't', 'u', 'a', 't', 'i', 'o', 'n', 's', ' ', 'H', 'o', 'w', ' ', 'c', 'a', 'n', ' ', 'w', 'e', ' ', 'r', 'e', 'm', 'o', 'v', 'e', ' ', 't', 'h', 'e', 'm']\n",
      "\n",
      "\n",
      "\n",
      "['This is a long string', ' However', ' it has some punctuations', ' How can we remove them']\n"
     ]
    }
   ],
   "source": [
    "test_phrase = \"This is a long string! However, it has some punctuations. How can we remove them?\"\n",
    "without_punctuation = re.findall(r\"[^.,!?]\",test_phrase)\n",
    "print(without_punctuation)\n",
    "\n",
    "print()\n",
    "print()\n",
    "print()\n",
    "\n",
    "without_punctuation_words = re.findall(r\"[^.,!?]+\",test_phrase)\n",
    "print(without_punctuation_words)"
   ]
  },
  {
   "cell_type": "code",
   "execution_count": 70,
   "id": "f30bf7c6",
   "metadata": {},
   "outputs": [
    {
     "data": {
      "text/plain": [
       "'This is a long string However it has some punctuations How can we remove them'"
      ]
     },
     "execution_count": 70,
     "metadata": {},
     "output_type": "execute_result"
    }
   ],
   "source": [
    "''.join(without_punctuation_words)"
   ]
  },
  {
   "cell_type": "code",
   "execution_count": 76,
   "id": "f74edf68",
   "metadata": {},
   "outputs": [
    {
     "name": "stdout",
     "output_type": "stream",
     "text": [
      "['hypen-words', 'long-ish']\n"
     ]
    }
   ],
   "source": [
    "sample_text = \"Just find the hypen-words. Where are the long-ish dashed words?\"\n",
    "\n",
    "# The below regular expression will find all groups that contain a dash and alphanumerical characters in the both side of the dash.\n",
    "# For matching one or more characters consecutively, we use a plus sign (+) at the end of the character group in each side of dash.\n",
    "alphanumeric_match = re.findall(r'[\\w]+-[\\w]+', sample_text)\n",
    "print(alphanumeric_match)"
   ]
  },
  {
   "cell_type": "code",
   "execution_count": null,
   "id": "9381a720",
   "metadata": {},
   "outputs": [],
   "source": []
  },
  {
   "cell_type": "code",
   "execution_count": null,
   "id": "2967eb77",
   "metadata": {},
   "outputs": [],
   "source": []
  }
 ],
 "metadata": {
  "kernelspec": {
   "display_name": "Python 3 (ipykernel)",
   "language": "python",
   "name": "python3"
  },
  "language_info": {
   "codemirror_mode": {
    "name": "ipython",
    "version": 3
   },
   "file_extension": ".py",
   "mimetype": "text/x-python",
   "name": "python",
   "nbconvert_exporter": "python",
   "pygments_lexer": "ipython3",
   "version": "3.9.12"
  }
 },
 "nbformat": 4,
 "nbformat_minor": 5
}
