{
 "cells": [
  {
   "cell_type": "code",
   "execution_count": 19,
   "id": "61bc027d",
   "metadata": {},
   "outputs": [
    {
     "name": "stdout",
     "output_type": "stream",
     "text": [
      "NLP stands for Natural Language Processing\n"
     ]
    }
   ],
   "source": [
    "# f-Strings \n",
    "\n",
    "abbreviation = \"NLP\"\n",
    "full_text = \"Natural Language Processing\"\n",
    "print(f\"{abbreviation} stands for {full_text}\")"
   ]
  },
  {
   "cell_type": "code",
   "execution_count": 48,
   "id": "57e8f649",
   "metadata": {},
   "outputs": [
    {
     "name": "stdout",
     "output_type": "stream",
     "text": [
      "Overwriting contactsInfo.txt\n"
     ]
    }
   ],
   "source": [
    "%%writefile contactsInfo.txt\n",
    "first_name, last_name, title, extension, email"
   ]
  },
  {
   "cell_type": "code",
   "execution_count": 49,
   "id": "5f0e258d",
   "metadata": {},
   "outputs": [
    {
     "name": "stdout",
     "output_type": "stream",
     "text": [
      "first_name, last_name, title, extension, email\n",
      "\n"
     ]
    }
   ],
   "source": [
    "fields = open(\"contactsInfo.txt\")\n",
    "print(fields.read())\n",
    "\n",
    "fields.close()"
   ]
  },
  {
   "cell_type": "code",
   "execution_count": 50,
   "id": "7fbf1dbd",
   "metadata": {},
   "outputs": [
    {
     "name": "stdout",
     "output_type": "stream",
     "text": [
      "AUTHORS:  \n",
      "Amy Baker, Finance Chair, x345, abaker@ourcompany.com  \n",
      "Chris Donaldson, Accounting Dir., x621, cdonaldson@ourcompany.com  \n",
      "Erin Freeman, Sr. VP, x879, efreeman@ourcompany.com  \n"
     ]
    }
   ],
   "source": [
    "# Necessary import for the text extraction from the text-based PDF documents.\n",
    "import PyPDF2\n",
    "\n",
    "proposal_pdf_file = open('business_proposal.pdf', mode=\"rb\") # opening the business proposal pdf file in the binary reading mode\n",
    "pdf_reader = PyPDF2.PdfReader(proposal_pdf_file) # creating the pdf reader object\n",
    "second_page = pdf_reader.pages[1] # obtaining the second page\n",
    "second_page_text = second_page.extract_text() # extracting the text from the second page\n",
    "\n",
    "proposal_pdf_file.close()\n",
    "print(second_page_text)  # printing the extracted text"
   ]
  },
  {
   "cell_type": "code",
   "execution_count": 51,
   "id": "7088a669",
   "metadata": {},
   "outputs": [
    {
     "name": "stdout",
     "output_type": "stream",
     "text": [
      "first_name, last_name, title, extension, email\n",
      "AUTHORS:  \n",
      "Amy Baker, Finance Chair, x345, abaker@ourcompany.com  \n",
      "Chris Donaldson, Accounting Dir., x621, cdonaldson@ourcompany.com  \n",
      "Erin Freeman, Sr. VP, x879, efreeman@ourcompany.com  \n"
     ]
    }
   ],
   "source": [
    "with open('contactsInfo.txt', 'a+') as file:\n",
    "    file.write(second_page_text)\n",
    "    file.seek(0)\n",
    "    print(file.read())"
   ]
  },
  {
   "cell_type": "code",
   "execution_count": 55,
   "id": "a66882cd",
   "metadata": {},
   "outputs": [
    {
     "name": "stdout",
     "output_type": "stream",
     "text": [
      "first_name, last_name, title, extension, email\n",
      "AUTHORS:  \n",
      "Amy Baker, Finance Chair, x345, abaker@ourcompany.com  \n",
      "Chris Donaldson, Accounting Dir., x621, cdonaldson@ourcompany.com  \n",
      "Erin Freeman, Sr. VP, x879, efreeman@ourcompany.com  r, Finance Chair, x345, abaker@ourcompany.com  \n",
      "Chris Donaldson, Accounting Dir., x621, cdonaldson@ourcompany.com  \n",
      "Erin Freeman, Sr. VP, x879, efreeman@ourcompany.com  \n",
      "Amy Baker, Finance Chair, x345, abaker@ourcompany.com  \n",
      "Chris Donaldson, Accounting Dir., x621, cdonaldson@ourcompany.com  \n",
      "Erin Freeman, Sr. VP, x879, efreeman@ourcompany.com  \n"
     ]
    }
   ],
   "source": [
    "with open('contactsInfo.txt','a+') as file:\n",
    "    file.write(second_page_text[10:])\n",
    "    file.seek(0)\n",
    "    print(file.read())"
   ]
  },
  {
   "cell_type": "code",
   "execution_count": 56,
   "id": "b3657fef",
   "metadata": {},
   "outputs": [
    {
     "data": {
      "text/plain": [
       "['abaker@ourcompany.com',\n",
       " 'cdonaldson@ourcompany.com',\n",
       " 'efreeman@ourcompany.com']"
      ]
     },
     "execution_count": 56,
     "metadata": {},
     "output_type": "execute_result"
    }
   ],
   "source": [
    "# Regular Expressions\n",
    "\n",
    "# Finding the email addresses in the text of second page\n",
    "# by using a regular expression pattern.\n",
    "import re\n",
    "\n",
    "pattern = r\"[\\w]+@[\\w]+.[\\w]+\"\n",
    "\n",
    "re.findall(pattern, second_page_text)"
   ]
  },
  {
   "cell_type": "code",
   "execution_count": 57,
   "id": "7a69a2c2",
   "metadata": {},
   "outputs": [
    {
     "name": "stdout",
     "output_type": "stream",
     "text": [
      "['abaker@ourcompany.com', 'cdonaldson@ourcompany.com', 'efreeman@ourcompany.com']\n",
      "abaker@ourcompany.com\n",
      "cdonaldson@ourcompany.com\n",
      "efreeman@ourcompany.com\n"
     ]
    }
   ],
   "source": [
    "email_addresses = re.findall(pattern, second_page_text)\n",
    "print(email_addresses)\n",
    "print(email_addresses[0])\n",
    "print(email_addresses[1])\n",
    "print(email_addresses[2])"
   ]
  },
  {
   "cell_type": "code",
   "execution_count": null,
   "id": "d7458c29",
   "metadata": {},
   "outputs": [],
   "source": []
  },
  {
   "cell_type": "code",
   "execution_count": null,
   "id": "78044b71",
   "metadata": {},
   "outputs": [],
   "source": []
  }
 ],
 "metadata": {
  "kernelspec": {
   "display_name": "Python 3 (ipykernel)",
   "language": "python",
   "name": "python3"
  },
  "language_info": {
   "codemirror_mode": {
    "name": "ipython",
    "version": 3
   },
   "file_extension": ".py",
   "mimetype": "text/x-python",
   "name": "python",
   "nbconvert_exporter": "python",
   "pygments_lexer": "ipython3",
   "version": "3.9.12"
  }
 },
 "nbformat": 4,
 "nbformat_minor": 5
}
