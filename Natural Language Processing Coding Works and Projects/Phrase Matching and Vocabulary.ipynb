{
 "cells": [
  {
   "cell_type": "code",
   "execution_count": 66,
   "id": "b324fc34",
   "metadata": {},
   "outputs": [
    {
     "name": "stdout",
     "output_type": "stream",
     "text": [
      "<spacy.lang.en.English object at 0x7fc7f6b677f0>\n"
     ]
    }
   ],
   "source": [
    "import spacy\n",
    "\n",
    "nlp = spacy.load(\"en_core_web_sm\")\n",
    "print(nlp)"
   ]
  },
  {
   "cell_type": "code",
   "execution_count": 67,
   "id": "bb65b21f",
   "metadata": {},
   "outputs": [
    {
     "name": "stdout",
     "output_type": "stream",
     "text": [
      "<spacy.vocab.Vocab object at 0x7fc8132fb4c0>\n"
     ]
    }
   ],
   "source": [
    "from spacy.matcher import Matcher \n",
    "print(nlp.vocab)\n",
    "matcher = Matcher(nlp.vocab)"
   ]
  },
  {
   "cell_type": "code",
   "execution_count": 68,
   "id": "57dbb036",
   "metadata": {},
   "outputs": [
    {
     "name": "stdout",
     "output_type": "stream",
     "text": [
      "<spacy.matcher.matcher.Matcher object at 0x7fc7f6c2af40> <class 'spacy.matcher.matcher.Matcher'>\n",
      "<spacy.matcher.matcher.Matcher object at 0x7fc7f6c2af40>\n",
      "<class 'spacy.matcher.matcher.Matcher'>\n"
     ]
    }
   ],
   "source": [
    "print(matcher, type(matcher))\n",
    "print(matcher)\n",
    "print(type(matcher))"
   ]
  },
  {
   "cell_type": "code",
   "execution_count": 69,
   "id": "e3bbdf3b",
   "metadata": {},
   "outputs": [],
   "source": [
    "# Patterns to be found:\n",
    "# SolarPower\n",
    "# Solar-power\n",
    "# Solar power\n",
    "\n",
    "## Token patterns to perform rule-based matching \n",
    "\n",
    "#SolarPower\n",
    "# The first pattern checks when we transform the token to its lowercase version, if it will be same as 'solarpower'.\n",
    "first_pattern = [{'LOWER': 'solarpower'}]\n",
    "\n",
    "#Solar-power\n",
    "second_pattern = [{'LOWER': 'solar'}, {'IS_PUNCT':True}, {'LOWER': 'power'}]\n",
    "\n",
    "#Solar power\n",
    "third_pattern = [{'LOWER': 'solar'}, {'LOWER': 'power'}]"
   ]
  },
  {
   "cell_type": "code",
   "execution_count": 70,
   "id": "b346ec63",
   "metadata": {},
   "outputs": [],
   "source": [
    "matcher.add(\"SolarPower\", [first_pattern])\n",
    "matcher.add(\"Solar-power\", [second_pattern])\n",
    "matcher.add(\"Solar power\", [third_pattern])"
   ]
  },
  {
   "cell_type": "code",
   "execution_count": 71,
   "id": "eb29df27",
   "metadata": {},
   "outputs": [
    {
     "name": "stdout",
     "output_type": "stream",
     "text": [
      "[(3273117015852423453, 1, 3), (8656102463236116519, 8, 9), (17734808517635807839, 11, 14)]\n"
     ]
    }
   ],
   "source": [
    "document = nlp(u'The Solar Power industry continues to grow as solarpower increases. Solar-power is a crucial resource.')\n",
    "found_matches = matcher(document)\n",
    "print(found_matches)\n",
    "\n",
    "# In the output of this cell, each tuple will contain the match id, starting index of the match and the ending \n",
    "# index of the match in sequence. The starting and ending indexes are at the token level. In other words; the \n",
    "# index 0 belongs to the first word, the index 1 belongs to the second word, and so forth."
   ]
  },
  {
   "cell_type": "code",
   "execution_count": 72,
   "id": "83f4040c",
   "metadata": {},
   "outputs": [
    {
     "name": "stdout",
     "output_type": "stream",
     "text": [
      "3273117015852423453 Solar power 1 3 Solar Power\n",
      "8656102463236116519 SolarPower 8 9 solarpower\n",
      "17734808517635807839 Solar-power 11 14 Solar-power\n"
     ]
    }
   ],
   "source": [
    "for match_id, start, end in found_matches:\n",
    "    string_id = nlp.vocab.strings[match_id] # get string representation\n",
    "    matched_span = document[start:end] # get the matched span\n",
    "    print(match_id, string_id, start, end, matched_span.text)"
   ]
  },
  {
   "cell_type": "code",
   "execution_count": 73,
   "id": "95c4c2ae",
   "metadata": {},
   "outputs": [],
   "source": [
    "matcher.remove('SolarPower') # Remove 'SolarPower' from the matcher object"
   ]
  },
  {
   "cell_type": "code",
   "execution_count": 74,
   "id": "2378cc91",
   "metadata": {},
   "outputs": [
    {
     "name": "stdout",
     "output_type": "stream",
     "text": [
      "[(3273117015852423453, 1, 3), (17734808517635807839, 11, 14)]\n"
     ]
    }
   ],
   "source": [
    "overlapping_part = matcher(document)\n",
    "print(overlapping_part)"
   ]
  },
  {
   "cell_type": "code",
   "execution_count": 75,
   "id": "f7a6409d",
   "metadata": {},
   "outputs": [],
   "source": [
    "# 'OP': '*' allows the pattern to match zero or more times. For the pattern2, it allows us to put \n",
    "# any amount of punctuation in the middle.l\n",
    "pattern1 = [{'LOWER': 'solarpower'}]\n",
    "pattern2 = [{'LOWER': 'solar'}, {'IS_PUNCT': True, 'OP': '*'}, {'LOWER': 'power'}]"
   ]
  },
  {
   "cell_type": "code",
   "execution_count": 76,
   "id": "f087dfe2",
   "metadata": {},
   "outputs": [],
   "source": [
    "my_matcher = Matcher(nlp.vocab)\n",
    "my_matcher.add('solarpower', [pattern1]) # adding pattern1 to the matcher object\n",
    "my_matcher.add('Solar-Power', [pattern2]) # adding pattern2 to the matcher object"
   ]
  },
  {
   "cell_type": "code",
   "execution_count": 77,
   "id": "5d4c344a",
   "metadata": {},
   "outputs": [
    {
     "name": "stdout",
     "output_type": "stream",
     "text": [
      "[(17734808517635807839, 0, 3), (3273117015852423453, 7, 9), (17734808517635807839, 11, 14)]\n"
     ]
    }
   ],
   "source": [
    "new_document = nlp(u'Solar--power can be solarpower, Solar Power, or solar-power.')\n",
    "matches = matcher(new_document)\n",
    "print(matches)"
   ]
  },
  {
   "cell_type": "code",
   "execution_count": 121,
   "id": "a548e9ce",
   "metadata": {},
   "outputs": [
    {
     "name": "stdout",
     "output_type": "stream",
     "text": [
      "Reaganomics (/reɪɡəˈnɒmɪks/; a portmanteau of Reagan and economics attributed to Paul Harvey),[1] or Reaganism, were the neoliberal[2][3][4] economic policies promoted by U.S. President Ronald Reagan during the 1980s. These policies are characterized as supply-side economics, trickle-down economics, or \"voodoo economics\" by opponents,[5] while Reagan and his advocates preferred to call it free-market economics.\n",
      "\n",
      "The pillars of Reagan's economic policy included increasing defense spending, balancing the federal budget and slowing the growth of government spending, reducing the federal income tax and capital gains tax, reducing government regulation, and tightening the money supply in order to reduce inflation.[6]\n",
      "\n",
      "The results of Reaganomics are still debated. Supporters point to the end of stagflation, stronger GDP growth, and an entrepreneurial revolution in the decades that followed.[7][8] Critics point to the widening income gap, what they described as an atmosphere of greed, reduced economic mobility, and the national debt tripling in eight years which ultimately reversed the post-World War II trend of a shrinking national debt as percentage of GDP.[9][10]\n",
      "\n",
      "Historical context\n",
      "\n",
      "Prior to the Reagan administration, the United States economy experienced a decade of high unemployment and persistently high inflation (known as stagflation). Attacks on Keynesian economic orthodoxy as well as empirical economic models such as the Phillips Curve grew. Political pressure favored stimulus resulting in an expansion of the money supply. President Richard Nixon's wage and price controls were phased out.[11] The federal oil reserves were created to ease any future short term shocks. President Jimmy Carter had begun phasing out price controls on petroleum while he created the Department of Energy. Much of the credit for the resolution of the stagflation is given to two causes: renewed focus on increasing productivity[12] and a three-year contraction of the money supply by the Federal Reserve Board under Paul Volcker.[13]\n",
      "\n",
      "In stating that his intention was to lower taxes, Reagan's approach was a departure from his immediate predecessors. Reagan enacted lower marginal tax rates as well as simplified income tax codes and continued deregulation. During Reagan's eight year presidency, the annual deficits averaged 4.0% of GDP, compared to a 2.2% average during the preceding eight years.[14] The real (inflation adjusted) average rate of growth in federal spending fell from 4% under Jimmy Carter to 2.5% under Ronald Reagan.[15][16] GDP per employed person increased at an average 1.5% rate during the Reagan administration, compared to an average 0.6% during the preceding eight years.[17] Private sector productivity growth, measured as real output per hour of all persons, increased at an average rate of 1.9% during Reagan's eight years, compared to an average 1.3% during the preceding eight years.[18] Federal net outlays as a percent of GDP averaged 21.4% under Reagan, compared to 19.1% during the preceding eight years.[19]\n",
      "\n",
      "During the Nixon and Ford Administrations, before Reagan's election, a combined supply and demand side policy was considered unconventional by the moderate wing of the Republican Party. While running against Reagan for the Presidential nomination in 1980, George H. W. Bush had derided Reaganomics as \"voodoo economics\".[20] Similarly, in 1976, Gerald Ford had severely criticized Reagan's proposal to turn back a large part of the Federal budget to the states.\n",
      "\n",
      "In his 1980 campaign speeches, Reagan presented his economic proposals as a return to the free enterprise principles, free market economy that had been in favor before the Great Depression and FDR's New Deal policies. At the same time he attracted a following from the supply-side economics movement, which formed in opposition to Keynesian demand-stimulus economics. This movement produced some of the strongest supporters for Reagan's policies during his term in office.\n",
      "\n",
      "The contention of the proponents, that the tax rate cuts would more than cover any increases in federal debt, was influenced by a theoretical taxation model based on the elasticity of tax rates, known as the Laffer curve. Arthur Laffer's model predicts that excessive tax rates actually reduce potential tax revenues, by lowering the incentive to produce; the model also predicts that insufficient tax rates (rates below the optimum level for a given economy) lead directly to a reduction in tax revenues.\n",
      "\n",
      "Ronald Reagan also cited the 14th-century Arab scholar Ibn Khaldun as an influence on his supply-side economic policies, in 1981. Reagan paraphrased Ibn Khaldun, who said that \"In the beginning of the dynasty, great tax revenues were gained from small assessments,\" and that \"at the end of the dynasty, small tax revenues were gained from large assessments.\" Reagan said his goal is \"trying to get down to the small assessments and the great revenues.\"[21]\n",
      "\n",
      "\n"
     ]
    }
   ],
   "source": [
    "# Phrase Matching \n",
    "from spacy.matcher import PhraseMatcher \n",
    "\n",
    "phraseMatcher = PhraseMatcher(nlp.vocab) # creating a phrase matcher instance\n",
    "\n",
    "with open('reaganomics.txt') as file:\n",
    "    content = file.read()\n",
    "    third_doc = nlp(content)\n",
    "    \n",
    "print(third_doc)"
   ]
  },
  {
   "cell_type": "code",
   "execution_count": 122,
   "id": "ec70ec84",
   "metadata": {},
   "outputs": [],
   "source": [
    "phrases = [\"supply-side economics\", \"voodo economics\", \"free-market economics\", \"trickle-down economics\"]"
   ]
  },
  {
   "cell_type": "code",
   "execution_count": 123,
   "id": "5cf4bca8",
   "metadata": {},
   "outputs": [],
   "source": [
    "phrase_patterns = []\n",
    "for phrase in phrases:\n",
    "    doc = nlp(phrase)\n",
    "    phrase_patterns.append(doc)"
   ]
  },
  {
   "cell_type": "code",
   "execution_count": 124,
   "id": "9741048b",
   "metadata": {},
   "outputs": [
    {
     "data": {
      "text/plain": [
       "[supply-side economics,\n",
       " voodo economics,\n",
       " free-market economics,\n",
       " trickle-down economics]"
      ]
     },
     "execution_count": 124,
     "metadata": {},
     "output_type": "execute_result"
    }
   ],
   "source": [
    "phrase_patterns"
   ]
  },
  {
   "cell_type": "code",
   "execution_count": 125,
   "id": "ac38c553",
   "metadata": {},
   "outputs": [
    {
     "name": "stdout",
     "output_type": "stream",
     "text": [
      "[supply-side economics, voodo economics, free-market economics, trickle-down economics]\n"
     ]
    }
   ],
   "source": [
    "print(phrase_patterns)"
   ]
  },
  {
   "cell_type": "code",
   "execution_count": 126,
   "id": "9ba0c4b1",
   "metadata": {},
   "outputs": [
    {
     "name": "stdout",
     "output_type": "stream",
     "text": [
      "<class 'list'>\n",
      "<class 'spacy.tokens.doc.Doc'>\n"
     ]
    }
   ],
   "source": [
    "print(type(phrase_patterns))\n",
    "print(type(phrase_patterns[0])) # An element of the list of phrase patterns is of type 'spacy Doc'."
   ]
  },
  {
   "cell_type": "code",
   "execution_count": 134,
   "id": "621b1544",
   "metadata": {},
   "outputs": [
    {
     "name": "stdout",
     "output_type": "stream",
     "text": [
      "[(3680293220734633682, 39, 43), (3680293220734633682, 44, 48), (3680293220734633682, 66, 70), (3680293220734633682, 667, 671)]\n"
     ]
    }
   ],
   "source": [
    "# Instead of a single pattern as in the case of Matcher, it can take a list of patterns as an argument.\n",
    "phraseMatcher.add('EconMatcher', phrase_patterns) \n",
    "matches_lst = phraseMatcher(third_doc)\n",
    "print(matches_lst)"
   ]
  },
  {
   "cell_type": "code",
   "execution_count": 137,
   "id": "646e1909",
   "metadata": {},
   "outputs": [
    {
     "name": "stdout",
     "output_type": "stream",
     "text": [
      "3680293220734633682 EconMatcher 39 43 supply-side economics supply-side economics\n",
      "3680293220734633682 EconMatcher 44 48 trickle-down economics trickle-down economics\n",
      "3680293220734633682 EconMatcher 66 70 free-market economics free-market economics\n",
      "3680293220734633682 EconMatcher 667 671 supply-side economics supply-side economics\n"
     ]
    }
   ],
   "source": [
    "for match_id, initial_index, end_index in matches_lst:\n",
    "    string_id = nlp.vocab.strings[match_id] # get the string representation of the match id\n",
    "    matched_span = third_doc[initial_index:end_index] # get the matched span\n",
    "    print(match_id, string_id, initial_index, end_index, matched_span, matched_span.text)"
   ]
  },
  {
   "cell_type": "code",
   "execution_count": null,
   "id": "8c0bee5d",
   "metadata": {},
   "outputs": [],
   "source": []
  },
  {
   "cell_type": "code",
   "execution_count": null,
   "id": "eccd10d6",
   "metadata": {},
   "outputs": [],
   "source": []
  },
  {
   "cell_type": "code",
   "execution_count": null,
   "id": "754fd84c",
   "metadata": {},
   "outputs": [],
   "source": []
  }
 ],
 "metadata": {
  "kernelspec": {
   "display_name": "Python 3 (ipykernel)",
   "language": "python",
   "name": "python3"
  },
  "language_info": {
   "codemirror_mode": {
    "name": "ipython",
    "version": 3
   },
   "file_extension": ".py",
   "mimetype": "text/x-python",
   "name": "python",
   "nbconvert_exporter": "python",
   "pygments_lexer": "ipython3",
   "version": "3.9.12"
  }
 },
 "nbformat": 4,
 "nbformat_minor": 5
}
